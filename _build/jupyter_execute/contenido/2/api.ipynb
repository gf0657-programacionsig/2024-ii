{
 "cells": [
  {
   "cell_type": "markdown",
   "metadata": {},
   "source": [
    "# Interfaces de programación de aplicaciones (API)\n",
    "\n",
    "[![Abrir en Colab](https://colab.research.google.com/assets/colab-badge.svg)](https://colab.research.google.com/github/gf0657-programacionsig/2024-ii/blob/main/contenido/2/api.ipynb)"
   ]
  },
  {
   "cell_type": "markdown",
   "metadata": {},
   "source": [
    "## Trabajo previo"
   ]
  },
  {
   "cell_type": "markdown",
   "metadata": {},
   "source": [
    "### Lecturas"
   ]
  },
  {
   "cell_type": "markdown",
   "metadata": {},
   "source": [
    "Severance, D. C. R. (2016). *Chapter 13: Python and Web Services* en *Python for Everybody: Exploring Data in Python 3* (S. Blumenberg & E. Hauser, Eds.). CreateSpace Independent Publishing Platform. https://www.py4e.com/html3/13-web"
   ]
  },
  {
   "cell_type": "markdown",
   "metadata": {},
   "source": [
    "### Otros recursos"
   ]
  },
  {
   "cell_type": "markdown",
   "metadata": {},
   "source": [
    "Documentación oficial sobre el módulo `requests` de Python\\\n",
    "[Requests: HTTP for Humans](https://requests.readthedocs.io)\n",
    "\n",
    "Lista de API públicas gratuitas\\\n",
    "[public-apis/public-apis: A collective list of free APIs](https://github.com/public-apis/public-apis)\n",
    "\n",
    "Visualizador de JSON en línea\\\n",
    "[JSON Viewer](https://codebeautify.org/jsonviewer)"
   ]
  },
  {
   "cell_type": "markdown",
   "metadata": {},
   "source": [
    "## Introducción"
   ]
  },
  {
   "cell_type": "markdown",
   "metadata": {},
   "source": [
    "Una [**API**](https://es.wikipedia.org/wiki/API) (del inglés, *Application Programming Interface*, en español, *Interfaz de Programación de Aplicaciones*) es un conjunto de protocolos, herramientas y definiciones que permiten la comunicación y el intercambio de datos entre programas. Puede decirse que una API establece un \"contrato\" de la forma en la que pueden \"hablarse\" los programas, al definir lo que pueden solicitar, lo que pueden responder y los formatos en los que pueden realizar este \"diálogo\".\n",
    "\n",
    "Las API de tipo [**REST**](https://es.wikipedia.org/wiki/Transferencia_de_Estado_Representacional) (del inglés, *Representational State Transfer*, en español, *Transferencia de Estado Representacional*) implementan esta comunicación mediante **solicitudes (*requests*)** y **respuestas (*responses*)** del protocolo HTTP en formatos como XML y JSON."
   ]
  },
  {
   "cell_type": "markdown",
   "metadata": {},
   "source": [
    "### El protocolo HTTP"
   ]
  },
  {
   "cell_type": "markdown",
   "metadata": {},
   "source": [
    "El [**HTTP**](https://es.wikipedia.org/wiki/Protocolo_de_transferencia_de_hipertexto) (del inglés, *Hypertext Transfer Protocol*, en español, *Protocolo de Transferencia de Hipertexto*) es el protocolo de comunicación que permite la transferencia de información a través de la Web. Es un [**protocolo sin estado**](https://es.wikipedia.org/wiki/Protocolo_sin_estado), lo que significa que cada solicitud se maneja como una transacción independiente que no tiene relación con ninguna solicitud anterior, de modo que la comunicación se compone de pares independientes de solicitudes y respuestas. Al programa que realiza la solicitud se le denomina **cliente** y al que la responde se le llama **servidor**."
   ]
  },
  {
   "cell_type": "markdown",
   "metadata": {},
   "source": [
    "#### Métodos de solicitud"
   ]
  },
  {
   "cell_type": "markdown",
   "metadata": {},
   "source": [
    "HTTP define un conjunto de [métodos de solicitud](https://developer.mozilla.org/es/docs/Web/HTTP/Methods) para indicar el tipo de solicitud que un cliente desea realizar a un servidor.\n",
    "\n",
    "Los siguientes son algunos de los métodos de solicitud HTTP:\n",
    "\n",
    "- **GET**: pide datos al servidor.\n",
    "- **POST**: envía datos al servidor.\n",
    "- **DELETE**: elimina datos de un servidor.\n",
    "\n",
    "Así, por ejemplo, si un cliente desea realizar una consulta de datos, debe enviar al servidor una solicitud de tipo [GET](https://developer.mozilla.org/es/docs/Web/HTTP/Methods/GET). Por otra parte, si desea agregar o modificar datos, debe enviar una solicitud de tipo [POST](https://developer.mozilla.org/es/docs/Web/HTTP/Methods/POST)."
   ]
  },
  {
   "cell_type": "markdown",
   "metadata": {},
   "source": [
    "#### Códigos de estado de respuesta"
   ]
  },
  {
   "cell_type": "markdown",
   "metadata": {},
   "source": [
    "Al atender la solicitud de datos de un cliente, el servidor envía una respuesta con un código de estado y los datos solicitados (si logra atender la solicitud). Los [códigos de estado de respuesta](https://developer.mozilla.org/es/docs/Web/HTTP/Status) de HTTP indican si se ha completado satisfactoriamente la solicitud. Estos códigos se agrupan en cinco clases:\n",
    "\n",
    "- **Códigos del 100 al 199**: respuestas informativas.\n",
    "- **Códigos del 200 al 299**: respuestas satisfactorias.\n",
    "- **Códigos del 300 al 399**: redireccionamientos.\n",
    "- **Códigos del 400 al 499**: errores del cliente.\n",
    "- **Códigos del 500 al 599**: errores del servidor.\n",
    "\n",
    "Por ejemplo, una respuesta con el código [200 (OK)](https://developer.mozilla.org/es/docs/Web/HTTP/Status/200) significa que la solicitud tuvo éxito. Por otra parte, el código [404 (Not found)](https://developer.mozilla.org/es/docs/Web/HTTP/Status/404) indica que el servidor no pudo encontrar el recurso solicitado."
   ]
  },
  {
   "cell_type": "markdown",
   "metadata": {},
   "source": [
    "### Formatos de intercambio de datos"
   ]
  },
  {
   "cell_type": "markdown",
   "metadata": {},
   "source": [
    "Existen dos formatos de uso común para intercambiar datos a través de la Web; XML y JSON. XML es más adecuado para documentos completos (ej. documentos de texto, hojas de cálculo, diagramas, metadatos), mientras que JSON se utiliza para elementos de datos más específicos, representados en estructuras similares a las listas y diccionarios de Python."
   ]
  },
  {
   "cell_type": "markdown",
   "metadata": {},
   "source": [
    "#### XML"
   ]
  },
  {
   "cell_type": "markdown",
   "metadata": {},
   "source": [
    "El [XML](https://es.wikipedia.org/wiki/Extensible_Markup_Language) (del inglés, *Extensible Markup Language*, en español, *Lenguaje de Marcado Extensible*) es un metalenguaje que permite definir lenguajes de marcas. Su formato, basado en texto, es legible tanto para computadoras como para personas. Es un estándar del [World Wide Web Consortium (W3C)](https://es.wikipedia.org/wiki/World_Wide_Web_Consortium), una organización internacional encargada de mantener estándares para la Web tales como [HTML](https://es.wikipedia.org/wiki/HTML), [CSS](https://es.wikipedia.org/wiki/CSS), [DOM](https://es.wikipedia.org/wiki/Document_Object_Model) y [SVG](https://es.wikipedia.org/wiki/Gr%C3%A1ficos_vectoriales_escalables), entre otros. La primera versión de XML se publicó en 1998.\n",
    "\n",
    "El siguiente en un ejemplo de un documento XML:"
   ]
  },
  {
   "cell_type": "markdown",
   "metadata": {},
   "source": [
    "```xml\n",
    "<?xml version=\"1.0\" encoding=\"UTF-8\" ?>\n",
    "<persona>\n",
    "  <nombre>Juan Pérez</nombre>\n",
    "  <telefono tipo=\"intl\">\n",
    "    +1 734 303 4456\n",
    "  </telefono>\n",
    "  <email oculto=\"sí\" />\n",
    "</persona>\n",
    "```"
   ]
  },
  {
   "cell_type": "markdown",
   "metadata": {},
   "source": [
    "Cada par de etiquetas de apertura y cierre (ej. `<persona>` y `</persona>`) representa un *elemento* o *nodo*. Cada elemento puede tener texto, atributos (ej. `tipo`, `oculto`) y otros elementos anidados. Si un elemento XML está vacío (es decir, no tiene contenido), puede representarse mediante una etiqueta de autocierre (ej. `<email />`).\n",
    "\n",
    "Python proporciona diversas herramientas para procesar datos XML en el paquete [xml](https://docs.python.org/3/library/xml.html)."
   ]
  },
  {
   "cell_type": "markdown",
   "metadata": {},
   "source": [
    "#### JSON"
   ]
  },
  {
   "cell_type": "markdown",
   "metadata": {},
   "source": [
    "[JSON](https://es.wikipedia.org/wiki/JSON) (del inglés, *JavaScript Object Notation*, en español, *Notación de Objetos de JavaScript*) es un formato de texto sencillo para el intercambio de datos. Proviene de la sintaxis del lenguaje de programación [JavaScript](https://es.wikipedia.org/wiki/JavaScript) para representar arreglos y objetos, la cual está influenciada por la sintaxis de Python para representar listas y diccionarios. Por este motivo, la representación de conjuntos de datos en JSON es prácticamente idéntica a la de Python. JSON fue descrito por [Douglas Crockford](https://es.wikipedia.org/wiki/Douglas_Crockford) a inicios de la década de 2000. Es un estándar de la [Organización Internacional de Estándares (ISO)](https://es.wikipedia.org/wiki/Organizaci%C3%B3n_Internacional_de_Normalizaci%C3%B3n) desde 2017.\n",
    "\n",
    "El siguiente en un ejemplo de sintaxis JSON equivalente a la de XML presentada anteriormente:"
   ]
  },
  {
   "cell_type": "markdown",
   "metadata": {},
   "source": [
    "```json\n",
    "{\n",
    "  \"nombre\" : \"Juan Pérez\",\n",
    "  \"telefono\" : {\n",
    "    \"tipo\" : \"intl\",\n",
    "    \"numero\" : \"+1 734 303 4456\"\n",
    "   },\n",
    "   \"email\" : {\n",
    "     \"oculto\" : \"sí\"\n",
    "   }\n",
    "}\n",
    "```"
   ]
  },
  {
   "cell_type": "markdown",
   "metadata": {},
   "source": [
    "Pueden notarse algunas diferencias con XML. En primer lugar, mientras que en XML pueden añadirse atributos como `tipo` a etiquetas como `telefono`, en JSON solamente se usan pares `\"llave\": valor`. También ha desaparecido el elemento `persona` de XML y se ha sustituido por una llave de apertura (`{`) y otra de cierre (`}`).\n",
    "\n",
    "En general, las estructuras de datos representadas mediante JSON son más sencillas que las representadas en XML, debido a que JSON tiene menos capacidades que XML. Sin embargo, JSON tiene la ventaja de que mapea directamente a combinaciones de diccionarios y listas. Y como prácticamente todos los lenguajes de programación tienen algo equivalente a los diccionarios y listas de Python, JSON es un formato muy natural para que dos programas intercambien datos en cualquier lenguaje de programación.\n",
    "\n",
    "JSON se ha posicionado como el formato preferido para el intercambio de datos entre aplicaciones, debido a su relativa simplicidad en comparación con XML.\n",
    "\n",
    "El paquete [json](https://docs.python.org/3/library/json.html) de Python proporciona varias funciones para manejar datos en formato JSON."
   ]
  },
  {
   "cell_type": "markdown",
   "metadata": {},
   "source": [
    "## El paquete `requests` de Python"
   ]
  },
  {
   "cell_type": "markdown",
   "metadata": {},
   "source": [
    "El paquete [requests](https://requests.readthedocs.io) de Python es una biblioteca ampliamente utilizada para hacer solicitudes HTTP. Se utiliza para interactuar con API, descargar archivos y, en general, hacer solicitudes web.\n",
    "\n",
    "Entre los principales métodos de `requests` están:\n",
    "\n",
    "[`get()`](https://requests.readthedocs.io/en/latest/api/#requests.get): para enviar una solicitud HTTP GET a una URL.\n",
    "\n",
    "[`json()`](https://requests.readthedocs.io/en/latest/api/#requests.Response.json): para analizar y convertir el contenido JSON de una respuesta HTTP."
   ]
  },
  {
   "cell_type": "markdown",
   "metadata": {},
   "source": [
    "### Ejemplo de uso"
   ]
  },
  {
   "cell_type": "code",
   "execution_count": 1,
   "metadata": {},
   "outputs": [
    {
     "name": "stdout",
     "output_type": "stream",
     "text": [
      "{'login': 'octocat', 'id': 583231, 'node_id': 'MDQ6VXNlcjU4MzIzMQ==', 'avatar_url': 'https://avatars.githubusercontent.com/u/583231?v=4', 'gravatar_id': '', 'url': 'https://api.github.com/users/octocat', 'html_url': 'https://github.com/octocat', 'followers_url': 'https://api.github.com/users/octocat/followers', 'following_url': 'https://api.github.com/users/octocat/following{/other_user}', 'gists_url': 'https://api.github.com/users/octocat/gists{/gist_id}', 'starred_url': 'https://api.github.com/users/octocat/starred{/owner}{/repo}', 'subscriptions_url': 'https://api.github.com/users/octocat/subscriptions', 'organizations_url': 'https://api.github.com/users/octocat/orgs', 'repos_url': 'https://api.github.com/users/octocat/repos', 'events_url': 'https://api.github.com/users/octocat/events{/privacy}', 'received_events_url': 'https://api.github.com/users/octocat/received_events', 'type': 'User', 'site_admin': False, 'name': 'The Octocat', 'company': '@github', 'blog': 'https://github.blog', 'location': 'San Francisco', 'email': None, 'hireable': None, 'bio': None, 'twitter_username': None, 'public_repos': 8, 'public_gists': 8, 'followers': 14959, 'following': 9, 'created_at': '2011-01-25T18:44:36Z', 'updated_at': '2024-08-22T11:25:04Z'}\n"
     ]
    }
   ],
   "source": [
    "import requests\n",
    "\n",
    "# Solicitud GET\n",
    "respuesta = requests.get('https://api.github.com/users/octocat')\n",
    "\n",
    "# Verificación de la respuestas\n",
    "if respuesta.status_code == 200:\n",
    "    datos = respuesta.json()  # Se convierte la respuesta a JSON\n",
    "    print(datos)\n",
    "else:\n",
    "    print(f\"Error: {respuesta.status_code}\")"
   ]
  },
  {
   "cell_type": "markdown",
   "metadata": {},
   "source": [
    "Puede utilizarse el método [`dumps()`](https://docs.python.org/3/library/json.html#json.dumps) del paquete `json` para mejorar la legibilidad de los datos en formato JSON."
   ]
  },
  {
   "cell_type": "code",
   "execution_count": 2,
   "metadata": {},
   "outputs": [
    {
     "name": "stdout",
     "output_type": "stream",
     "text": [
      "{\n",
      "    \"login\": \"octocat\",\n",
      "    \"id\": 583231,\n",
      "    \"node_id\": \"MDQ6VXNlcjU4MzIzMQ==\",\n",
      "    \"avatar_url\": \"https://avatars.githubusercontent.com/u/583231?v=4\",\n",
      "    \"gravatar_id\": \"\",\n",
      "    \"url\": \"https://api.github.com/users/octocat\",\n",
      "    \"html_url\": \"https://github.com/octocat\",\n",
      "    \"followers_url\": \"https://api.github.com/users/octocat/followers\",\n",
      "    \"following_url\": \"https://api.github.com/users/octocat/following{/other_user}\",\n",
      "    \"gists_url\": \"https://api.github.com/users/octocat/gists{/gist_id}\",\n",
      "    \"starred_url\": \"https://api.github.com/users/octocat/starred{/owner}{/repo}\",\n",
      "    \"subscriptions_url\": \"https://api.github.com/users/octocat/subscriptions\",\n",
      "    \"organizations_url\": \"https://api.github.com/users/octocat/orgs\",\n",
      "    \"repos_url\": \"https://api.github.com/users/octocat/repos\",\n",
      "    \"events_url\": \"https://api.github.com/users/octocat/events{/privacy}\",\n",
      "    \"received_events_url\": \"https://api.github.com/users/octocat/received_events\",\n",
      "    \"type\": \"User\",\n",
      "    \"site_admin\": false,\n",
      "    \"name\": \"The Octocat\",\n",
      "    \"company\": \"@github\",\n",
      "    \"blog\": \"https://github.blog\",\n",
      "    \"location\": \"San Francisco\",\n",
      "    \"email\": null,\n",
      "    \"hireable\": null,\n",
      "    \"bio\": null,\n",
      "    \"twitter_username\": null,\n",
      "    \"public_repos\": 8,\n",
      "    \"public_gists\": 8,\n",
      "    \"followers\": 14959,\n",
      "    \"following\": 9,\n",
      "    \"created_at\": \"2011-01-25T18:44:36Z\",\n",
      "    \"updated_at\": \"2024-08-22T11:25:04Z\"\n",
      "}\n"
     ]
    }
   ],
   "source": [
    "import json\n",
    "\n",
    "# Formateao del JSON para que sea más legible\n",
    "json_formateado = json.dumps(datos, indent=4, ensure_ascii=False)\n",
    "    \n",
    "# Despliegue del JSON formateado\n",
    "print(json_formateado)"
   ]
  },
  {
   "cell_type": "markdown",
   "metadata": {},
   "source": [
    "Opcionalmente, los datos pueden almacenarse en un archivo con el método [`json.dump()`](https://docs.python.org/3/library/json.html#json.dump)."
   ]
  },
  {
   "cell_type": "code",
   "execution_count": 3,
   "metadata": {},
   "outputs": [],
   "source": [
    "# Almacenamiento de datos JSON en un archivo\n",
    "with open('datos.json', 'w', encoding='utf-8') as archivo:\n",
    "    json.dump(datos, archivo, indent=4, ensure_ascii=False)"
   ]
  },
  {
   "cell_type": "markdown",
   "metadata": {},
   "source": [
    "## Ejemplos de uso de API"
   ]
  },
  {
   "cell_type": "markdown",
   "metadata": {},
   "source": [
    "En esta sección se presentan varios ejemplos de uso de API sobre diferentes temáticas, mediante el módulo `requests` del lenguaje de programación Python."
   ]
  },
  {
   "cell_type": "markdown",
   "metadata": {},
   "source": [
    "### GitHub REST API "
   ]
  },
  {
   "cell_type": "markdown",
   "metadata": {},
   "source": [
    "La plataforma de desarrollo colaborativo [GitHub](https://github.com) cuenta con un [API de tipo REST](https://docs.github.com/en/rest) que permite recuperar información y automatizar flujos de trabajo, entre otras tareas.\n",
    "\n",
    "Seguidamente, se muestran algunos ejemplos de uso de esta API."
   ]
  },
  {
   "cell_type": "markdown",
   "metadata": {},
   "source": [
    "#### Consulta de datos de usuarios"
   ]
  },
  {
   "cell_type": "markdown",
   "metadata": {},
   "source": [
    "Documentación \\\n",
    "[REST API endpoints for users - GitHub Docs](https://docs.github.com/en/rest/users/users)"
   ]
  },
  {
   "cell_type": "code",
   "execution_count": 4,
   "metadata": {},
   "outputs": [],
   "source": [
    "# Nombre del usuario\n",
    "usuario = 'octocat'\n",
    "\n",
    "# URL\n",
    "url = f'https://api.github.com/users/{usuario}'"
   ]
  },
  {
   "cell_type": "code",
   "execution_count": 5,
   "metadata": {},
   "outputs": [],
   "source": [
    "# Consulta\n",
    "respuesta = requests.get(url)"
   ]
  },
  {
   "cell_type": "code",
   "execution_count": 6,
   "metadata": {},
   "outputs": [
    {
     "name": "stdout",
     "output_type": "stream",
     "text": [
      "<Response [200]>\n"
     ]
    }
   ],
   "source": [
    "# Código HTTP\n",
    "print(respuesta)"
   ]
  },
  {
   "cell_type": "code",
   "execution_count": 7,
   "metadata": {},
   "outputs": [
    {
     "name": "stdout",
     "output_type": "stream",
     "text": [
      "{'login': 'octocat', 'id': 583231, 'node_id': 'MDQ6VXNlcjU4MzIzMQ==', 'avatar_url': 'https://avatars.githubusercontent.com/u/583231?v=4', 'gravatar_id': '', 'url': 'https://api.github.com/users/octocat', 'html_url': 'https://github.com/octocat', 'followers_url': 'https://api.github.com/users/octocat/followers', 'following_url': 'https://api.github.com/users/octocat/following{/other_user}', 'gists_url': 'https://api.github.com/users/octocat/gists{/gist_id}', 'starred_url': 'https://api.github.com/users/octocat/starred{/owner}{/repo}', 'subscriptions_url': 'https://api.github.com/users/octocat/subscriptions', 'organizations_url': 'https://api.github.com/users/octocat/orgs', 'repos_url': 'https://api.github.com/users/octocat/repos', 'events_url': 'https://api.github.com/users/octocat/events{/privacy}', 'received_events_url': 'https://api.github.com/users/octocat/received_events', 'type': 'User', 'site_admin': False, 'name': 'The Octocat', 'company': '@github', 'blog': 'https://github.blog', 'location': 'San Francisco', 'email': None, 'hireable': None, 'bio': None, 'twitter_username': None, 'public_repos': 8, 'public_gists': 8, 'followers': 14959, 'following': 9, 'created_at': '2011-01-25T18:44:36Z', 'updated_at': '2024-08-22T11:25:04Z'}\n"
     ]
    }
   ],
   "source": [
    "# Datos retornados en formato JSON\n",
    "if respuesta.status_code == 200:\n",
    "    print(respuesta.json())\n",
    "else:\n",
    "    print('Error al obtener los datos.')"
   ]
  },
  {
   "cell_type": "code",
   "execution_count": 8,
   "metadata": {},
   "outputs": [
    {
     "name": "stdout",
     "output_type": "stream",
     "text": [
      "Nombre: The Octocat\n",
      "Bio: None\n",
      "Repositorios Públicos: 8\n"
     ]
    }
   ],
   "source": [
    "if respuesta.status_code == 200:\n",
    "    datos = respuesta.json()\n",
    "    print(f\"Nombre: {datos['name']}\")\n",
    "    print(f\"Bio: {datos['bio']}\")\n",
    "    print(f\"Repositorios Públicos: {datos['public_repos']}\")\n",
    "else:\n",
    "    print('Error al obtener los datos.')"
   ]
  },
  {
   "cell_type": "markdown",
   "metadata": {},
   "source": [
    "### REST Countries"
   ]
  },
  {
   "cell_type": "markdown",
   "metadata": {},
   "source": [
    "Documentación \\\n",
    "[REST Countries](https://restcountries.com/)"
   ]
  },
  {
   "cell_type": "markdown",
   "metadata": {},
   "source": [
    "```python\n",
    "pais = input(\"Ingrese el nombre de un país: \")\n",
    "url = f'https://restcountries.com/v3.1/name/{pais}'\n",
    "\n",
    "respuesta = requests.get(url)\n",
    "\n",
    "if respuesta.status_code == 200:\n",
    "    datos = respuesta.json()\n",
    "    try:\n",
    "        pais_datos = datos[0]\n",
    "\n",
    "        nombre_comun = pais_datos['name']['common']\n",
    "        capital = pais_datos.get('capital', ['No disponible'])[0]\n",
    "        region = pais_datos.get('region', 'No disponible')\n",
    "        poblacion = pais_datos.get('population', 'No disponible')\n",
    "        monedas = pais_datos.get('currencies', {})\n",
    "        idiomas = pais_datos.get('languages', {})\n",
    "\n",
    "        # Obtener los nombres de las monedas\n",
    "        nombres_monedas = ', '.join([moneda['name'] for moneda in monedas.values()])\n",
    "\n",
    "        # Obtener los nombres de los idiomas\n",
    "        nombres_idiomas = ', '.join(idiomas.values())\n",
    "\n",
    "        print(f\"\\nInformación sobre {nombre_comun}:\")\n",
    "        print(f\"Capital: {capital}\")\n",
    "        print(f\"Región: {region}\")\n",
    "        print(f\"Población: {poblacion} habitantes\")\n",
    "        print(f\"Moneda(s): {nombres_monedas}\")\n",
    "        print(f\"Idioma(s): {nombres_idiomas}\")\n",
    "    except (KeyError, IndexError) as e:\n",
    "        print(\"No se pudo procesar la información del país.\")\n",
    "else:\n",
    "    print('Error al obtener los datos de la API.')\n",
    "```\n"
   ]
  },
  {
   "cell_type": "markdown",
   "metadata": {},
   "source": [
    "### USGS Earthquake Catalog REST API"
   ]
  },
  {
   "cell_type": "markdown",
   "metadata": {},
   "source": [
    "Documentación \\\n",
    "[API Documentation - Earthquake Catalog](https://earthquake.usgs.gov/fdsnws/event/1/)"
   ]
  },
  {
   "cell_type": "code",
   "execution_count": 9,
   "metadata": {},
   "outputs": [
    {
     "name": "stdout",
     "output_type": "stream",
     "text": [
      "Fecha y hora: 2009-11-20 17:22:28\n",
      "Lugar: 64 km NNE of Matina, Costa Rica\n",
      "Magnitud: 5.2\n",
      "Más información: https://earthquake.usgs.gov/earthquakes/eventpage/usp000h48n\n",
      "----------------------------------------\n",
      "Fecha y hora: 2009-09-06 05:02:44\n",
      "Lugar: 3 km SSE of Corredor, Costa Rica\n",
      "Magnitud: 5.1\n",
      "Más información: https://earthquake.usgs.gov/earthquakes/eventpage/usp000h191\n",
      "----------------------------------------\n",
      "Fecha y hora: 2009-05-08 08:33:53\n",
      "Lugar: 4 km NNW of Río Sereno, Panama\n",
      "Magnitud: 5\n",
      "Más información: https://earthquake.usgs.gov/earthquakes/eventpage/usp000gwxr\n",
      "----------------------------------------\n",
      "Fecha y hora: 2009-03-13 17:33:12\n",
      "Lugar: 6 km WSW of Golfito, Costa Rica\n",
      "Magnitud: 5.1\n",
      "Más información: https://earthquake.usgs.gov/earthquakes/eventpage/usp000guyu\n",
      "----------------------------------------\n",
      "Fecha y hora: 2009-03-11 21:03:58\n",
      "Lugar: 15 km SW of Golfito, Costa Rica\n",
      "Magnitud: 5.9\n",
      "Más información: https://earthquake.usgs.gov/earthquakes/eventpage/usp000guvb\n",
      "----------------------------------------\n",
      "Fecha y hora: 2009-03-11 17:26:52\n",
      "Lugar: 2 km ENE of Golfito, Costa Rica\n",
      "Magnitud: 5.3\n",
      "Más información: https://earthquake.usgs.gov/earthquakes/eventpage/usp000guv7\n",
      "----------------------------------------\n",
      "Fecha y hora: 2009-03-11 17:24:36\n",
      "Lugar: 15 km SW of Golfito, Costa Rica\n",
      "Magnitud: 5.9\n",
      "Más información: https://earthquake.usgs.gov/earthquakes/eventpage/usp000guv5\n",
      "----------------------------------------\n",
      "Fecha y hora: 2009-01-08 19:21:35\n",
      "Lugar: 10 km NNE of Sabanilla, Costa Rica\n",
      "Magnitud: 6.1\n",
      "Más información: https://earthquake.usgs.gov/earthquakes/eventpage/usp000gscg\n",
      "----------------------------------------\n"
     ]
    }
   ],
   "source": [
    "from datetime import datetime, timezone\n",
    "\n",
    "# URL base\n",
    "url = 'https://earthquake.usgs.gov/fdsnws/event/1/query'\n",
    "\n",
    "# Parámetros de la solicitud\n",
    "parametros = {\n",
    "    'format': 'geojson',\n",
    "    'starttime': '2009-01-01',  # Fecha inicial\n",
    "    'endtime': '2009-12-31',    # Fecha final\n",
    "    'minlatitude': 8.0,         # Latitud mínima de Costa Rica\n",
    "    'maxlatitude': 11.5,        # Latitud máxima de Costa Rica\n",
    "    'minlongitude': -86.0,      # Longitud mínima de Costa Rica\n",
    "    'maxlongitude': -82.0,      # Longitud máxima de Costa Rica\n",
    "    'minmagnitude': 5           # Magnitud mínima del terremoto\n",
    "}\n",
    "\n",
    "# Solicitud\n",
    "respuesta = requests.get(url, params=parametros)\n",
    "\n",
    "# Se verifica si la solicitud fue exitosa\n",
    "if respuesta.status_code == 200:\n",
    "    datos = respuesta.json()\n",
    "    terremotos = datos['features']  # Lista de terremotos\n",
    "\n",
    "    # Se muestra información sobre cada terremoto\n",
    "    for terremoto in terremotos:\n",
    "        propiedades = terremoto['properties']\n",
    "\n",
    "        # Conversión del tiempo a un formato legible\n",
    "        timestamp = propiedades['time'] / 1000  # Conversión de milisegundos a segundos\n",
    "        fecha_hora = datetime.fromtimestamp(timestamp, tz=timezone.utc).strftime('%Y-%m-%d %H:%M:%S')\n",
    "\n",
    "        print(f\"Fecha y hora: {fecha_hora}\")\n",
    "        print(f\"Lugar: {propiedades['place']}\")\n",
    "        print(f\"Magnitud: {propiedades['mag']}\")\n",
    "        print(f\"Más información: {propiedades['url']}\")\n",
    "        print(\"-\" * 40)\n",
    "else:\n",
    "    print(f\"Error al obtener datos: {respuesta.status_code}\")"
   ]
  },
  {
   "cell_type": "code",
   "execution_count": 10,
   "metadata": {},
   "outputs": [],
   "source": [
    "# Almacenamiento de datos en un archivo\n",
    "with open('terremotos.geojson', 'w', encoding='utf-8') as archivo:\n",
    "    json.dump(datos, archivo, indent=4, ensure_ascii=False)"
   ]
  }
 ],
 "metadata": {
  "kernelspec": {
   "display_name": "Python 3 (ipykernel)",
   "language": "python",
   "name": "python3"
  },
  "language_info": {
   "codemirror_mode": {
    "name": "ipython",
    "version": 3
   },
   "file_extension": ".py",
   "mimetype": "text/x-python",
   "name": "python",
   "nbconvert_exporter": "python",
   "pygments_lexer": "ipython3",
   "version": "3.12.5"
  }
 },
 "nbformat": 4,
 "nbformat_minor": 2
}