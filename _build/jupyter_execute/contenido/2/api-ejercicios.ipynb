{
 "cells": [
  {
   "cell_type": "markdown",
   "metadata": {},
   "source": [
    "#### Tiempo actual"
   ]
  },
  {
   "cell_type": "code",
   "execution_count": 1,
   "metadata": {},
   "outputs": [
    {
     "name": "stdout",
     "output_type": "stream",
     "text": [
      "Lugar: El Prado\n",
      "Tiempo: muy nuboso\n",
      "Temperatura actual: 21.25°C\n",
      "Humedad: 91%\n",
      "Velocidad del viento: 3.58 m/s\n"
     ]
    }
   ],
   "source": [
    "import requests\n",
    "import json\n",
    "\n",
    "# URL\n",
    "url = 'https://api.openweathermap.org/data/2.5/weather'\n",
    "\n",
    "# API KEY de OpenWeatherMap (debe sustituirse por una real)\n",
    "API_KEY = 'xxxxxxxxxxxxxxxxxxxxxxxxxxxxxxxx'\n",
    "API_KEY = '993543708c515d1daf120b83bd32087a'\n",
    "\n",
    "# Parámetros de la solicitud GET\n",
    "parametros = {\n",
    "    'lat': 9.93737623,   # Latitud decimal de la Escuela de Geografía de la UCR\n",
    "    'lon': -84.04258876, # Longitud decimal de la Escuela de Geografía de la UCR\n",
    "    'appid': API_KEY,    # API_KEY de OpenWeatherMap\n",
    "    'units': 'metric',   # Unidades métricas\n",
    "    'lang': 'es'         # Idioma español\n",
    "}\n",
    "\n",
    "# Solicitud GET\n",
    "respuesta = requests.get(url, params=parametros)\n",
    "\n",
    "# Se verifica si la solicitud fue exitosa\n",
    "if respuesta.status_code == 200:\n",
    "    # La solicitud fue exitosa\n",
    "\n",
    "    # Se cargan en formato JSON los datos retornados\n",
    "    datos_tiempo = respuesta.json()\n",
    "\n",
    "    # Se extraen datos específicos\n",
    "    print(f\"Lugar: {datos_tiempo['name']}\")\n",
    "    print(f\"Tiempo: {datos_tiempo['weather'][0]['description']}\")\n",
    "    print(f\"Temperatura actual: {datos_tiempo['main']['temp']}°C\")\n",
    "    print(f\"Humedad: {datos_tiempo['main']['humidity']}%\")\n",
    "    print(f\"Velocidad del viento: {datos_tiempo['wind']['speed']} m/s\")\n",
    "\n",
    "    # Almacenamiento de datos en un archivo llamado \"tiempo.json\"\n",
    "    with open('tiempo.json', 'w', encoding='utf-8') as archivo:\n",
    "        json.dump(datos_tiempo, archivo, indent=4, ensure_ascii=False)\n",
    "else:\n",
    "    # Se produjo un error\n",
    "    print(f\"Error {respuesta.status_code}\")"
   ]
  }
 ],
 "metadata": {
  "kernelspec": {
   "display_name": "base",
   "language": "python",
   "name": "python3"
  },
  "language_info": {
   "codemirror_mode": {
    "name": "ipython",
    "version": 3
   },
   "file_extension": ".py",
   "mimetype": "text/x-python",
   "name": "python",
   "nbconvert_exporter": "python",
   "pygments_lexer": "ipython3",
   "version": "3.12.5"
  }
 },
 "nbformat": 4,
 "nbformat_minor": 2
}