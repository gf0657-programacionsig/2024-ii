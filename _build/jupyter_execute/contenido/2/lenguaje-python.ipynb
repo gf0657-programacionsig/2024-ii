{
 "cells": [
  {
   "cell_type": "markdown",
   "metadata": {},
   "source": [
    "# El lenguaje Python\n",
    "\n",
    "[![Abrir en Colab](https://colab.research.google.com/assets/colab-badge.svg)](https://colab.research.google.com/github/gf0657-programacionsig/2024-ii/blob/main/contenido/2/lenguaje-python.ipynb)"
   ]
  },
  {
   "cell_type": "markdown",
   "metadata": {},
   "source": [
    "## Trabajo previo\n",
    "\n",
    "### Lecturas\n",
    "Severance, D. C. R. (2016). *Python for Everybody: Exploring Data in Python 3* (S. Blumenberg & E. Hauser, Eds.). CreateSpace Independent Publishing Platform. [https://www.py4e.com/html3/](https://www.py4e.com/html3/)\n",
    "\n",
    "Downey, Allen B. (2024). *Think Python: How to Think Like a Computer Scientist* (3rd ed.). O’Reilly Media. [https://greenteapress.com/wp/think-python-3rd-edition/](https://greenteapress.com/wp/think-python-3rd-edition/)\n",
    "\n",
    "### Otros recursos\n",
    "[Documentación oficial de Python](https://docs.python.org/)\n",
    "\n",
    "  - [Referencia del lenguaje Python](https://docs.python.org/3/reference/)\n",
    "  - [La biblioteca estándar de Python](https://docs.python.org/3/library/index.html#library-index)\n",
    "  - [Tutorial de Python](https://docs.python.org/3/tutorial/index.html#tutorial-index)"
   ]
  },
  {
   "cell_type": "markdown",
   "metadata": {},
   "source": [
    "## Introducción\n",
    "Este capítulo contiene un resumen de la sintaxis del lenguaje de programación Python."
   ]
  },
  {
   "cell_type": "markdown",
   "metadata": {},
   "source": [
    "## Comentarios"
   ]
  },
  {
   "cell_type": "markdown",
   "metadata": {},
   "source": [
    "Python permite varios tipos de comentarios en el código fuente. Las convenciones generales para su uso se detallan en [PEP 8 -- Style Guide for Python Code - Comments](https://www.python.org/dev/peps/pep-0008/#comments)."
   ]
  },
  {
   "cell_type": "markdown",
   "metadata": {},
   "source": [
    "### De una línea"
   ]
  },
  {
   "cell_type": "markdown",
   "metadata": {},
   "source": [
    "Se definen con el símbolo `#` (*hash*). Por ejemplo:"
   ]
  },
  {
   "cell_type": "code",
   "execution_count": 1,
   "metadata": {},
   "outputs": [
    {
     "name": "stdout",
     "output_type": "stream",
     "text": [
      "El IMC es 25.26\n"
     ]
    }
   ],
   "source": [
    "# Cálculo del índice de masa corporal (IMC)\n",
    "\n",
    "peso = 73 # peso en kilogramos\n",
    "estatura = 1.70 # estatura en metros\n",
    "\n",
    "imc = peso/estatura**2\n",
    "\n",
    "print(\"El IMC es {imc:.2f}\".format(imc=imc))"
   ]
  },
  {
   "cell_type": "markdown",
   "metadata": {},
   "source": [
    "### De múltiples líneas"
   ]
  },
  {
   "cell_type": "markdown",
   "metadata": {},
   "source": [
    "Python no tiene soporte explícito para comentarios de varias líneas. Sin embargo, se pueden implementar de dos formas:"
   ]
  },
  {
   "cell_type": "markdown",
   "metadata": {},
   "source": [
    "1. Con varias líneas iniciadas con `#`:"
   ]
  },
  {
   "cell_type": "code",
   "execution_count": 2,
   "metadata": {},
   "outputs": [],
   "source": [
    "# Línea 1\n",
    "# Línea 2\n",
    "# Línea 3"
   ]
  },
  {
   "cell_type": "markdown",
   "metadata": {},
   "source": [
    "2. Con bloques de líneas delimitados con `\"\"\"` (tres comillas dobles) al inicio y al final:"
   ]
  },
  {
   "cell_type": "code",
   "execution_count": 3,
   "metadata": {},
   "outputs": [
    {
     "data": {
      "text/plain": [
       "'\\nLínea 1\\nLínea 2\\nLínea 3  \\n'"
      ]
     },
     "execution_count": 3,
     "metadata": {},
     "output_type": "execute_result"
    }
   ],
   "source": [
    "\"\"\"\n",
    "Línea 1\n",
    "Línea 2\n",
    "Línea 3  \n",
    "\"\"\""
   ]
  },
  {
   "cell_type": "markdown",
   "metadata": {},
   "source": [
    "### docstrings"
   ]
  },
  {
   "cell_type": "markdown",
   "metadata": {},
   "source": [
    "Las *docstrings* son una forma de documentar módulos, funciones, clases y métodos de Python. Se agregan debajo del encabezado y están delimitados con `\"\"\"` (tres comillas dobles) al inicio y al final.\n",
    "\n",
    "Pueden contener una o varias líneas. En este último caso, la primera línea es una descripción corta y es seguida de una línea en blanco, previa a las líneas restantes. Deben iniciar con mayúscula y finalizar con punto."
   ]
  },
  {
   "cell_type": "markdown",
   "metadata": {},
   "source": [
    "*docstring* de una línea:"
   ]
  },
  {
   "cell_type": "code",
   "execution_count": 4,
   "metadata": {},
   "outputs": [
    {
     "name": "stdout",
     "output_type": "stream",
     "text": [
      "Cálculo del índice de masa corporal (IMC).\n"
     ]
    }
   ],
   "source": [
    "def imc(peso, estatura):\n",
    "    \"\"\"Cálculo del índice de masa corporal (IMC).\"\"\"\n",
    "    return peso/estatura**2\n",
    "\n",
    "print(imc.__doc__)"
   ]
  },
  {
   "cell_type": "markdown",
   "metadata": {},
   "source": [
    "*docstring* de varias líneas:"
   ]
  },
  {
   "cell_type": "code",
   "execution_count": 5,
   "metadata": {},
   "outputs": [
    {
     "name": "stdout",
     "output_type": "stream",
     "text": [
      "Cálculo del índice de masa corporal (IMC)\n",
      "    \n",
      "    El IMC es una razón matemática que asocia el peso y la estatura de un individuo, \n",
      "    ideada por el estadístico belga Adolphe Quetelet, \n",
      "    por lo que también se conoce como índice de Quetelet. \n",
      "    \n"
     ]
    }
   ],
   "source": [
    "def imc2(peso, estatura):\n",
    "    \"\"\"Cálculo del índice de masa corporal (IMC)\n",
    "    \n",
    "    El IMC es una razón matemática que asocia el peso y la estatura de un individuo, \n",
    "    ideada por el estadístico belga Adolphe Quetelet, \n",
    "    por lo que también se conoce como índice de Quetelet. \n",
    "    \"\"\"\n",
    "    \n",
    "    return peso/estatura**2\n",
    "\n",
    "print(imc2.__doc__)"
   ]
  },
  {
   "cell_type": "markdown",
   "metadata": {},
   "source": [
    "Varias herramientas pueden generar documentación a partir de *docstrings*. Entre estas, pueden mencionarse [Doxygen](http://www.doxygen.nl/), [pydoc](https://docs.python.org/3/library/pydoc.html) y [Sphinx](https://www.sphinx-doc.org/).\n",
    "\n",
    "Las convenciones para el uso de *docstrings* se detallan en [PEP 257 -- Docstring Conventions](https://www.python.org/dev/peps/pep-0257/)."
   ]
  },
  {
   "cell_type": "markdown",
   "metadata": {},
   "source": [
    "## Tipos de datos\n",
    "Python puede trabajar con una gran variedad de tipos de datos, entre los que están los siguientes:\n",
    "\n",
    "<table>\n",
    "\n",
    "<tr><th>Nombre</th><th>Palabra reservada</th><th>Descripción</th></tr>\n",
    "\n",
    "<tr><td>Enteros</td><td>int</td><td>Números enteros: 0, 20, -34</td></tr>\n",
    "<tr><td>Punto flotante</td><td>float</td><td>Números con punto decimal: 0.1, 35.0, -100.5</td></tr>\n",
    "<tr><td>Booleanos</td><td>bool</td><td>Valores lógicos de <strong>True</strong> (verdadero) o <strong>False</strong> (falso)</td></tr>\n",
    "<tr><td>Hileras</td><td>str</td><td>Secuencias ordenadas de caracteres: \"Python\", \"Hola mundo\"</td></tr>\n",
    "<tr><td>Listas</td><td>list</td><td>Secuencias ordenadas de objetos: [1, 2, 3, \"cuatro\", True, [5, 6, 7]]</td></tr>\n",
    "<tr><td>Tuplas</td><td>tuple</td><td>Secuencias ordenadas inmutables de objetos: (\"tres\", [23, 34], -89, False)</td></tr>\n",
    "<tr><td>Conjuntos</td><td>set</td><td>Colecciones no ordenadas de objetos: {1, 2, \"a\", \"b\"}</td></tr>\n",
    "<tr><td>Diccionarios</td><td>dict</td><td>Pares ordenados atributo:valor: \n",
    "\n",
    "{\"nombre\":\"Juan\", \n",
    "\"apellido\":\"Pérez\",\n",
    "\"salario\": 800000}</td></tr>\n",
    "\n",
    "</table>\n",
    "\n",
    "Existen otros tipos de datos más especializados (ej. fechas, horas, enumerados). Todos pueden consultarse en la documentación de la [biblioteca estándar de Python](https://docs.python.org/3/library/index.html#library-index)."
   ]
  },
  {
   "cell_type": "markdown",
   "metadata": {},
   "source": [
    "### La función type()\n",
    "La función [type()](https://docs.python.org/3/library/functions.html#type) retorna el tipo del objeto que recibe como argumento."
   ]
  },
  {
   "cell_type": "code",
   "execution_count": 6,
   "metadata": {},
   "outputs": [
    {
     "data": {
      "text/plain": [
       "int"
      ]
     },
     "execution_count": 6,
     "metadata": {},
     "output_type": "execute_result"
    }
   ],
   "source": [
    "type(25)"
   ]
  },
  {
   "cell_type": "code",
   "execution_count": 7,
   "metadata": {},
   "outputs": [
    {
     "data": {
      "text/plain": [
       "str"
      ]
     },
     "execution_count": 7,
     "metadata": {},
     "output_type": "execute_result"
    }
   ],
   "source": [
    "type(\"Costa Rica\")"
   ]
  },
  {
   "cell_type": "code",
   "execution_count": 8,
   "metadata": {},
   "outputs": [
    {
     "data": {
      "text/plain": [
       "list"
      ]
     },
     "execution_count": 8,
     "metadata": {},
     "output_type": "execute_result"
    }
   ],
   "source": [
    "type([1, 2, 3])"
   ]
  },
  {
   "cell_type": "code",
   "execution_count": 9,
   "metadata": {},
   "outputs": [
    {
     "data": {
      "text/plain": [
       "bool"
      ]
     },
     "execution_count": 9,
     "metadata": {},
     "output_type": "execute_result"
    }
   ],
   "source": [
    "type(2 > 5)"
   ]
  },
  {
   "cell_type": "markdown",
   "metadata": {},
   "source": [
    "## Variables\n",
    "Una variable es un nombre que se asigna a un valor en la memoria de una computadora. El valor se asigna mediante el operador `=`."
   ]
  },
  {
   "cell_type": "code",
   "execution_count": 10,
   "metadata": {},
   "outputs": [],
   "source": [
    "# A la variable x se le asigna el valor 10\n",
    "x = 10"
   ]
  },
  {
   "cell_type": "code",
   "execution_count": 11,
   "metadata": {},
   "outputs": [
    {
     "name": "stdout",
     "output_type": "stream",
     "text": [
      "10\n"
     ]
    }
   ],
   "source": [
    "# Se imprime el valor de x\n",
    "print(x)"
   ]
  },
  {
   "cell_type": "code",
   "execution_count": 12,
   "metadata": {},
   "outputs": [
    {
     "name": "stdout",
     "output_type": "stream",
     "text": [
      "<class 'int'>\n"
     ]
    }
   ],
   "source": [
    "# Se imprime el tipo de datos de x\n",
    "print(type(x))"
   ]
  },
  {
   "cell_type": "code",
   "execution_count": 13,
   "metadata": {},
   "outputs": [
    {
     "name": "stdout",
     "output_type": "stream",
     "text": [
      "Patricia\n",
      "<class 'str'>\n"
     ]
    }
   ],
   "source": [
    "# A la variable nombre se le asigna el valor \"Patricia\"\n",
    "nombre = \"Patricia\"\n",
    "print(nombre)\n",
    "print(type(nombre))"
   ]
  },
  {
   "cell_type": "code",
   "execution_count": 14,
   "metadata": {},
   "outputs": [
    {
     "name": "stdout",
     "output_type": "stream",
     "text": [
      "[2, 3, 5, 7, 11, 13, 17]\n",
      "<class 'list'>\n"
     ]
    }
   ],
   "source": [
    "# A la variable lista_primos se le asigna una lista de números primos\n",
    "lista_primos = [2, 3, 5, 7, 11, 13, 17]\n",
    "print(lista_primos)\n",
    "print(type(lista_primos))"
   ]
  },
  {
   "cell_type": "code",
   "execution_count": 15,
   "metadata": {},
   "outputs": [
    {
     "name": "stdout",
     "output_type": "stream",
     "text": [
      "1\n",
      "2\n"
     ]
    }
   ],
   "source": [
    "# Una variable puede cambiar de valor durante la ejecución del programa\n",
    "i = 1\n",
    "print(i)\n",
    "i = i + 1\n",
    "print(i)"
   ]
  },
  {
   "cell_type": "code",
   "execution_count": 16,
   "metadata": {},
   "outputs": [
    {
     "name": "stdout",
     "output_type": "stream",
     "text": [
      "30\n"
     ]
    }
   ],
   "source": [
    "# El valor de una variable puede asignarse con base en los de otras variable\n",
    "x = 20\n",
    "y = 10\n",
    "z = x + y\n",
    "print(z)"
   ]
  },
  {
   "cell_type": "markdown",
   "metadata": {},
   "source": [
    "### Reglas para los nombres de variables\n",
    "- No pueden empezar con un número (sí pueden usarse números en el resto del nombre).\n",
    "- No pueden contener espacios (se sugiere usar el guión bajo: `_`).\n",
    "- No pueden contener ninguno de los siguientes símbolos: `'\",<>:/?|\\!@#%^&*~-+`.\n",
    "- No deben utilizarse [palabras reservadas de Python](https://docs.python.org/3/reference/lexical_analysis.html#keywords).\n",
    "- Se considera una [buena práctica utilizar nombres en minúscula y con guiones bajos](https://www.python.org/dev/peps/pep-0008/#function-and-variable-names), para así mejorar la legibilidad.\n",
    "- Es importante utilizar nombres significativos para las variables, que reflejen su propósito."
   ]
  },
  {
   "cell_type": "markdown",
   "metadata": {},
   "source": [
    "Las variables mejoran la legibilidad de los procesos:"
   ]
  },
  {
   "cell_type": "code",
   "execution_count": 17,
   "metadata": {},
   "outputs": [
    {
     "data": {
      "text/plain": [
       "13000.0"
      ]
     },
     "execution_count": 17,
     "metadata": {},
     "output_type": "execute_result"
    }
   ],
   "source": [
    "# Cálculo del impuesto al valor agregado, sin variables\n",
    "100000 * 0.13"
   ]
  },
  {
   "cell_type": "code",
   "execution_count": 18,
   "metadata": {},
   "outputs": [
    {
     "name": "stdout",
     "output_type": "stream",
     "text": [
      "13000.0\n"
     ]
    }
   ],
   "source": [
    "# Cálculo del impuesto al valor agregado, con variables\n",
    "\n",
    "# Entrada\n",
    "precio_articulo = 100000\n",
    "tasa_impuesto = 0.13\n",
    "\n",
    "# Proceso\n",
    "monto_impuesto = precio_articulo * tasa_impuesto\n",
    "\n",
    "# Salida\n",
    "print(monto_impuesto)"
   ]
  },
  {
   "cell_type": "markdown",
   "metadata": {},
   "source": [
    "### Ejercicios"
   ]
  },
  {
   "cell_type": "markdown",
   "metadata": {},
   "source": [
    "1. Utilice variables en un programa que covierta grados Celsius a Fahrenheit. Puede consultar la fórmula en https://www.rapidtables.com/convert/temperature/celsius-to-fahrenheit.html"
   ]
  },
  {
   "cell_type": "code",
   "execution_count": 19,
   "metadata": {},
   "outputs": [],
   "source": [
    "# Entrada\n",
    "\n",
    "# Procesamiento\n",
    "\n",
    "# Salida"
   ]
  },
  {
   "cell_type": "markdown",
   "metadata": {},
   "source": [
    "## Expresiones"
   ]
  },
  {
   "cell_type": "markdown",
   "metadata": {},
   "source": [
    "En Python, una [expresión](https://docs.python.org/3/reference/expressions.html) es una combinación de:\n",
    "* [Literales](https://docs.python.org/3/reference/lexical_analysis.html#literals): valores constantes de números, hileras, listas, booleanos y otros tipos de datos.\n",
    "* Variables.\n",
    "* Los dos anteriores combinados mediante [operadores](https://docs.python.org/3/reference/lexical_analysis.html#operators) o funciones.\n",
    "\n",
    "**Una expresión tiene un valor numérico, textual, booleano o de otro tipo**. En las secciones siguientes se brindan algunos ejemplos de expresiones.\n",
    "\n",
    "**NOTA:** al escribir una expresión en la línea de comandos del interpretador de Python o en un _notebook_, esta retorna su valor. Sin embargo, esto no sucede en un programa. En este último caso, si se quiere visualizar el valor de una expresión, debe imprimirse con la función **print()**, por ejemplo."
   ]
  },
  {
   "cell_type": "markdown",
   "metadata": {},
   "source": [
    "Para los ejemplos siguientes, se definen las variables:"
   ]
  },
  {
   "cell_type": "code",
   "execution_count": 20,
   "metadata": {},
   "outputs": [],
   "source": [
    "x = 20\n",
    "y = 21.5\n",
    "h = \"Python\""
   ]
  },
  {
   "cell_type": "markdown",
   "metadata": {},
   "source": [
    "### Aritméticas"
   ]
  },
  {
   "cell_type": "markdown",
   "metadata": {},
   "source": [
    "Se utilizan para realizar operaciones matemáticas con números enteros, complejos o de punto flotante."
   ]
  },
  {
   "cell_type": "markdown",
   "metadata": {},
   "source": [
    "#### Operadores aritméticos\n",
    "\n",
    "<table>\n",
    "\n",
    "<tr><th>Operador</th><th>Descripción</th><th>Ejemplo</th></tr>\n",
    "\n",
    "<tr><td>+</td><td>Suma</td><td>4 + 3 (= 7)</td></tr>\n",
    "<tr><td>-</td><td>Resta</td><td>10 - 5 (= 5)</td></tr>\n",
    "<tr><td>*</td><td>Multiplicación</td><td>3 * 4 (= 12)</td></tr>\n",
    "<tr><td>/</td><td>División</td><td>5 / 2 (= 2.5)</td></tr>\n",
    "<tr><td>//</td><td>División entera</td><td>5 // 2 (= 2)</td></tr>\n",
    "<tr><td>%</td><td>Módulo</td><td>5 % 2 (= 1)</td></tr>\n",
    "<tr><td>**</td><td>Exponenciación</td><td>2 ** 3 (= 8)</td></tr>\n",
    "</table>"
   ]
  },
  {
   "cell_type": "markdown",
   "metadata": {},
   "source": [
    "#### Ejemplos"
   ]
  },
  {
   "cell_type": "code",
   "execution_count": 21,
   "metadata": {},
   "outputs": [
    {
     "data": {
      "text/plain": [
       "0"
      ]
     },
     "execution_count": 21,
     "metadata": {},
     "output_type": "execute_result"
    }
   ],
   "source": [
    "# Literal\n",
    "0"
   ]
  },
  {
   "cell_type": "code",
   "execution_count": 22,
   "metadata": {},
   "outputs": [
    {
     "data": {
      "text/plain": [
       "20"
      ]
     },
     "execution_count": 22,
     "metadata": {},
     "output_type": "execute_result"
    }
   ],
   "source": [
    "# Variable\n",
    "x"
   ]
  },
  {
   "cell_type": "code",
   "execution_count": 23,
   "metadata": {},
   "outputs": [
    {
     "data": {
      "text/plain": [
       "55"
      ]
     },
     "execution_count": 23,
     "metadata": {},
     "output_type": "execute_result"
    }
   ],
   "source": [
    "# Literal, variable, operador aritmético y función\n",
    "34 + int(y)"
   ]
  },
  {
   "cell_type": "markdown",
   "metadata": {},
   "source": [
    "### Booleanas"
   ]
  },
  {
   "cell_type": "markdown",
   "metadata": {},
   "source": [
    "Se les llama también expresiones lógicas. Tienen solamente dos posibles valores:\n",
    "* `True` (verdadero)\n",
    "* `False` (falso)\n",
    "\n",
    "Son sumamente importantes en Python (y en otros lenguajes de programación) porque con base en expresiones boolenanas se construyen sentencias como condicionales y ciclos."
   ]
  },
  {
   "cell_type": "markdown",
   "metadata": {},
   "source": [
    "#### Operadores booleanos"
   ]
  },
  {
   "cell_type": "markdown",
   "metadata": {},
   "source": [
    "<table>\n",
    "\n",
    "<tr><th>Operador</th><th>Descripción</th><th>Ejemplo</th></tr>\n",
    "\n",
    "<tr><td>and</td><td>Retorna <strong>True</strong> si ambos operandos son verdaderos y <strong>False</strong> en caso contrario</td><td>(1 < 2) and (4 > 3) [= True]</td></tr>\n",
    "<tr><td>or</td><td>Retorna <strong>True</strong> si al menos uno de los operados es verdadero y <strong>False</strong> en caso contrario</td><td>(10 > 20) or (40 < 30) [= False]</td></tr>\n",
    "<tr><td>not</td><td>Retorna <strong>True</strong> si el operando el falso  y <strong>False</strong> en caso contrario</td><td>not (4 > 2) [= False]</td></tr>\n",
    "</table>"
   ]
  },
  {
   "cell_type": "markdown",
   "metadata": {},
   "source": [
    "#### Operadores relacionales"
   ]
  },
  {
   "cell_type": "markdown",
   "metadata": {},
   "source": [
    "Con frecuencia, las expresiones boolenas incluyen operadores relacionales (de comparación).\n",
    "<table>\n",
    "\n",
    "<tr><th>Operador</th><th>Descripción</th><th>Ejemplo</th></tr>\n",
    "\n",
    "<tr><td>==</td><td>Igual</td><td>(3 + 1) == (2 ** 2)</td></tr>\n",
    "<tr><td>!=</td><td>Diferente</td><td>0 != 1</td></tr>\n",
    "<tr><td>></td><td>Mayor que</td><td>3 > 2</td></tr>\n",
    "<tr><td><</td><td>Menor que</td><td>2 < 3</td></tr>\n",
    "<tr><td>>=</td><td>Mayor o igual que</td><td>3 >= (2 + 1)</td></tr>\n",
    "<tr><td><=</td><td>Menor o igual que</td><td>2 <= 5</td></tr>\n",
    "\n",
    "</table>"
   ]
  },
  {
   "cell_type": "markdown",
   "metadata": {},
   "source": [
    "#### Ejemplos"
   ]
  },
  {
   "cell_type": "code",
   "execution_count": 24,
   "metadata": {},
   "outputs": [
    {
     "data": {
      "text/plain": [
       "True"
      ]
     },
     "execution_count": 24,
     "metadata": {},
     "output_type": "execute_result"
    }
   ],
   "source": [
    "# Literal\n",
    "True"
   ]
  },
  {
   "cell_type": "code",
   "execution_count": 25,
   "metadata": {},
   "outputs": [
    {
     "data": {
      "text/plain": [
       "True"
      ]
     },
     "execution_count": 25,
     "metadata": {},
     "output_type": "execute_result"
    }
   ],
   "source": [
    "# Literal y variable\n",
    "x == 20"
   ]
  },
  {
   "cell_type": "code",
   "execution_count": 26,
   "metadata": {},
   "outputs": [
    {
     "data": {
      "text/plain": [
       "False"
      ]
     },
     "execution_count": 26,
     "metadata": {},
     "output_type": "execute_result"
    }
   ],
   "source": [
    "# Literal, variable y operador\n",
    "x > 100"
   ]
  },
  {
   "cell_type": "code",
   "execution_count": 27,
   "metadata": {},
   "outputs": [
    {
     "data": {
      "text/plain": [
       "True"
      ]
     },
     "execution_count": 27,
     "metadata": {},
     "output_type": "execute_result"
    }
   ],
   "source": [
    "# Literales, variables, operador aritmético y operador relacional\n",
    "(x + 45) > 10 "
   ]
  },
  {
   "cell_type": "code",
   "execution_count": 28,
   "metadata": {},
   "outputs": [
    {
     "data": {
      "text/plain": [
       "False"
      ]
     },
     "execution_count": 28,
     "metadata": {},
     "output_type": "execute_result"
    }
   ],
   "source": [
    "# Literales, variables, operadores aritméticos, operadores relacionales y operadores lógicos\n",
    "((x + 45) > 10) and ((y - 20) <= 0)"
   ]
  },
  {
   "cell_type": "markdown",
   "metadata": {},
   "source": [
    "### Cadenas de caracteres"
   ]
  },
  {
   "cell_type": "markdown",
   "metadata": {},
   "source": [
    "El operador `+` concatena (une) cadenas de caracteres."
   ]
  },
  {
   "cell_type": "code",
   "execution_count": 29,
   "metadata": {},
   "outputs": [
    {
     "data": {
      "text/plain": [
       "'Hola Python'"
      ]
     },
     "execution_count": 29,
     "metadata": {},
     "output_type": "execute_result"
    }
   ],
   "source": [
    "# Concatenación de cadenas de caracteres\n",
    "\"Hola \" + h"
   ]
  },
  {
   "cell_type": "markdown",
   "metadata": {},
   "source": [
    "### Listas"
   ]
  },
  {
   "cell_type": "markdown",
   "metadata": {},
   "source": [
    "Las listas también pueden concatenarse listas con el operador `+`."
   ]
  },
  {
   "cell_type": "code",
   "execution_count": 30,
   "metadata": {},
   "outputs": [
    {
     "data": {
      "text/plain": [
       "[1, 2, 3, 'a', 'b', 'c']"
      ]
     },
     "execution_count": 30,
     "metadata": {},
     "output_type": "execute_result"
    }
   ],
   "source": [
    "# Listas\n",
    "[1, 2, 3] + [\"a\", \"b\", \"c\"]"
   ]
  },
  {
   "cell_type": "markdown",
   "metadata": {},
   "source": [
    "## Condicionales"
   ]
  },
  {
   "cell_type": "markdown",
   "metadata": {},
   "source": [
    "Los condicionales son instrucciones que permiten evaluar condiciones (i.e. expresiones lógicas) y alterar el flujo del programa de acuerdo con su valor."
   ]
  },
  {
   "cell_type": "markdown",
   "metadata": {},
   "source": [
    "### La sentencia `if`"
   ]
  },
  {
   "cell_type": "markdown",
   "metadata": {},
   "source": [
    "En Python, los condicionales se implementan a través de la sentencia [if](https://docs.python.org/3/reference/compound_stmts.html#the-if-statement). En su forma más básica, tiene la siguiente estructura:\n",
    "\n",
    "```python\n",
    "if <condición>:\n",
    "    <bloque de sentencias>\n",
    "```\n",
    "\n",
    "<condición> es una expresión lógica (que es verdadera o falsa). Si la condición es verdadera, se ejecutará el bloque de sentencias que está luego de los dos puntos (:). En Python, un bloque de instrucciones se identifica por la cantidad de espacios que lo tabulan.\n",
    "\n",
    "Por ejemplo:"
   ]
  },
  {
   "cell_type": "code",
   "execution_count": 31,
   "metadata": {},
   "outputs": [
    {
     "name": "stdout",
     "output_type": "stream",
     "text": [
      "Inicio del programa.\n",
      "Este programa indica si una persona es menor de edad.\n",
      "\n",
      "\n",
      "- La persona es MENOR.\n",
      "- No puede votar en las elecciones presidenciales.\n",
      "- No puede tener licencia para conducir automóviles.\n",
      "\n",
      "\n",
      "Fin del programa.\n"
     ]
    }
   ],
   "source": [
    "print(\"Inicio del programa.\")\n",
    "print(\"Este programa indica si una persona es menor de edad.\")\n",
    "print(\"\\n\")\n",
    "\n",
    "edad = 15\n",
    "if edad < 18:\n",
    "    print(\"- La persona es MENOR.\")\n",
    "    print(\"- No puede votar en las elecciones presidenciales.\")\n",
    "    print(\"- No puede tener licencia para conducir automóviles.\")\n",
    "    \n",
    "print(\"\\n\")    \n",
    "print(\"Fin del programa.\")"
   ]
  },
  {
   "cell_type": "markdown",
   "metadata": {},
   "source": [
    "Después de ejecutar el bloque (si se cumple la condición), el programa continua ejecutando las instrucciones que están fuera del bloque, si es que las hay."
   ]
  },
  {
   "cell_type": "markdown",
   "metadata": {},
   "source": [
    "#### La cláusula `else`"
   ]
  },
  {
   "cell_type": "markdown",
   "metadata": {},
   "source": [
    "Es una cláusula opcional que se utiliza para especificar un bloque alterno que se ejecuta si no se cumple la condición del `if`. Tiene la siguiente estructura:\n",
    "\n",
    "```python\n",
    "if <condición>:\n",
    "    <bloque de sentencias>\n",
    "else:\n",
    "    <bloque de sentencias>\n",
    "```\n",
    "\n",
    "Solamente puede usarse una cláusula else en cada sentencia if. Por ejemplo:"
   ]
  },
  {
   "cell_type": "code",
   "execution_count": 32,
   "metadata": {},
   "outputs": [
    {
     "name": "stdout",
     "output_type": "stream",
     "text": [
      "Inicio del programa.\n",
      "Este programa indica si una persona es menor o adulta.\n",
      "\n",
      "\n",
      "- La persona es ADULTA.\n",
      "- Puede votar en las elecciones presidenciales.\n",
      "- Puede tener licencia para conducir automóviles.\n",
      "\n",
      "\n",
      "Fin del programa.\n"
     ]
    }
   ],
   "source": [
    "print(\"Inicio del programa.\")\n",
    "print(\"Este programa indica si una persona es menor o adulta.\")\n",
    "print(\"\\n\")\n",
    "\n",
    "edad = 22\n",
    "if edad < 18:\n",
    "    print(\"- La persona es MENOR.\")\n",
    "    print(\"- No puede votar en las elecciones presidenciales.\")\n",
    "    print(\"- No puede tener licencia para conducir automóviles.\")    \n",
    "else:\n",
    "    print(\"- La persona es ADULTA.\")\n",
    "    print(\"- Puede votar en las elecciones presidenciales.\")\n",
    "    print(\"- Puede tener licencia para conducir automóviles.\")\n",
    "    \n",
    "print(\"\\n\")    \n",
    "print(\"Fin del programa.\")"
   ]
  },
  {
   "cell_type": "markdown",
   "metadata": {},
   "source": [
    "#### La cláusula `elif`"
   ]
  },
  {
   "cell_type": "markdown",
   "metadata": {},
   "source": [
    "Es una cláusula opcional que permite especificar condiciones adicionales entre las cláusulas `if` y `else`. \n",
    "\n",
    "```python\n",
    "if <condición>:\n",
    "    <bloque de sentencias>\n",
    "elif <condición>:\n",
    "    <bloque de sentencias>\n",
    "else:\n",
    "    <bloque de sentencias>\n",
    "```    \n",
    "\n",
    "Puede usarse cualquier cantidad de cláusulas `elif`. La cláusula `elif` puede utilizarse sin la clásula `else` y viceversa.\n",
    "\n",
    "Ejemplo:"
   ]
  },
  {
   "cell_type": "code",
   "execution_count": 33,
   "metadata": {},
   "outputs": [
    {
     "name": "stdout",
     "output_type": "stream",
     "text": [
      "Inicio del programa.\n",
      "Este programa indica si una persona es menor, adulta o adulta mayor.\n",
      "\n",
      "\n",
      "- La persona es ADULTA MAYOR.\n",
      "- Puede votar en las elecciones presidenciales.\n",
      "- Puede tener licencia para conducir automóviles.\n",
      "- Tiene acceso gratuito al servicio público de autobuses.\n",
      "- Tiene prioridad en las filas de atención en bancos y otros servicios.\n",
      "\n",
      "\n",
      "Fin del programa.\n"
     ]
    }
   ],
   "source": [
    "print(\"Inicio del programa.\")\n",
    "print(\"Este programa indica si una persona es menor, adulta o adulta mayor.\")\n",
    "print(\"\\n\")\n",
    "\n",
    "edad = 65\n",
    "if edad < 18:\n",
    "    print(\"- La persona es MENOR.\")\n",
    "    print(\"- No puede votar en las elecciones presidenciales.\")\n",
    "    print(\"- No puede tener licencia para conducir automóviles.\")\n",
    "elif edad < 65:\n",
    "    print(\"- La persona es ADULTA.\")\n",
    "    print(\"- Puede votar en las elecciones presidenciales.\")\n",
    "    print(\"- Puede tener licencia para conducir automóviles.\")    \n",
    "else:\n",
    "    print(\"- La persona es ADULTA MAYOR.\")\n",
    "    print(\"- Puede votar en las elecciones presidenciales.\")\n",
    "    print(\"- Puede tener licencia para conducir automóviles.\")\n",
    "    print(\"- Tiene acceso gratuito al servicio público de autobuses.\")\n",
    "    print(\"- Tiene prioridad en las filas de atención en bancos y otros servicios.\")\n",
    "    \n",
    "print(\"\\n\")    \n",
    "print(\"Fin del programa.\")"
   ]
  },
  {
   "cell_type": "markdown",
   "metadata": {},
   "source": [
    "### Acerca de los bloques en Python"
   ]
  },
  {
   "cell_type": "markdown",
   "metadata": {},
   "source": [
    "Los bloques son conjuntos de sentencias contiguas que están tabulados con la misma cantidad de espacios. La cantidad de espacios puede ser decidida por el programador, pero [se recomienda usar cuatro espacios](https://www.python.org/dev/peps/pep-0008/#indentation).\n",
    "\n",
    "**NOTA:** deben utilizarse espacios y NO TABULADORES. Si se mezclan espacios y tabuladores, el programa puede comportarse de forma errónea."
   ]
  },
  {
   "cell_type": "markdown",
   "metadata": {},
   "source": [
    "## Excepciones"
   ]
  },
  {
   "cell_type": "markdown",
   "metadata": {},
   "source": [
    "Las [excepciones](https://docs.python.org/3/reference/executionmodel.html#exceptions) son un mecanismo que provee Python para manejar errores o situaciones inesperadas que se producen durante la ejecución de los programas. Mediante este mecanismo, el curso de ejecución del programa se interrumpe cuando ocurre un error y una excepción es \"levantada\" (_raised_). El control pasa entonces a otro bloque de instrucciones, el cual se encarga de manejar el error."
   ]
  },
  {
   "cell_type": "markdown",
   "metadata": {},
   "source": [
    "### Las sentencias try y except"
   ]
  },
  {
   "cell_type": "markdown",
   "metadata": {},
   "source": [
    "Las sentencias [try](https://docs.python.org/3/reference/compound_stmts.html#try) y [except](https://docs.python.org/3/reference/compound_stmts.html#except) son las que implementan el manejo de excepciones en Python. En el bloque `try` se coloca el código que puede ocasionar que se levante la excepción y en el bloque `except` se ubica el código que maneja la excepción.\n",
    "\n",
    "La estructura básica es la siguiente:\n",
    "\n",
    "```python\n",
    "try:\n",
    "    <bloque de sentencias que puede generar un error>\n",
    "except:\n",
    "    <bloque de sentencias que maneja el error>\n",
    "``` \n",
    "\n",
    "Por ejemplo, un llamado a la función [float()](https://docs.python.org/3/library/functions.html#float), que convierte una hilera de texto a un número en punto flotante (i.e. decimal), puede ocasionar un error si la hilera de entrada no corresponde a un número."
   ]
  },
  {
   "cell_type": "code",
   "execution_count": 34,
   "metadata": {},
   "outputs": [
    {
     "ename": "ValueError",
     "evalue": "could not convert string to float: '8,5'",
     "output_type": "error",
     "traceback": [
      "\u001b[0;31m---------------------------------------------------------------------------\u001b[0m",
      "\u001b[0;31mValueError\u001b[0m                                Traceback (most recent call last)",
      "Cell \u001b[0;32mIn[34], line 1\u001b[0m\n\u001b[0;32m----> 1\u001b[0m x \u001b[38;5;241m=\u001b[39m \u001b[38;5;28;43mfloat\u001b[39;49m\u001b[43m(\u001b[49m\u001b[38;5;124;43m\"\u001b[39;49m\u001b[38;5;124;43m8,5\u001b[39;49m\u001b[38;5;124;43m\"\u001b[39;49m\u001b[43m)\u001b[49m\n\u001b[1;32m      2\u001b[0m x\n",
      "\u001b[0;31mValueError\u001b[0m: could not convert string to float: '8,5'"
     ]
    }
   ],
   "source": [
    "x = float(\"8,5\")\n",
    "x"
   ]
  },
  {
   "cell_type": "markdown",
   "metadata": {},
   "source": [
    "El siguiente bloque de código maneja el error mediante un bloque `try except` y evita el mensaje de error que genera el interpretador de Python, sustituyéndolo por uno más amigable."
   ]
  },
  {
   "cell_type": "code",
   "execution_count": null,
   "metadata": {},
   "outputs": [],
   "source": [
    "try:\n",
    "    x = float(\"8,5\")\n",
    "except:\n",
    "    print(\"Por favor utilice un número\")"
   ]
  },
  {
   "cell_type": "markdown",
   "metadata": {},
   "source": [
    "El siguiente ejemplo maneja el mismo tipo de error. En este caso, la función [input()](https://docs.python.org/3/library/functions.html#input) se utiliza para leer un número desde el teclado."
   ]
  },
  {
   "cell_type": "markdown",
   "metadata": {},
   "source": [
    "```python\n",
    "fahr_hilera = input('Ingrese la temperatura en grados Fahrenheit: ')\n",
    "\n",
    "try:\n",
    "    fahr = float(fahr_hilera)\n",
    "    celsius = (fahr - 32.0) * 5.0 / 9.0\n",
    "    print(\"El equivalente el grados Celsius es: \", celsius)\n",
    "except:\n",
    "    print('Por favor ingrese un número.')\n",
    "```"
   ]
  },
  {
   "cell_type": "markdown",
   "metadata": {},
   "source": [
    "### Ejercicios"
   ]
  },
  {
   "cell_type": "markdown",
   "metadata": {},
   "source": [
    "1. Reescriba el programa que calcula el IMC y maneje las excepciones que puedan producirse."
   ]
  },
  {
   "cell_type": "markdown",
   "metadata": {},
   "source": [
    "## Ciclos"
   ]
  },
  {
   "cell_type": "markdown",
   "metadata": {},
   "source": [
    "Los ciclos son bloques de instrucciones que se ejecutan varias veces. Para manejar ciclos, Python provee dos mecanismos: la sentencia `while` y la sentencia `for`."
   ]
  },
  {
   "cell_type": "markdown",
   "metadata": {},
   "source": [
    "### La sentencia `while`"
   ]
  },
  {
   "cell_type": "markdown",
   "metadata": {},
   "source": [
    "La setencia [while](https://docs.python.org/3/reference/compound_stmts.html#the-while-statement) se utiliza para ejecutar repetidamente un bloque de instrucciones mientras que una condición sea verdadera. Su estructura básica es:\n",
    "\n",
    "```python\n",
    "while <condicion>:\n",
    "    <bloque de sentencias>\n",
    "``` \n",
    "\n",
    "Típicamente, en el bloque hay instrucciones que provocan que la condición se vuelva falsa eventualmente y el ciclo termine. De lo contrario, se producirá un **ciclo infinito**. Nótese que si la condición ya es falsa cuando el flujo del programa llega al `while`, el bloque no se ejecutará nunca."
   ]
  },
  {
   "cell_type": "markdown",
   "metadata": {},
   "source": [
    "#### Ejemplos"
   ]
  },
  {
   "cell_type": "code",
   "execution_count": null,
   "metadata": {},
   "outputs": [
    {
     "name": "stdout",
     "output_type": "stream",
     "text": [
      "1\n",
      "2\n",
      "3\n",
      "4\n",
      "5\n"
     ]
    }
   ],
   "source": [
    "# Contador de números en orden ascendente\n",
    "\n",
    "n = 1\n",
    "while n <= 5:\n",
    "    print(n)\n",
    "    n = n + 1"
   ]
  },
  {
   "cell_type": "code",
   "execution_count": null,
   "metadata": {},
   "outputs": [
    {
     "name": "stdout",
     "output_type": "stream",
     "text": [
      "5\n",
      "4\n",
      "3\n",
      "2\n",
      "1\n"
     ]
    }
   ],
   "source": [
    "# Contador de números en orden descendente\n",
    "\n",
    "n = 5\n",
    "while n >= 1:\n",
    "    print(n)\n",
    "    n = n - 1"
   ]
  },
  {
   "cell_type": "code",
   "execution_count": null,
   "metadata": {},
   "outputs": [
    {
     "name": "stdout",
     "output_type": "stream",
     "text": [
      "L\n",
      "o\n",
      "r\n",
      "e\n",
      "m\n",
      " \n",
      "i\n",
      "p\n",
      "s\n",
      "u\n",
      "m\n"
     ]
    }
   ],
   "source": [
    "# Recorrido de una hilera\n",
    "\n",
    "texto = \"Lorem ipsum\"\n",
    "\n",
    "n = 0\n",
    "while n < len(texto) :\n",
    "    print(texto[n])\n",
    "    n = n + 1"
   ]
  },
  {
   "cell_type": "code",
   "execution_count": null,
   "metadata": {},
   "outputs": [
    {
     "name": "stdout",
     "output_type": "stream",
     "text": [
      "\n",
      "Por favor ingrese un número entre 5 y 10: 5\n",
      "¡Gracias!\n"
     ]
    }
   ],
   "source": [
    "# Validación de entrada de datos\n",
    "\n",
    "numero = -1\n",
    "while not(numero >= 5 and numero <= 10) :\n",
    "    numero = float(input(\"\\nPor favor ingrese un número entre 5 y 10: \"))\n",
    "    if not(numero >= 5 and numero <= 10) :\n",
    "        print(\"El número no está entre 5 y 10, por favor inténtelo de nuevo...\")\n",
    "print(\"¡Gracias!\")"
   ]
  },
  {
   "cell_type": "markdown",
   "metadata": {},
   "source": [
    "### La sentencia `for`"
   ]
  },
  {
   "cell_type": "markdown",
   "metadata": {},
   "source": [
    "La sentencia [for](https://docs.python.org/3/reference/compound_stmts.html#the-for-statement) se utiliza para iterar sobre los elementos de estructuras de datos como secuencias (ej. hilera, lista, tupla). Su sintaxis puede resumirse de la siguiente manera:\n",
    "\n",
    "```python\n",
    "for <variable_iteracion> in <secuencia>:\n",
    "    <bloque de sentencias>\n",
    "``` \n",
    "\n",
    "La variable de iteración es una variable que asume el valor del elemento que se procesa en cada iteración."
   ]
  },
  {
   "cell_type": "markdown",
   "metadata": {},
   "source": [
    "#### Ejemplos"
   ]
  },
  {
   "cell_type": "code",
   "execution_count": null,
   "metadata": {},
   "outputs": [
    {
     "name": "stdout",
     "output_type": "stream",
     "text": [
      "¡Buenos días Juan!\n",
      "¡Buenos días María!\n",
      "¡Buenos días Pedro!\n"
     ]
    }
   ],
   "source": [
    "# Recorrido de una lista\n",
    "\n",
    "alumnos = ['Juan', 'María', 'Pedro']\n",
    "for alumno in alumnos:\n",
    "    print(\"¡Buenos días \" + alumno + \"!\")"
   ]
  },
  {
   "cell_type": "code",
   "execution_count": null,
   "metadata": {},
   "outputs": [
    {
     "name": "stdout",
     "output_type": "stream",
     "text": [
      "1\n",
      "2\n",
      "3\n",
      "4\n",
      "5\n",
      "6\n",
      "7\n",
      "8\n",
      "9\n",
      "10\n"
     ]
    }
   ],
   "source": [
    "# Recorrido de un rango de números\n",
    "# La función range(a, b) crea una secuencia de números entre a y b-1.\n",
    "\n",
    "for numero in range(1, 11):\n",
    "    print(numero)"
   ]
  },
  {
   "cell_type": "code",
   "execution_count": null,
   "metadata": {},
   "outputs": [
    {
     "name": "stdout",
     "output_type": "stream",
     "text": [
      "Lista:  [3, 41, 12, 9, 74, 15]\n",
      "Cantidad de elementos: 6\n"
     ]
    }
   ],
   "source": [
    "# Cálculo de la cantidad de elementos \n",
    "\n",
    "lista = [3, 41, 12, 9, 74, 15]\n",
    "contador = 0\n",
    "\n",
    "print(\"Lista: \", lista)\n",
    "\n",
    "for item in lista :\n",
    "    contador += 1 # esto es lo mismo que: contador = contador + 1\n",
    "print(\"Cantidad de elementos:\", contador)"
   ]
  },
  {
   "cell_type": "code",
   "execution_count": null,
   "metadata": {},
   "outputs": [
    {
     "name": "stdout",
     "output_type": "stream",
     "text": [
      "Lista:  [3, 41, 12, 9, 74, 15]\n",
      "Suma de los elementos: 154\n"
     ]
    }
   ],
   "source": [
    "# Suma de los elementos de una lista\n",
    "\n",
    "lista = [3, 41, 12, 9, 74, 15]\n",
    "suma = 0\n",
    "\n",
    "print(\"Lista: \", lista)\n",
    "\n",
    "for item in lista :\n",
    "    suma += item\n",
    "print(\"Suma de los elementos:\", suma)"
   ]
  },
  {
   "cell_type": "markdown",
   "metadata": {},
   "source": [
    "### La sentencia `break`"
   ]
  },
  {
   "cell_type": "markdown",
   "metadata": {},
   "source": [
    "La sentencia [break](https://docs.python.org/3/reference/simple_stmts.html#break) finaliza un ciclo y pasa el flujo del programa a la instrucción que sigue al bloque del `while` o del `for`."
   ]
  },
  {
   "cell_type": "code",
   "execution_count": null,
   "metadata": {},
   "outputs": [
    {
     "name": "stdout",
     "output_type": "stream",
     "text": [
      "Lista:  [3, 41, 12, 9, 74, 15]\n",
      "Primer número mayor que 20:  41\n"
     ]
    }
   ],
   "source": [
    "# Busca el primer número de una lista que sea mayor que 20 y sale del ciclo una vez que lo ha encontrado\n",
    "\n",
    "lista = [3, 41, 12, 9, 74, 15]\n",
    "print(\"Lista: \", lista)\n",
    "\n",
    "for item in lista :\n",
    "    if item > 20 :\n",
    "        print(\"Primer número mayor que 20: \", item)\n",
    "        break"
   ]
  },
  {
   "cell_type": "markdown",
   "metadata": {},
   "source": [
    "### La sentencia `continue`"
   ]
  },
  {
   "cell_type": "markdown",
   "metadata": {},
   "source": [
    "La sentencia [continue](https://docs.python.org/3/reference/simple_stmts.html#continue) interrumpe la iteración actual de un ciclo y continúa con la siguiente. No sale completamente del ciclo, como la sentencia break."
   ]
  },
  {
   "cell_type": "code",
   "execution_count": null,
   "metadata": {},
   "outputs": [
    {
     "name": "stdout",
     "output_type": "stream",
     "text": [
      "Lista:  [3, 41, 12, 9, 74, 15]\n",
      "82\n",
      "148\n"
     ]
    }
   ],
   "source": [
    "# Imprime el doble de cada uno de los números mayores que 20 que hay en una lista. \n",
    "# Si el número de la iteración es menor o igual que 20, utiliza la sentencia continue para \"saltarse\" esa iteración.\n",
    "\n",
    "lista = [3, 41, 12, 9, 74, 15]\n",
    "print(\"Lista: \", lista)\n",
    "\n",
    "for item in lista :\n",
    "    if item <= 20:\n",
    "        continue\n",
    "    print(item * 2)"
   ]
  },
  {
   "cell_type": "markdown",
   "metadata": {},
   "source": [
    "### Ejercicios"
   ]
  },
  {
   "cell_type": "markdown",
   "metadata": {},
   "source": [
    "1. Escriba un programa que calcule el promedio de los números de una lista.\n",
    "2. Escriba un programa que calcule la desviación estándar de los números de una lista.\n",
    "\n",
    "(Maneje la lista en una variable)"
   ]
  },
  {
   "cell_type": "markdown",
   "metadata": {},
   "source": [
    "## Funciones"
   ]
  },
  {
   "cell_type": "markdown",
   "metadata": {},
   "source": [
    "Las [funciones](https://docs.python.org/3/reference/compound_stmts.html#function-definitions) son conjuntos de sentencias que **tienen un nombre y realizan una tarea específica** como, por ejemplo, un cálculo matemático o un procesamiento de texto. Por lo general, una función recibe datos de entrada, llamados **argumentos**, y **retorna un valor**.\n",
    "\n",
    "\n",
    "El uso de funciones tiene múltiples ventajas, entre las que pueden mencionarse:\n",
    "\n",
    "- Mejoran la legibilidad de los programas: mediante el uso de nombres significativos para las secciones de código que realizan una tarea.\n",
    "- Evitan la duplicidad de código fuente: una función se define una vez y luego pueden ser invocada muchas veces en un programa.\n",
    "- Facilitan el mantenimiento de los programas: al realizar las modificaciones en el código de una función, se evita la necesidad de realizarlas en múltiples secciones de un programa.\n",
    "- Facilitan la reutilización de código: mediante mecanismos como módulos de funciones (archivos con colecciones de funciones)."
   ]
  },
  {
   "cell_type": "markdown",
   "metadata": {},
   "source": [
    "### Funciones predefinidas"
   ]
  },
  {
   "cell_type": "markdown",
   "metadata": {},
   "source": [
    "Python tiene una lista de [funciones predefinidas](https://docs.python.org/3/library/functions.html), de las cuales algunas se han utilizado ya en este curso:"
   ]
  },
  {
   "cell_type": "code",
   "execution_count": null,
   "metadata": {},
   "outputs": [
    {
     "data": {
      "text/plain": [
       "int"
      ]
     },
     "execution_count": 45,
     "metadata": {},
     "output_type": "execute_result"
    }
   ],
   "source": [
    "# type(): tipo de datos de una expresión\n",
    "type(20)"
   ]
  },
  {
   "cell_type": "code",
   "execution_count": null,
   "metadata": {},
   "outputs": [
    {
     "data": {
      "text/plain": [
       "100"
      ]
     },
     "execution_count": 46,
     "metadata": {},
     "output_type": "execute_result"
    }
   ],
   "source": [
    "# int(): convierte una expresión a un número de tipo entero (int)\n",
    "int(\"100\")"
   ]
  },
  {
   "cell_type": "code",
   "execution_count": null,
   "metadata": {},
   "outputs": [
    {
     "data": {
      "text/plain": [
       "7"
      ]
     },
     "execution_count": 47,
     "metadata": {},
     "output_type": "execute_result"
    }
   ],
   "source": [
    "# len(): retorna la cantidad de elementos (items) de una hilera, lista \n",
    "# u otros tipos de secuencias y de colecciones.\n",
    "lista_provincias = [\"Limón\", \"Guanacaste\", \"Puntarenas\", \"Heredia\", \"Alajuela\", \"Cartago\", \"San José\"]\n",
    "len(lista_provincias)"
   ]
  },
  {
   "cell_type": "code",
   "execution_count": null,
   "metadata": {},
   "outputs": [
    {
     "data": {
      "text/plain": [
       "25"
      ]
     },
     "execution_count": 48,
     "metadata": {},
     "output_type": "execute_result"
    }
   ],
   "source": [
    "# pow(): eleva un número a una potencia\n",
    "pow(5, 2)"
   ]
  },
  {
   "cell_type": "markdown",
   "metadata": {},
   "source": [
    "Estas funciones predefinidas pueden invocarse en cualquier parte de un programa en Python, con solo escribir su nombre y argumentos."
   ]
  },
  {
   "cell_type": "markdown",
   "metadata": {},
   "source": [
    "### Funciones definidas en módulos de la biblioteca estándar"
   ]
  },
  {
   "cell_type": "markdown",
   "metadata": {},
   "source": [
    "La [biblioteca estándar de Python](https://docs.python.org/3/library/) es el conjunto de módulos que se incluye junto con cada distribución de Python, sin necesidad de instalarlos separadamente. Estos módulos proporcionan un conjunto de funciones más especializadas en áreas como matemáticas, multimedios, redes y otras. Para utilizar estas funciones, primero debe importarse el módulo del que forman parte mediante la sentencia [import](https://docs.python.org/3/reference/simple_stmts.html#import). Por ejemplo:"
   ]
  },
  {
   "cell_type": "code",
   "execution_count": null,
   "metadata": {},
   "outputs": [],
   "source": [
    "import math"
   ]
  },
  {
   "cell_type": "markdown",
   "metadata": {},
   "source": [
    "La instrucción anterior brinda acceso a las funciones del módulo [math](https://docs.python.org/3/library/math.html), que contiene un conjunto de funciones matemáticas. Por ejemplo:"
   ]
  },
  {
   "cell_type": "code",
   "execution_count": null,
   "metadata": {},
   "outputs": [
    {
     "data": {
      "text/plain": [
       "24"
      ]
     },
     "execution_count": 50,
     "metadata": {},
     "output_type": "execute_result"
    }
   ],
   "source": [
    "# math.factorial(): retorna el factorial de un número\n",
    "math.factorial(4)"
   ]
  },
  {
   "cell_type": "code",
   "execution_count": null,
   "metadata": {},
   "outputs": [
    {
     "data": {
      "text/plain": [
       "3.0"
      ]
     },
     "execution_count": 51,
     "metadata": {},
     "output_type": "execute_result"
    }
   ],
   "source": [
    "# math.sqrt(): retorna la raíz cuadrada de un número\n",
    "math.sqrt(9)"
   ]
  },
  {
   "cell_type": "markdown",
   "metadata": {},
   "source": [
    "Nótese que para invocar a estas funciones, debe escribirse antes el nombre del módulo y un punto."
   ]
  },
  {
   "cell_type": "markdown",
   "metadata": {},
   "source": [
    "### Funciones definidas en módulos de paquetes externos"
   ]
  },
  {
   "cell_type": "markdown",
   "metadata": {},
   "source": [
    "No están incluídos en la biblioteca estándar de Python y deben instalarse de acuerdo con el procedimiento definido por sus autores, como por ejemplo con los programas administradores de paquetes [pip](https://pypi.org/project/pip/) y [Conda](https://conda.io/).\n",
    "\n",
    "Muchos de estos paquetes se distribuyen a través de repositorios como el [Python Package Index (PyPI)](https://pypi.python.org/), que a la fecha alberga cerca de 400000 proyectos desarrollados por la comunidad de desarrolladores en Python."
   ]
  },
  {
   "cell_type": "markdown",
   "metadata": {},
   "source": [
    "### Sintaxis para la definición de nuevas funciones"
   ]
  },
  {
   "cell_type": "markdown",
   "metadata": {},
   "source": [
    "En Python, el programador puede definir nuevas funciones a través de la palabra reservada `def`, con la siguiente sintaxis:\n",
    "\n",
    "```python\n",
    "def <nombre_funcion>(<arg1>, <arg2>, ..., <argn>):\n",
    "    <bloque de sentencias>\n",
    "    return <valor_retorno>\n",
    "``` \n",
    "\n",
    "- El nombre de la función es elegido por el usuario y sigue las mismas reglas y recomendaciones que en el caso de los nombres de las variables.\n",
    "- Los argumentos se especifican entre paréntesis y se separan entre paréntesis. Si la función no tiene argumentos, deben incluirse paréntesis vacíos.\n",
    "- La palabra reservada **return** especifica el valor de retorno de la función."
   ]
  },
  {
   "cell_type": "markdown",
   "metadata": {},
   "source": [
    "#### Ejemplos"
   ]
  },
  {
   "cell_type": "code",
   "execution_count": null,
   "metadata": {},
   "outputs": [
    {
     "name": "stdout",
     "output_type": "stream",
     "text": [
      "40.0\n",
      "10.0\n",
      "0.0\n",
      "-10.0\n"
     ]
    }
   ],
   "source": [
    "# Definición de una función\n",
    "def fahrenheit_a_celsius(grados_fahrenheit):\n",
    "    grados_celsius = (grados_fahrenheit - 32.0) * 5.0 / 9.0\n",
    "    return grados_celsius\n",
    "\n",
    "# Llamados a la función\n",
    "print(fahrenheit_a_celsius(104))\n",
    "print(fahrenheit_a_celsius(50))\n",
    "print(fahrenheit_a_celsius(32))\n",
    "print(fahrenheit_a_celsius(14))"
   ]
  },
  {
   "cell_type": "markdown",
   "metadata": {},
   "source": [
    "### Ejercicios"
   ]
  },
  {
   "cell_type": "markdown",
   "metadata": {},
   "source": [
    "1. Defina una función llamada celsius_a_fahrenheit() e inclúyala en el programa del ejemplo anterior. Realice algunos llamados de prueba a la nueva función."
   ]
  },
  {
   "cell_type": "markdown",
   "metadata": {},
   "source": [
    "2. Escriba un programa que:\n",
    "* Le solicite al usuario su peso y su estatura.\n",
    "* Calcule su índice de masa corporal (IMC).\n",
    "* Imprima el valor del índice y si este es considerado bajo (menor que 18.5), normal (entre 18.5 y 25) o alto (mayor o igual que 25).\n",
    "\n",
    "Los detalles del cálculo del índice están en [https://www.diabetes.ca/diabetes-and-you/healthy-living-resources/weight-management/body-mass-index-bmi-calculator](https://www.diabetes.ca/diabetes-and-you/healthy-living-resources/weight-management/body-mass-index-bmi-calculator).\n",
    "\n",
    "Como parte del programa, defina una función llamada `imc()` que retorne el IMC a partir del peso y la estatura y otra función llamada `imc_interpretacion()` que retorne en una hilera si el IMC es bajo, normal o alto."
   ]
  },
  {
   "cell_type": "markdown",
   "metadata": {},
   "source": [
    "## Programación orientada a objetos"
   ]
  },
  {
   "cell_type": "markdown",
   "metadata": {},
   "source": [
    "La [Programación Orientada a Objetos (POO)](https://en.wikipedia.org/wiki/Object-oriented_programming) es un [paradigma de programación](https://en.wikipedia.org/wiki/Programming_paradigm) basado en el concepto de **objeto**. En el contexto de la POO, los objetos son entidades que poseen:\n",
    "- **Estado**: implementado con un conjunto de variables llamadas **propiedades**.\n",
    "- **Comportamiento**: implementado con un conjunto de funciones llamadas **métodos**.\n",
    "\n",
    "Los objetos se agrupan en [clases](https://docs.python.org/3/tutorial/classes.html). Todos los objetos de una clase contienen los mismos métodos y propiedades. Una clase puede verse como una plantilla o “machote” a partir de la cual se crean objetos. A un objeto creado a partir de una clase se le llama también una **instancia** de esa clase."
   ]
  },
  {
   "cell_type": "code",
   "execution_count": null,
   "metadata": {},
   "outputs": [],
   "source": [
    "# Definición de la clase cuentaBancaria\n",
    "class cuentaBancaria:\n",
    "    # Propiedades\n",
    "    propietario = \"\"\n",
    "    balance = 0\n",
    "    \n",
    "    # Métodos\n",
    "    # Constructor de la clase: crea nuevas instancias e inicializa las propiedades\n",
    "    def __init__(self, propietario, balance):\n",
    "        self.propietario = propietario\n",
    "        self.balance = balance\n",
    "    \n",
    "    # Método para realizar depósitos\n",
    "    def depositar(self, monto):\n",
    "        self.balance = self.balance + monto\n",
    "\n",
    "    # Método para realizar retiros\n",
    "    def retirar(self, monto):\n",
    "        self.balance = self.balance - monto\n",
    "\n",
    "    # Método para imprimir información\n",
    "    def imprimirInformacion(self):\n",
    "        print(\"Propietario: \" + self.propietario + \", Balance: \" + str(self.balance))       "
   ]
  },
  {
   "cell_type": "markdown",
   "metadata": {},
   "source": [
    "Una vez definida una clase, pueden declararse objetos o instancias de esta. Las instancias pueden invocar métodos de la clase mediante la notación:\n",
    "\n",
    "```python\n",
    "    <instancia>.<método>\n",
    "``` \n",
    "\n",
    "A continuación, se presentan algunos ejemplos de instancias de la clase _cuentaBancaria_ y de llamados a sus métodos."
   ]
  },
  {
   "cell_type": "code",
   "execution_count": null,
   "metadata": {},
   "outputs": [
    {
     "name": "stdout",
     "output_type": "stream",
     "text": [
      "Propietario: Juan Pérez, Balance: 6000\n"
     ]
    }
   ],
   "source": [
    "# Instancia cuenta01\n",
    "cuenta01 = cuentaBancaria(\"Juan Pérez\", 1000)\n",
    "cuenta01.depositar(5000)\n",
    "cuenta01.imprimirInformacion()"
   ]
  },
  {
   "cell_type": "code",
   "execution_count": null,
   "metadata": {},
   "outputs": [
    {
     "name": "stdout",
     "output_type": "stream",
     "text": [
      "Propietario: María Pérez, Balance: 1000\n"
     ]
    }
   ],
   "source": [
    "# Instancia cuenta02\n",
    "cuenta02 = cuentaBancaria(\"María Pérez\", 10000)\n",
    "cuenta02.depositar(15000)\n",
    "cuenta02.retirar(24000)\n",
    "cuenta02.imprimirInformacion()"
   ]
  },
  {
   "cell_type": "markdown",
   "metadata": {},
   "source": [
    "### Objetos y clases predefinidas de Python"
   ]
  },
  {
   "cell_type": "markdown",
   "metadata": {},
   "source": [
    "Todos los datos de un programa en Python se representan mediante objetos o por relaciones entre objetos. Los tipos de datos corresponden a las clases de los objetos."
   ]
  },
  {
   "cell_type": "code",
   "execution_count": null,
   "metadata": {},
   "outputs": [
    {
     "name": "stdout",
     "output_type": "stream",
     "text": [
      "<class 'int'>\n"
     ]
    }
   ],
   "source": [
    "# Clase int\n",
    "print(type(234))"
   ]
  },
  {
   "cell_type": "code",
   "execution_count": null,
   "metadata": {},
   "outputs": [
    {
     "name": "stdout",
     "output_type": "stream",
     "text": [
      "<class 'float'>\n"
     ]
    }
   ],
   "source": [
    "# Clase float\n",
    "print(type(10.3))"
   ]
  },
  {
   "cell_type": "code",
   "execution_count": null,
   "metadata": {},
   "outputs": [
    {
     "name": "stdout",
     "output_type": "stream",
     "text": [
      "<class 'bool'>\n"
     ]
    }
   ],
   "source": [
    "# Clase bool\n",
    "print(type(True))"
   ]
  },
  {
   "cell_type": "code",
   "execution_count": null,
   "metadata": {},
   "outputs": [
    {
     "name": "stdout",
     "output_type": "stream",
     "text": [
      "<class 'list'>\n"
     ]
    }
   ],
   "source": [
    "# Clase list\n",
    "print(type([True, 23, 20.6, (1, 2, 3)]))"
   ]
  },
  {
   "cell_type": "markdown",
   "metadata": {},
   "source": [
    "El que un dato sea un objeto, implica que además de su valor tiene un conjunto de operaciones asociadas (métodos) que se aplican mediante operadores (ej. `+`, `-`, `*`, `%`) o funciones (ej. `len()`, `type()`). Tanto los operadores como las funciones pueden aplicarse en varias clases. Por ejemplo, el operador `+` se usa para `int`, `float`, `str`, `list` y otras clases; `len()` se usa también en varios tipos de datos."
   ]
  },
  {
   "cell_type": "markdown",
   "metadata": {},
   "source": [
    "## Otros tipos de datos: cadenas de caracteres, secuencias y diccionarios"
   ]
  },
  {
   "cell_type": "markdown",
   "metadata": {},
   "source": [
    "### La clase `str`"
   ]
  },
  {
   "cell_type": "markdown",
   "metadata": {},
   "source": [
    "Como ya se ha explicado, la clase [str](https://docs.python.org/3/library/stdtypes.html#text-sequence-type-str) se utiliza para representar datos textuales en Python. Esta clase proporciona un conjunto de [métodos](https://docs.python.org/3/library/stdtypes.html#string-methods), de los que se presentan algunos ejemplos a continuación."
   ]
  },
  {
   "cell_type": "code",
   "execution_count": null,
   "metadata": {},
   "outputs": [
    {
     "data": {
      "text/plain": [
       "'Hola'"
      ]
     },
     "execution_count": 60,
     "metadata": {},
     "output_type": "execute_result"
    }
   ],
   "source": [
    "# str.capitalize(): retorna una copia de 'str' con el primer carácter en mayúscula y el resto en minúscula.\n",
    "'hola'.capitalize()"
   ]
  },
  {
   "cell_type": "code",
   "execution_count": null,
   "metadata": {},
   "outputs": [
    {
     "data": {
      "text/plain": [
       "'hola'"
      ]
     },
     "execution_count": 61,
     "metadata": {},
     "output_type": "execute_result"
    }
   ],
   "source": [
    "# str.lower(): retorna una copia de 'str' con todos los caracteres en minúscula\n",
    "'HOLA'.lower()"
   ]
  },
  {
   "cell_type": "code",
   "execution_count": null,
   "metadata": {},
   "outputs": [
    {
     "data": {
      "text/plain": [
       "2"
      ]
     },
     "execution_count": 62,
     "metadata": {},
     "output_type": "execute_result"
    }
   ],
   "source": [
    "# str.count(sub[, start[, end]]): retorna el número de hileras no traslapadas de la subhilera 'sub' \n",
    "# en el rango [start, end], el cual es opcional, de 'str'.\n",
    "\n",
    "cita_socrates = 'Yo solo sé, que no sé nada'\n",
    "cita_socrates.count('sé') # se cuentan todas las ocurrencias de 'sé'"
   ]
  },
  {
   "cell_type": "code",
   "execution_count": null,
   "metadata": {},
   "outputs": [
    {
     "data": {
      "text/plain": [
       "1"
      ]
     },
     "execution_count": 63,
     "metadata": {},
     "output_type": "execute_result"
    }
   ],
   "source": [
    "cita_socrates.count('sé', 0, 10) # se cuentan solo las ocurrencias ubicadas en el rango [0, 10]"
   ]
  },
  {
   "cell_type": "code",
   "execution_count": null,
   "metadata": {},
   "outputs": [
    {
     "data": {
      "text/plain": [
       "3"
      ]
     },
     "execution_count": 64,
     "metadata": {},
     "output_type": "execute_result"
    }
   ],
   "source": [
    "# str.find(sub[, start[, end]]): retorna el índice menor en donde se encuentra 'sub'\n",
    "# en el rango [start, end] de 'str'\n",
    "\n",
    "'Yo solo sé, que no sé nada'.find('solo')"
   ]
  },
  {
   "cell_type": "code",
   "execution_count": null,
   "metadata": {},
   "outputs": [
    {
     "data": {
      "text/plain": [
       "'Yo solamente sé, que no sé nada'"
      ]
     },
     "execution_count": 65,
     "metadata": {},
     "output_type": "execute_result"
    }
   ],
   "source": [
    "# str.replace(old, new[, count]): retorna una copia de 'str' con todas las ocurrencias\n",
    "# de la subhilera 'old' reemplazadas por 'new'. \n",
    "# Si 'count' es especificado, solo se reemplazan las primeras 'count' ocurrencias de 'old'\n",
    "cita_socrates.replace(\"solo\", \"solamente\")"
   ]
  },
  {
   "cell_type": "markdown",
   "metadata": {},
   "source": [
    "**Formateo de hileras**\n",
    "\n",
    "Se implementa a través del método [str.format()](https://docs.python.org/3/library/stdtypes.html#str.format). Pueden verse varios ejemplos en [https://pyformat.info/](https://pyformat.info/)."
   ]
  },
  {
   "cell_type": "code",
   "execution_count": null,
   "metadata": {},
   "outputs": [
    {
     "data": {
      "text/plain": [
       "'La suma de 3 + 4 es 7 y la resta de 10 - 6 es 4'"
      ]
     },
     "execution_count": 66,
     "metadata": {},
     "output_type": "execute_result"
    }
   ],
   "source": [
    "# Formateo de números enteros\n",
    "'La suma de 3 + 4 es {} y la resta de 10 - 6 es {}'.format(7, 4)"
   ]
  },
  {
   "cell_type": "code",
   "execution_count": null,
   "metadata": {},
   "outputs": [
    {
     "data": {
      "text/plain": [
       "'La relación entre la longitud de una circunferencia y su diámetro es 3.1416'"
      ]
     },
     "execution_count": 67,
     "metadata": {},
     "output_type": "execute_result"
    }
   ],
   "source": [
    "# Formateo de un número en punto flotante (6 caracteres, 4 después del punto decimal)\n",
    "'La relación entre la longitud de una circunferencia y su diámetro es {:6.4f}'.format(3.141592653589793)"
   ]
  },
  {
   "cell_type": "code",
   "execution_count": null,
   "metadata": {},
   "outputs": [
    {
     "data": {
      "text/plain": [
       "'03/02/2001 04:05'"
      ]
     },
     "execution_count": 68,
     "metadata": {},
     "output_type": "execute_result"
    }
   ],
   "source": [
    "# Formateo de fecha y hora\n",
    "from datetime import datetime\n",
    "'{:%d/%m/%Y %H:%M}'.format(datetime(2001, 2, 3, 4, 5))"
   ]
  },
  {
   "cell_type": "markdown",
   "metadata": {},
   "source": [
    "### La clase `list`"
   ]
  },
  {
   "cell_type": "markdown",
   "metadata": {},
   "source": [
    "La clase [list](https://docs.python.org/3/library/stdtypes.html#lists) implementa secuencias mutables (i.e. modificables) de objetos que se especifican como **ítems separados por comas y encerrados entre paréntesis cuadrados**.\n",
    "\n",
    "Se presentan a continuación algunos ejemplos de operaciones y métodos de la clase `list`, los cuales son comunes a todas las clases de [secuencias mutables](https://docs.python.org/3/library/stdtypes.html#mutable-sequence-types):"
   ]
  },
  {
   "cell_type": "code",
   "execution_count": null,
   "metadata": {},
   "outputs": [],
   "source": [
    "lista = [10, 20, 30, 40, 50]"
   ]
  },
  {
   "cell_type": "code",
   "execution_count": null,
   "metadata": {},
   "outputs": [
    {
     "data": {
      "text/plain": [
       "[10, 20, 300, 40, 50]"
      ]
     },
     "execution_count": 70,
     "metadata": {},
     "output_type": "execute_result"
    }
   ],
   "source": [
    "# Reemplazo de un ítem con base en su posición\n",
    "lista[2] = 300\n",
    "lista"
   ]
  },
  {
   "cell_type": "code",
   "execution_count": null,
   "metadata": {},
   "outputs": [
    {
     "data": {
      "text/plain": [
       "[10, 20, 300, 40]"
      ]
     },
     "execution_count": 71,
     "metadata": {},
     "output_type": "execute_result"
    }
   ],
   "source": [
    "# Borrado de un ítem con base en su posición\n",
    "del lista[4]\n",
    "lista"
   ]
  },
  {
   "cell_type": "code",
   "execution_count": null,
   "metadata": {},
   "outputs": [
    {
     "data": {
      "text/plain": [
       "[10, 20, 300, 40, 50]"
      ]
     },
     "execution_count": 72,
     "metadata": {},
     "output_type": "execute_result"
    }
   ],
   "source": [
    "# list.append(x): agrega 'x' al final de 'list'\n",
    "lista.append(50)\n",
    "lista"
   ]
  },
  {
   "cell_type": "code",
   "execution_count": null,
   "metadata": {},
   "outputs": [
    {
     "data": {
      "text/plain": [
       "[10, 20, 300, 40, 45, 50]"
      ]
     },
     "execution_count": 73,
     "metadata": {},
     "output_type": "execute_result"
    }
   ],
   "source": [
    "# list.insert(i, x): inserta 'x' en al posición 'i'\n",
    "lista.insert(4, 45)\n",
    "lista"
   ]
  },
  {
   "cell_type": "markdown",
   "metadata": {},
   "source": [
    "### La clase `dict`"
   ]
  },
  {
   "cell_type": "markdown",
   "metadata": {},
   "source": [
    "La clase [dict](https://docs.python.org/3/library/stdtypes.html#mapping-types-dict) (o *diccionario*) implementa un conjunto de pares ordenados de la forma _atributo_:_valor_. Por ejemplo:"
   ]
  },
  {
   "cell_type": "code",
   "execution_count": null,
   "metadata": {},
   "outputs": [],
   "source": [
    "persona = {\"cedula\":\"408730281\", \"nombre\":\"Juan\", \"apellido\":\"Pérez\"}"
   ]
  },
  {
   "cell_type": "markdown",
   "metadata": {},
   "source": [
    "Ejemplos de operaciones y métodos de la clase `dict`:"
   ]
  },
  {
   "cell_type": "code",
   "execution_count": null,
   "metadata": {},
   "outputs": [
    {
     "data": {
      "text/plain": [
       "'408730281'"
      ]
     },
     "execution_count": 75,
     "metadata": {},
     "output_type": "execute_result"
    }
   ],
   "source": [
    "# Retorno de valor correspondiente a una llave\n",
    "persona[\"cedula\"]"
   ]
  },
  {
   "cell_type": "code",
   "execution_count": null,
   "metadata": {},
   "outputs": [
    {
     "data": {
      "text/plain": [
       "{'cedula': '408730281', 'nombre': 'María', 'apellido': 'Pérez'}"
      ]
     },
     "execution_count": 76,
     "metadata": {},
     "output_type": "execute_result"
    }
   ],
   "source": [
    "# Asignación de un valor a una llave\n",
    "persona[\"nombre\"] = \"María\"\n",
    "persona"
   ]
  },
  {
   "cell_type": "code",
   "execution_count": null,
   "metadata": {},
   "outputs": [
    {
     "data": {
      "text/plain": [
       "True"
      ]
     },
     "execution_count": 77,
     "metadata": {},
     "output_type": "execute_result"
    }
   ],
   "source": [
    "# Verificación de si una llave existe\n",
    "\"apellido\" in persona"
   ]
  },
  {
   "cell_type": "code",
   "execution_count": null,
   "metadata": {},
   "outputs": [
    {
     "data": {
      "text/plain": [
       "dict_items([('cedula', '408730281'), ('nombre', 'María'), ('apellido', 'Pérez')])"
      ]
     },
     "execution_count": 78,
     "metadata": {},
     "output_type": "execute_result"
    }
   ],
   "source": [
    "# dict.items(): retorna los ítems (pares (llave, valor)) de 'dict'\n",
    "persona.items()"
   ]
  },
  {
   "cell_type": "code",
   "execution_count": null,
   "metadata": {},
   "outputs": [
    {
     "data": {
      "text/plain": [
       "dict_keys(['cedula', 'nombre', 'apellido'])"
      ]
     },
     "execution_count": 79,
     "metadata": {},
     "output_type": "execute_result"
    }
   ],
   "source": [
    "# dict.keys(): retorna las llaves de 'dict'\n",
    "persona.keys()"
   ]
  },
  {
   "cell_type": "code",
   "execution_count": null,
   "metadata": {},
   "outputs": [
    {
     "data": {
      "text/plain": [
       "dict_values(['408730281', 'María', 'Pérez'])"
      ]
     },
     "execution_count": 80,
     "metadata": {},
     "output_type": "execute_result"
    }
   ],
   "source": [
    "# dict.values(): retorna los valores de 'dict'\n",
    "persona.values()"
   ]
  },
  {
   "cell_type": "code",
   "execution_count": null,
   "metadata": {},
   "outputs": [
    {
     "data": {
      "text/plain": [
       "'Pérez'"
      ]
     },
     "execution_count": 81,
     "metadata": {},
     "output_type": "execute_result"
    }
   ],
   "source": [
    "# dict.get(key[, default]): retorna el valor de la llave 'key' en 'dict'\n",
    "persona.get(\"apellido\")"
   ]
  },
  {
   "cell_type": "markdown",
   "metadata": {},
   "source": [
    "## Archivos"
   ]
  },
  {
   "cell_type": "markdown",
   "metadata": {},
   "source": [
    "Los archivos proporcionan una forma de almacenar datos de manera persistente (i.e. no volátil) en medios como discos duros, discos compactos, DVD, dispositivos de almacenamiento USB y otros. Contrario a lo que sucede a las estructuras que residen en la memoria del computador, como las variables, la información almacenada en archivos permanece después de que finaliza la ejecución de un programa o se apaga el computador. En Python, los archivos se manejan como objetos de tipo [file](https://docs.python.org/3/glossary.html#term-file-object), los cuales tienen un conjunto de [métodos](https://docs.python.org/3/tutorial/inputoutput.html#reading-and-writing-files), entre las que están:\n",
    "\n",
    "* [open()](https://docs.python.org/3/library/functions.html#open): para abrir un archivo.  \n",
    "* [read()](https://docs.python.org/3/tutorial/inputoutput.html#reading-and-writing-files): para leer datos de un archivo.  \n",
    "* [write()](https://docs.python.org/3/tutorial/inputoutput.html#reading-and-writing-files): para escribir datos en un archivo.  \n",
    "* [close()](https://docs.python.org/3/tutorial/inputoutput.html#methods-of-file-objects): para cerrar un archivo.\n",
    "\n",
    "Estas operaciones se ilustran en la {numref}`figure-operaciones-archivos-python`.\n",
    "\n",
    "```{figure} img/operaciones-archivos-python.png\n",
    ":name: figure-operaciones-archivos-python\n",
    "\n",
    "Operaciones para manejo de archivos en Python. Fuente: {cite}`severance_py4e_nodate`.\n",
    "```\n",
    "\n",
    "Estas operaciones se realizan a través de una variable llamada \"manejador de archivo\" (*file handle*)."
   ]
  },
  {
   "cell_type": "markdown",
   "metadata": {},
   "source": [
    "### Uso de la sentencia ```with``` para leer y escribir en archivos\n",
    "La sentencia [with](https://docs.python.org/3/reference/compound_stmts.html#with) se utiliza para ejecutar un bloque con métodos definidos por un [administrador de contexto (*context manager*)](https://docs.python.org/3/reference/datamodel.html#context-managers). Entre otros usos, permite recorrer un archivo y cerrarlo automáticamente cuando se finaliza.\n",
    "\n",
    "El siguiente bloque de código abre un archivo en modo de lectura (```\"r\"```) con la función open() y recorre e imprime cada una de sus líneas."
   ]
  },
  {
   "cell_type": "code",
   "execution_count": null,
   "id": "05959788",
   "metadata": {},
   "outputs": [
    {
     "name": "stdout",
     "output_type": "stream",
     "text": [
      "nombre,pais,longitud,latitud\n",
      "La Gran Pirámide de Guiza,Egipto,31.134358,29.979175\n",
      "Los Jardines Colgantes de Babilonia,Irak,44.4275,32.5355\n",
      "El Templo de Artemisa,Turquía,37.949722,27.363889\n",
      "La Estatua de Zeus en Olimpia,Grecia,21.63,37.637861\n",
      "El Mausoleo de Halicarnaso,Turquía,27.424056,37.037944\n",
      "El Coloso de Rodas,Grecia,28.227778,36.451111\n",
      "El Faro de Alejandría,Egipto,29.885,31.214167\n"
     ]
    }
   ],
   "source": [
    "# Recorrido e impresión de las líneas de un archivo de texto\n",
    "with open(\"datos/maravillas_antiguas.csv\", \"r\") as archivo:\n",
    "    for linea in archivo:\n",
    "        print(linea, end='')"
   ]
  },
  {
   "cell_type": "markdown",
   "id": "38c8a728",
   "metadata": {
    "lines_to_next_cell": 0
   },
   "source": [
    "Para escribir en un archivo, este debe abrirse en modo de escritura (```\"w\"```)."
   ]
  },
  {
   "cell_type": "code",
   "execution_count": null,
   "id": "b2a56975",
   "metadata": {},
   "outputs": [],
   "source": [
    "# Escritura en un archivo\n",
    "with open(\"datos/archivo_nuevo.csv\", \"w\") as archivo:\n",
    "    archivo.write('Línea 1\\n')\n",
    "    archivo.write('Línea 2\\n')\n",
    "    archivo.write('Línea 3\\n')"
   ]
  },
  {
   "cell_type": "markdown",
   "id": "6daefa94",
   "metadata": {
    "lines_to_next_cell": 0
   },
   "source": [
    "### Archivos CSV\n",
    "Los archivos CSV (*comma separated values*, valores separados por comas) son de los más empleados para intercambiar datos en formato tabular (i.e. en columnas). Pueden llamarse de otras formas, como por ejemplo “archivos de texto delimitado”. Son ampliamente utilizados para importar y exportar datos desde y hacia hojas electrónicas, bases de datos y otros sistemas de manejo de información. Consisten de líneas de texto en las cuales hay datos separados por comas. Cada dato corresponde a una columna. Por ejemplo, el siguiente es el contenido de un archivo CSV con cuatro columnas:\n",
    "\n",
    "```\n",
    "nombre,ubicacion,longitud,latitud\n",
    "Taj Mahal,India,78.042111,27.174799\n",
    "Chichen Itza,México,-88.56865,20.6829\n",
    "La estatua de Cristo Redentor,Brasil,-43.210556,-22.951944\n",
    "```\n",
    "\n",
    "A pesar de ser ampliamente usados, los archivos CSV no son un formato completamente estandarizado, por lo que pueden presentarse con algunas variantes:\n",
    "\n",
    "* La primera línea tiene usualmente los nombres de las columnas (llamados también encabezados), pero no siempre.\n",
    "* El caracter separador de las columnas no siempre es una coma. Puede ser también un tabulador, un punto y coma, otro carácter o incluso una combinación de caracteres.\n",
    "* Las columnas de texto pueden ir encerradas entre comillas para evitar el problema que se presenta si dentro del texto hay una coma u otro carácter separador.\n",
    "* El conjunto de caracteres puede sufrir alteraciones cuando se traslada entre herramientas de software o entre sistemas operativos, sobre en todo en caracteres especiales como los acentos."
   ]
  },
  {
   "cell_type": "markdown",
   "metadata": {},
   "source": [
    "#### El módulo ```csv```\n",
    "El módulo [csv](https://docs.python.org/3/library/csv.html) facilita el manejo de archivos CSV en Python. Además de leer el archivo línea por línea, las separa en sus respectivas columnas, al representarlas mediante listas. El método [csv.reader()](https://docs.python.org/3/library/csv.html#csv.reader) retorna una lista con las líneas del archivo. Cada línea es, a su vez, una lista de hileras de texto que corresponden a las columnas del archivo.\n",
    "\n",
    "El siguiente bloque de código recorre un archivo CSV e imprime sus líneas y las columnas que las componen."
   ]
  },
  {
   "cell_type": "code",
   "execution_count": null,
   "id": "00221578",
   "metadata": {},
   "outputs": [
    {
     "name": "stdout",
     "output_type": "stream",
     "text": [
      "Línea:  ['nombre', 'pais', 'longitud', 'latitud']\n",
      "Columna:  nombre\n",
      "Columna:  pais\n",
      "Columna:  longitud\n",
      "Columna:  latitud\n",
      "Línea:  ['La Gran Pirámide de Guiza', 'Egipto', '31.134358', '29.979175']\n",
      "Columna:  La Gran Pirámide de Guiza\n",
      "Columna:  Egipto\n",
      "Columna:  31.134358\n",
      "Columna:  29.979175\n",
      "Línea:  ['Los Jardines Colgantes de Babilonia', 'Irak', '44.4275', '32.5355']\n",
      "Columna:  Los Jardines Colgantes de Babilonia\n",
      "Columna:  Irak\n",
      "Columna:  44.4275\n",
      "Columna:  32.5355\n",
      "Línea:  ['El Templo de Artemisa', 'Turquía', '37.949722', '27.363889']\n",
      "Columna:  El Templo de Artemisa\n",
      "Columna:  Turquía\n",
      "Columna:  37.949722\n",
      "Columna:  27.363889\n",
      "Línea:  ['La Estatua de Zeus en Olimpia', 'Grecia', '21.63', '37.637861']\n",
      "Columna:  La Estatua de Zeus en Olimpia\n",
      "Columna:  Grecia\n",
      "Columna:  21.63\n",
      "Columna:  37.637861\n",
      "Línea:  ['El Mausoleo de Halicarnaso', 'Turquía', '27.424056', '37.037944']\n",
      "Columna:  El Mausoleo de Halicarnaso\n",
      "Columna:  Turquía\n",
      "Columna:  27.424056\n",
      "Columna:  37.037944\n",
      "Línea:  ['El Coloso de Rodas', 'Grecia', '28.227778', '36.451111']\n",
      "Columna:  El Coloso de Rodas\n",
      "Columna:  Grecia\n",
      "Columna:  28.227778\n",
      "Columna:  36.451111\n",
      "Línea:  ['El Faro de Alejandría', 'Egipto', '29.885', '31.214167']\n",
      "Columna:  El Faro de Alejandría\n",
      "Columna:  Egipto\n",
      "Columna:  29.885\n",
      "Columna:  31.214167\n"
     ]
    }
   ],
   "source": [
    "import csv\n",
    "\n",
    "# Recorrido e impresión de las líneas de un archivo de texto\n",
    "with open(\"datos/maravillas_antiguas.csv\") as archivo:\n",
    "    # Se crea el objeto reader\n",
    "    lector = csv.reader(archivo)\n",
    "    \n",
    "    # Se recorren las líneas\n",
    "    for linea in lector:\n",
    "        print('Línea: ', linea)\n",
    "        \n",
    "        # Se recorren las columnas de la línea\n",
    "        for columna in linea:\n",
    "            print ('Columna: ', columna)"
   ]
  },
  {
   "cell_type": "markdown",
   "id": "60ebd244",
   "metadata": {},
   "source": [
    "El método [csv.writer()](https://docs.python.org/3/library/csv.html#csv.writer) se utiliza para escribir en un archivo CSV. El siguiente bloque de código abre un archivo CSV de entrada y recorre sus líneas. Si la columna de ubicación de una línea corresponde a Egipto o Irak, escribe la línea en un archivo de salida."
   ]
  },
  {
   "cell_type": "code",
   "execution_count": null,
   "id": "dd345415",
   "metadata": {},
   "outputs": [
    {
     "name": "stdout",
     "output_type": "stream",
     "text": [
      "['nombre', 'pais', 'longitud', 'latitud']\n",
      "['La Gran Pirámide de Guiza', 'Egipto', '31.134358', '29.979175']\n",
      "['Los Jardines Colgantes de Babilonia', 'Irak', '44.4275', '32.5355']\n",
      "['El Faro de Alejandría', 'Egipto', '29.885', '31.214167']\n"
     ]
    }
   ],
   "source": [
    "import csv\n",
    "\n",
    "# Recorrido de las líneas de un archivo de texto y escritura en un nuevo archivo de las líneas que cumplen con una condición\n",
    "with open(\"datos/maravillas_antiguas.csv\") as archivo_entrada:\n",
    "    lector = csv.reader(archivo_entrada)\n",
    "\n",
    "    with open(\"datos/maravillas_antiguas_irak_egipto.csv\", \"w\") as archivo_salida:\n",
    "        escritor = csv.writer(archivo_salida, delimiter=',')\n",
    "        i = 0\n",
    "        for linea in lector:\n",
    "            if i == 0:\n",
    "                # Línea del encabezado\n",
    "                escritor.writerow(linea)\n",
    "                print(linea)\n",
    "            elif linea[1] == \"Irak\" or linea[1] == \"Egipto\":\n",
    "                 # La ubicación es Egipto o Irak\n",
    "                escritor.writerow(linea)\n",
    "                print(linea)\n",
    "            i = i + 1"
   ]
  },
  {
   "cell_type": "markdown",
   "metadata": {},
   "source": [
    "### Ejercicios"
   ]
  },
  {
   "cell_type": "markdown",
   "metadata": {},
   "source": [
    "Los siguientes ejercicios están basados en el conjunto de datos [Titanic extended dataset (Kaggle + Wikipedia)](https://www.kaggle.com/datasets/pavlofesenko/titanic-extended). \n",
    "\n",
    "1. Descargue el conjunto de datos y extraiga el archivo CSV con la lista completa de pasajeros (también está disponible en [https://github.com/gf0657-programacionsig/2022-ii/blob/main/contenido/2/datos/kaggle-wikipedia/titanic/pasajeros-titanic-todos.csv](https://github.com/gf0657-programacionsig/2022-ii/blob/main/contenido/2/datos/kaggle-wikipedia/titanic/pasajeros-titanic-todos.csv)).\n",
    "\n",
    "\n",
    "2. Revise la descripción del conjunto de datos y sus propiedades (i.e. columnas).\n",
    "\n",
    "\n",
    "3. Con el módulo `csv`, extraiga en archivos CSV los siguientes subconjuntos de datos y anote la cantidad de registros de cada uno.\n",
    "\n",
    "- Hombres y mujeres (en archivos separados).\n",
    "- Pasajeros en cada clase (1, 2, 3) (en archivos separados).\n",
    "- Pasajeros que sobrevivieron y pasajeros que fallecieron (en archivos separados).\n",
    "- Hombres que sobrevivieron y mujeres que sobrevivieron (en archivos separados).\n",
    "- Hombres que fallecieron y mujeres que fallecieron (en archivos separados).\n",
    "- Pasajeros en cada clase (1, 2, 3) que sobrevivieron y que fallecieron (en archivos separados).\n",
    "- Anote la cantidad total de pasajeros que viajaban en el Titanic.\n",
    "\n",
    "\n",
    "4. Con base en la información recopilada, calcule:\n",
    "\n",
    "- Proporción de sobrevivientes por sexo.\n",
    "- Proporción de sobrevivientes por clase."
   ]
  },
  {
   "cell_type": "markdown",
   "metadata": {},
   "source": [
    "## Referencias bibliográficas\n",
    "```{bibliography}\n",
    ":filter: docname in docnames\n",
    "```"
   ]
  },
  {
   "cell_type": "code",
   "execution_count": null,
   "metadata": {},
   "outputs": [],
   "source": []
  }
 ],
 "metadata": {
  "kernelspec": {
   "display_name": "Python 3 (ipykernel)",
   "language": "python",
   "name": "python3"
  },
  "language_info": {
   "codemirror_mode": {
    "name": "ipython",
    "version": 3
   },
   "file_extension": ".py",
   "mimetype": "text/x-python",
   "name": "python",
   "nbconvert_exporter": "python",
   "pygments_lexer": "ipython3",
   "version": "3.12.5"
  }
 },
 "nbformat": 4,
 "nbformat_minor": 2
}