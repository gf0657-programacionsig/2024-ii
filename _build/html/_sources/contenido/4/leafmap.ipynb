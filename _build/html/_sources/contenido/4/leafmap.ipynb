{
 "cells": [
  {
   "cell_type": "markdown",
   "id": "4959935a",
   "metadata": {},
   "source": [
    "# leafmap: biblioteca para análisis geoespacial y mapas interactivos\n",
    "\n",
    "[![Abrir en Colab](https://colab.research.google.com/assets/colab-badge.svg)](https://colab.research.google.com/github/gf0657-programacionsig/2024-ii/blob/main/contenido/4/leafmap.ipynb)"
   ]
  },
  {
   "cell_type": "markdown",
   "id": "660bb972",
   "metadata": {},
   "source": [
    "**NOTA IMPORTANTE**\n",
    "\n",
    "Debido a que los mapas generados con leafmap están diseñados para ejecutarse en cuadernos Jupyter, algunos podrían no apreciarse adecuadamente en páginas HTML estáticas como las de este curso, pero pueden visualizarse también en:\n",
    "\n",
    "[https://colab.research.google.com/github/gf0657-programacionsig/2024-ii/blob/main/contenido/4/leafmap.ipynb](https://colab.research.google.com/github/gf0657-programacionsig/2024-ii/blob/main/contenido/4/leafmap.ipynb)"
   ]
  },
  {
   "cell_type": "markdown",
   "id": "b5cf76a4",
   "metadata": {},
   "source": [
    "## Introducción"
   ]
  },
  {
   "cell_type": "markdown",
   "id": "2352666f",
   "metadata": {},
   "source": [
    "[leafmap](https://leafmap.org/) es una biblioteca de Python para crear visualizaciones interactivas de datos geoespaciales en cuadernos de notas Jupyter. Ha sido desarrollada con base en otras bibliotecas de mapeo como [folium](https://python-visualization.github.io/folium), [ipyleaflet](https://ipyleaflet.readthedocs.io/), [maplibre](https://maplibre.org/), [bokeh](https://docs.bokeh.org/en/latest/docs/user_guide/topics/geo.html), [pydeck](https://deckgl.readthedocs.io/), [kepler.gl](https://docs.kepler.gl/docs/keplergl-jupyter) y [plotly](https://plotly.com/python/maps). leafmap proporciona una interfaz de programación de aplicaciones (API) unificada para acceder a las funcionalidades de estas bibliotecas.\n",
    "\n",
    "En este capítulo se detallan y ejemplifican algunas de las principales capacidades de leafmap."
   ]
  },
  {
   "cell_type": "markdown",
   "id": "ff5b1498",
   "metadata": {},
   "source": [
    "## Instalación"
   ]
  },
  {
   "cell_type": "markdown",
   "id": "efbeeb72",
   "metadata": {},
   "source": [
    "### En ambientes locales (ej. conda)"
   ]
  },
  {
   "cell_type": "markdown",
   "id": "e0dac2e8",
   "metadata": {},
   "source": [
    "Se recomienda actualizar primero conda y mamba."
   ]
  },
  {
   "cell_type": "markdown",
   "id": "28bcc603",
   "metadata": {},
   "source": [
    "```bash\n",
    "# Actualizar conda y mamba\n",
    "conda update conda\n",
    "conda update -c conda-forge mamba\n",
    "```"
   ]
  },
  {
   "cell_type": "markdown",
   "id": "026c75bd",
   "metadata": {},
   "source": [
    "leafmap puede instalarse con `pip`, `conda` o `mamba`, desde la línea de comandos del sistema operativo. Solo es necesario hacerlo de una forma. Se recomienda instalarla junto con el paquete fiona (para leer y escribir archivos geoespaciales)."
   ]
  },
  {
   "cell_type": "markdown",
   "id": "deb50652",
   "metadata": {},
   "source": [
    "```bash\n",
    "# Instalar leafmap con pip\n",
    "pip install leafmap\n",
    "# Actualizar leafmap con pip\n",
    "pip install -U leafmap\n",
    "\n",
    "# Instalar leafmap con conda\n",
    "conda install -c conda-forge leafmap\n",
    "# Actualizar leafmap con conda\n",
    "conda update -c conda-forge leafmap\n",
    "\n",
    "# Instalar leafmap con mamba\n",
    "mamba install -c conda-forge leafmap\n",
    "# Actualizar leafmap con mamba\n",
    "mamba update -c conda-forge leafmap\n",
    "```"
   ]
  },
  {
   "cell_type": "markdown",
   "id": "573e1682",
   "metadata": {},
   "source": [
    "### En la nube (ej. Google Colab)"
   ]
  },
  {
   "cell_type": "code",
   "execution_count": 22,
   "id": "6b18d1fd",
   "metadata": {},
   "outputs": [],
   "source": [
    "# Con pip\n",
    "# !pip install -U leafmap"
   ]
  },
  {
   "cell_type": "markdown",
   "id": "ba92a820",
   "metadata": {},
   "source": [
    "## Carga"
   ]
  },
  {
   "cell_type": "code",
   "execution_count": 23,
   "id": "5982b195",
   "metadata": {},
   "outputs": [],
   "source": [
    "# Carga de leafmap (con el sistema de mapeo de ipyleaflet)\n",
    "import leafmap\n",
    "\n",
    "# Carga de geopandas\n",
    "import geopandas as gpd\n",
    "\n",
    "# Carga de rasterio\n",
    "import rasterio\n",
    "\n",
    "# Carga de numpy\n",
    "import numpy as np"
   ]
  },
  {
   "cell_type": "markdown",
   "id": "20fe1467",
   "metadata": {},
   "source": [
    "lefmap proporciona soporte para diversos sistemas de mapeo (*plotting backends*), incluyendo folium, ipyleaflet, maplibre, bokeh, pydeck, keplergl y plotly. El que se usa por defecto es ipyleaflet. \n",
    "\n",
    "Si se desea cambiar el sistema de mapeo debe utilizarse una de las siguientes sentencias `import`.\n",
    "\n",
    "```bash\n",
    "import leafmap.foliumap as leafmap\n",
    "import leafmap.bokehmap as leafmap\n",
    "import leafmap.maplibregl as leafmap\n",
    "import leafmap.deck as leafmap\n",
    "import leafmap.kepler as leafmap\n",
    "import leafmap.plotlymap as leafmap\n",
    "```"
   ]
  },
  {
   "cell_type": "markdown",
   "id": "11c3e41b",
   "metadata": {},
   "source": [
    "## Operaciones básicas"
   ]
  },
  {
   "cell_type": "markdown",
   "id": "80954699",
   "metadata": {},
   "source": [
    "### Creación y configuraciónb general de mapas"
   ]
  },
  {
   "cell_type": "markdown",
   "id": "57227e6d",
   "metadata": {},
   "source": [
    "El constructor de la clase [`Map`](https://leafmap.org/leafmap/#leafmap.leafmap.Map) crea un mapa interactivo con un mapa base. Por defecto, se utiliza el mapa base de `OpenStreetMap`."
   ]
  },
  {
   "cell_type": "code",
   "execution_count": 24,
   "id": "2fd08149",
   "metadata": {},
   "outputs": [
    {
     "data": {
      "application/vnd.jupyter.widget-view+json": {
       "model_id": "784baf45d935405981a20b1a3aaf4c6b",
       "version_major": 2,
       "version_minor": 0
      },
      "text/plain": [
       "Map(center=[20, 0], controls=(ZoomControl(options=['position', 'zoom_in_text', 'zoom_in_title', 'zoom_out_text…"
      ]
     },
     "execution_count": 24,
     "metadata": {},
     "output_type": "execute_result"
    }
   ],
   "source": [
    "# Crear un mapa leafmap\n",
    "m = leafmap.Map()\n",
    "\n",
    "# Desplegar el mapa\n",
    "m"
   ]
  },
  {
   "cell_type": "markdown",
   "id": "717ea326",
   "metadata": {},
   "source": [
    "El mapa puede ser personalizado con argumentos como `center`, `zoom` y `height`."
   ]
  },
  {
   "cell_type": "code",
   "execution_count": 25,
   "id": "f5b18184",
   "metadata": {},
   "outputs": [
    {
     "data": {
      "application/vnd.jupyter.widget-view+json": {
       "model_id": "f295ecb7dd7e4d35835ac0f5f7c5b6b0",
       "version_major": 2,
       "version_minor": 0
      },
      "text/plain": [
       "Map(center=[9.6, -84.2], controls=(ZoomControl(options=['position', 'zoom_in_text', 'zoom_in_title', 'zoom_out…"
      ]
     },
     "execution_count": 25,
     "metadata": {},
     "output_type": "execute_result"
    }
   ],
   "source": [
    "# Crear un mapa leafmap personalizado\n",
    "m = leafmap.Map(\n",
    "    center=(9.6, -84.2), \n",
    "    zoom=7, \n",
    "    height=\"400px\"\n",
    ")\n",
    "\n",
    "# Desplegar el mapa\n",
    "m"
   ]
  },
  {
   "cell_type": "markdown",
   "id": "3fed820d",
   "metadata": {},
   "source": [
    "Por defecto, un mapa leafmap incluye controles para acercamiento/alejamiento, escala, atribución y barra de herramientas. Estos controles pueden activarse y desactivarse."
   ]
  },
  {
   "cell_type": "code",
   "execution_count": 26,
   "id": "733d951b",
   "metadata": {},
   "outputs": [
    {
     "data": {
      "application/vnd.jupyter.widget-view+json": {
       "model_id": "7713c986e37f4d96a92213e645435f1a",
       "version_major": 2,
       "version_minor": 0
      },
      "text/plain": [
       "Map(center=[9.6, -84.2], controls=(ZoomControl(options=['position', 'zoom_in_text', 'zoom_in_title', 'zoom_out…"
      ]
     },
     "execution_count": 26,
     "metadata": {},
     "output_type": "execute_result"
    }
   ],
   "source": [
    "# Desactivar controles de un mapa leafmap\n",
    "m = leafmap.Map(\n",
    "    center=(9.6, -84.2), \n",
    "    zoom=7, \n",
    "    height=\"400px\",\n",
    "    zoom_control=True,\n",
    "    draw_control=False,\n",
    "    scale_control=False,\n",
    "    fullscreen_control=False,\n",
    "    attribution_control=False,\n",
    "    toolbar_control=False,\n",
    ")\n",
    "\n",
    "# Desplegar el mapa\n",
    "m"
   ]
  },
  {
   "cell_type": "markdown",
   "id": "2164812c",
   "metadata": {},
   "source": [
    "El método [`add_search_control()`](https://leafmap.org/leafmap/#leafmap.leafmap.Map.add_search_control) agrega un control de búsqueda al mapa, el cual permite que los usuarios busquen lugares por sus nombres."
   ]
  },
  {
   "cell_type": "code",
   "execution_count": 27,
   "id": "fea84e7c",
   "metadata": {},
   "outputs": [
    {
     "data": {
      "application/vnd.jupyter.widget-view+json": {
       "model_id": "7713c986e37f4d96a92213e645435f1a",
       "version_major": 2,
       "version_minor": 0
      },
      "text/plain": [
       "Map(center=[9.6, -84.2], controls=(ZoomControl(options=['position', 'zoom_in_text', 'zoom_in_title', 'zoom_out…"
      ]
     },
     "execution_count": 27,
     "metadata": {},
     "output_type": "execute_result"
    }
   ],
   "source": [
    "# Dirección del servicio de búsqueda\n",
    "url = \"https://nominatim.openstreetmap.org/search?format=json&q={s}\"\n",
    "\n",
    "# Agregar un control de búsqueda\n",
    "m.add_search_control(url, position=\"topleft\")\n",
    "\n",
    "# Desplegar el mapa\n",
    "m"
   ]
  },
  {
   "cell_type": "markdown",
   "id": "44f9f85f",
   "metadata": {},
   "source": [
    "### Manejo de datos vectoriales"
   ]
  },
  {
   "cell_type": "markdown",
   "id": "ea49deeb",
   "metadata": {},
   "source": [
    "El método [`add_gdf()`](https://leafmap.org/leafmap/#leafmap.leafmap.Map.add_gdf) agrega un geodataframe como una capa."
   ]
  },
  {
   "cell_type": "code",
   "execution_count": 28,
   "id": "43ca3e4a",
   "metadata": {},
   "outputs": [],
   "source": [
    "# Crear un geodataframe con datos y polígonos de paises\n",
    "paises_gdf = gpd.read_file(\n",
    "    'https://github.com/gf0657-programacionsig/2024-ii/raw/refs/heads/main/datos/natural-earth/paises.gpkg'\n",
    ")"
   ]
  },
  {
   "cell_type": "code",
   "execution_count": 29,
   "id": "25806f51",
   "metadata": {},
   "outputs": [
    {
     "data": {
      "application/vnd.jupyter.widget-view+json": {
       "model_id": "b1c4062a19544afdbd3b9948f210ea4b",
       "version_major": 2,
       "version_minor": 0
      },
      "text/plain": [
       "Map(center=[20, 0], controls=(ZoomControl(options=['position', 'zoom_in_text', 'zoom_in_title', 'zoom_out_text…"
      ]
     },
     "execution_count": 29,
     "metadata": {},
     "output_type": "execute_result"
    }
   ],
   "source": [
    "# Crear mapa leafmap\n",
    "m = leafmap.Map(height=\"400px\")\n",
    "\n",
    "# Agregar capa base\n",
    "m.add_basemap(\"CartoDB.Positron\")\n",
    "\n",
    "# Definir estilo\n",
    "style = {\"color\": \"black\", \"fillColor\": \"black\", \"fillOpacity\": 0.1, \"weight\": 2}\n",
    "\n",
    "# Agregar un geodataframe al mapa\n",
    "m.add_gdf(\n",
    "    paises_gdf, \n",
    "    style=style, \n",
    "    layer_name=\"Países\", \n",
    "    zoom_to_layer=True\n",
    ")\n",
    "\n",
    "# Desplegar el mapa\n",
    "m"
   ]
  },
  {
   "cell_type": "markdown",
   "id": "cc04a900",
   "metadata": {},
   "source": [
    "El método [`add_data()`](https://leafmap.org/leafmap/#leafmap.leafmap.Map.add_data) agrega datos vectoriales a un mapa y puede emplear varios esquemas de clasificación. En el siguiente bloque de código se utiliza para generar un mapa de coropletas según la variable de población."
   ]
  },
  {
   "cell_type": "code",
   "execution_count": 30,
   "id": "a5e63cad",
   "metadata": {},
   "outputs": [
    {
     "data": {
      "application/vnd.jupyter.widget-view+json": {
       "model_id": "5746dad0749b4cdc9f8b4d41195b9366",
       "version_major": 2,
       "version_minor": 0
      },
      "text/plain": [
       "Map(center=[20, 0], controls=(ZoomControl(options=['position', 'zoom_in_text', 'zoom_in_title', 'zoom_out_text…"
      ]
     },
     "execution_count": 30,
     "metadata": {},
     "output_type": "execute_result"
    }
   ],
   "source": [
    "# Crear mapa leafmap\n",
    "m = leafmap.Map(height=\"400px\")\n",
    "\n",
    "# Agregar capa de datos vectoriales\n",
    "m.add_data(\n",
    "    paises_gdf, \n",
    "    column=\"POP_EST\", # columna para el mapa de coropletas\n",
    "    scheme=\"Quantiles\", # esquema de clasificación\n",
    "    cmap=\"Blues\", # paleta de colores\n",
    "    legend_title=\"Población estimada\"\n",
    ")\n",
    "\n",
    "# Desplegar el mapa\n",
    "m"
   ]
  },
  {
   "cell_type": "markdown",
   "id": "8cc30720",
   "metadata": {},
   "source": [
    "### Manejo de datos raster"
   ]
  },
  {
   "cell_type": "markdown",
   "id": "9c53560f",
   "metadata": {},
   "source": [
    "El método [`add_raster()`](https://leafmap.org/leafmap/#leafmap.leafmap.Map.add_raster) agrega una capa raster al mapa."
   ]
  },
  {
   "cell_type": "code",
   "execution_count": 31,
   "id": "af958746",
   "metadata": {},
   "outputs": [],
   "source": [
    "# Lectura de datos de altitud\n",
    "altitud = rasterio.open(\n",
    "    'https://github.com/gf0657-programacionsig/2024-ii/raw/refs/heads/main/datos/worldclim/altitud.tif'\n",
    ")"
   ]
  },
  {
   "cell_type": "code",
   "execution_count": 32,
   "id": "4a3df011",
   "metadata": {},
   "outputs": [
    {
     "data": {
      "application/vnd.jupyter.widget-view+json": {
       "model_id": "92912aaa878a46c19daa6998082c7047",
       "version_major": 2,
       "version_minor": 0
      },
      "text/plain": [
       "Map(center=[8.3583335, -84.8291665], controls=(ZoomControl(options=['position', 'zoom_in_text', 'zoom_in_title…"
      ]
     },
     "execution_count": 32,
     "metadata": {},
     "output_type": "execute_result"
    }
   ],
   "source": [
    "# Crear un objeto Map de leafmap\n",
    "m = leafmap.Map(\n",
    "    height=\"400px\",\n",
    "    center=[altitud.bounds.bottom, altitud.bounds.left], \n",
    "    zoom=7\n",
    ")\n",
    "\n",
    "# Agregar el raster al mapa\n",
    "m.add_raster(\n",
    "    'https://github.com/gf0657-programacionsig/2024-ii/raw/refs/heads/main/datos/worldclim/altitud.tif',\n",
    "    colormap='terrain',\n",
    "    layer_name='Capa de Raster'\n",
    ")\n",
    "\n",
    "# Desplegar el mapa\n",
    "m"
   ]
  },
  {
   "cell_type": "markdown",
   "id": "6907477e",
   "metadata": {},
   "source": [
    "Los bloques de código siguientes crean un mapa con dos imágenes de satélite."
   ]
  },
  {
   "cell_type": "code",
   "execution_count": 33,
   "id": "34545a3d",
   "metadata": {},
   "outputs": [
    {
     "data": {
      "text/plain": [
       "'/home/mfvargas/gf0657-programacionsig/2024-ii/github/2024-ii/contenido/4/gandoca-20240618.tif'"
      ]
     },
     "execution_count": 33,
     "metadata": {},
     "output_type": "execute_result"
    }
   ],
   "source": [
    "# URL de la imagen 1\n",
    "url1 = \"https://github.com/gf0657-programacionsig/2024-ii/raw/refs/heads/main/datos/sentinel/gandoca-20240105.tif\"\n",
    "archivo1 = \"gandoca-20240105.tif\"\n",
    "\n",
    "# URL de la imagen 2\n",
    "url2 = \"https://github.com/gf0657-programacionsig/2024-ii/raw/refs/heads/main/datos/sentinel/gandoca-20240618.tif\"\n",
    "archivo2 = \"gandoca-20240618.tif\"\n",
    "\n",
    "# Descargar las imágenes en archivos locales\n",
    "leafmap.download_file(url1, archivo1, quiet=True, overwrite=True)\n",
    "leafmap.download_file(url2, archivo2, quiet=True, overwrite=True)"
   ]
  },
  {
   "cell_type": "code",
   "execution_count": 34,
   "id": "ae0f92dc",
   "metadata": {},
   "outputs": [
    {
     "data": {
      "application/vnd.jupyter.widget-view+json": {
       "model_id": "61411443fdd84cc087725f972af71689",
       "version_major": 2,
       "version_minor": 0
      },
      "text/plain": [
       "Map(center=[9.6330545, -82.676109], controls=(ZoomControl(options=['position', 'zoom_in_text', 'zoom_in_title'…"
      ]
     },
     "execution_count": 34,
     "metadata": {},
     "output_type": "execute_result"
    }
   ],
   "source": [
    "# Crear el mapa\n",
    "m = leafmap.Map(height=\"400px\", zoom=20)\n",
    "\n",
    "# Agregar una capa base\n",
    "m.add_basemap(\"CartoDB.Positron\")\n",
    "\n",
    "# Agregar las capas raster con las imágenes\n",
    "m.add_raster(archivo1, indexes=[4, 3, 2], opacity=0.7, layer_name=\"2024-01-05\")\n",
    "m.add_raster(archivo2, indexes=[4, 3, 2], opacity=0.7, layer_name=\"2024-06-18\")\n",
    "\n",
    "# Desplegar el mapa\n",
    "m"
   ]
  },
  {
   "cell_type": "markdown",
   "id": "726e6d7d",
   "metadata": {},
   "source": [
    "El método [`split_map()`](https://leafmap.org/leafmap/#leafmap.leafmap.Map.split_map) crea un mapa que permite comparar dos capas."
   ]
  },
  {
   "cell_type": "code",
   "execution_count": 35,
   "id": "e85ee030",
   "metadata": {},
   "outputs": [
    {
     "data": {
      "application/vnd.jupyter.widget-view+json": {
       "model_id": "4b2665f7296b44578937a97f9fb8cbb1",
       "version_major": 2,
       "version_minor": 0
      },
      "text/plain": [
       "Map(center=[9.633083, -82.676167], controls=(ZoomControl(options=['position', 'zoom_in_text', 'zoom_in_title',…"
      ]
     },
     "execution_count": 35,
     "metadata": {},
     "output_type": "execute_result"
    }
   ],
   "source": [
    "# Crear el mapa\n",
    "m = leafmap.Map(\n",
    "    height=\"400px\",\n",
    "    center=[9.633083, -82.676167], \n",
    "    zoom=20\n",
    ")\n",
    "\n",
    "# Agregar una capa base\n",
    "m.add_basemap(\"CartoDB.Positron\")\n",
    "\n",
    "# Agregar el mapa dividido\n",
    "m.split_map(\n",
    "    archivo1,\n",
    "    archivo2,\n",
    "    left_label=\"2024-01-05\",\n",
    "    right_label=\"2024-06-18\",\n",
    "    left_args={\"bands\": [4, 3, 2], \"opacity\": 0.7},\n",
    "    right_args={\"bands\": [4, 3, 2], \"opacity\": 0.7},\n",
    ")\n",
    "\n",
    "# Desplegar el mapa\n",
    "m"
   ]
  },
  {
   "cell_type": "markdown",
   "id": "be763d20",
   "metadata": {},
   "source": [
    "## Ejercicios"
   ]
  },
  {
   "cell_type": "markdown",
   "id": "a4809df6",
   "metadata": {},
   "source": [
    "1. Despliegue en un mapa leafmap las capas raster correspondientes al [Índice de Vegetación de Diferencia Normalizada (NDVI)](https://es.wikipedia.org/wiki/%C3%8Dndice_de_vegetaci%C3%B3n_de_diferencia_normalizada) de las dos imágenes de satélite mostradas en este capítulo en un mapa dividido (*split map*) y observe las diferencias.\n",
    "2. Busque imágenes de dos tiempos diferentes de otra zona afectada por deforestación o avance de la frontera agrícola y observe las diferencias en un mapa dividido. Sugerencias para la elección de la zona: Sierpe, Caño Negro.\n",
    "3. Busque imágenes de dos tiempos diferentes de una zona de alto desarrollo urbanístico reciente, calcule su [Índice de Diferencia Normalizada Edificada (NDBI)](http://www.gisandbeers.com/calculo-indice-ndbi-analisis-urbanisticos/) y muestre los resultados en un mapa dividido."
   ]
  }
 ],
 "metadata": {
  "kernelspec": {
   "display_name": "Python 3 (ipykernel)",
   "language": "python",
   "name": "python3"
  },
  "language_info": {
   "codemirror_mode": {
    "name": "ipython",
    "version": 3
   },
   "file_extension": ".py",
   "mimetype": "text/x-python",
   "name": "python",
   "nbconvert_exporter": "python",
   "pygments_lexer": "ipython3",
   "version": "3.12.5"
  },
  "toc": {
   "base_numbering": 1,
   "nav_menu": {},
   "number_sections": true,
   "sideBar": true,
   "skip_h1_title": false,
   "title_cell": "Table of Contents",
   "title_sidebar": "Contents",
   "toc_cell": false,
   "toc_position": {},
   "toc_section_display": true,
   "toc_window_display": false
  }
 },
 "nbformat": 4,
 "nbformat_minor": 5
}
