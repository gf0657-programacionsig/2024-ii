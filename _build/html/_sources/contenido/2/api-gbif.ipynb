{
 "cells": [
  {
   "cell_type": "markdown",
   "metadata": {},
   "source": [
    "# GBIF API\n"
   ]
  },
  {
   "cell_type": "code",
   "execution_count": 1,
   "metadata": {},
   "outputs": [
    {
     "name": "stdout",
     "output_type": "stream",
     "text": [
      "Número total de registros: 123\n",
      "Especie: Panthera onca\n",
      "Fecha: 2024-01-30T15:18:56\n",
      "Localidad: None\n",
      "Longitud: -83.579157, Latitud: 10.467856\n",
      "----------------------------------------\n",
      "Especie: Panthera onca\n",
      "Fecha: 2024-01-25T07:16\n",
      "Localidad: None\n",
      "Longitud: -84.655167, Latitud: 10.22839\n",
      "----------------------------------------\n",
      "Especie: Panthera onca\n",
      "Fecha: 2024-02-01T13:24:14\n",
      "Localidad: None\n",
      "Longitud: -83.566878, Latitud: 10.449497\n",
      "----------------------------------------\n",
      "Especie: Panthera onca\n",
      "Fecha: 2024-02-06T09:51\n",
      "Localidad: None\n",
      "Longitud: -83.565366, Latitud: 8.466594\n",
      "----------------------------------------\n",
      "Especie: Panthera onca\n",
      "Fecha: 2024-02-08T16:38\n",
      "Localidad: None\n",
      "Longitud: -83.563344, Latitud: 10.454353\n",
      "----------------------------------------\n",
      "Especie: Panthera onca\n",
      "Fecha: 2024-02-09T11:42\n",
      "Localidad: None\n",
      "Longitud: -83.548497, Latitud: 10.469183\n",
      "----------------------------------------\n",
      "Especie: Panthera onca\n",
      "Fecha: 2024-02-09T11:45\n",
      "Localidad: None\n",
      "Longitud: -83.449484, Latitud: 10.556402\n",
      "----------------------------------------\n",
      "Especie: Panthera onca\n",
      "Fecha: 2024-03-11T06:40\n",
      "Localidad: None\n",
      "Longitud: -84.675464, Latitud: 10.839945\n",
      "----------------------------------------\n",
      "Especie: Panthera onca\n",
      "Fecha: 2024-03-05T17:27\n",
      "Localidad: None\n",
      "Longitud: -84.754684, Latitud: 10.32483\n",
      "----------------------------------------\n",
      "Especie: Panthera onca\n",
      "Fecha: 2024-05-25T07:57\n",
      "Localidad: None\n",
      "Longitud: -83.45606, Latitud: 10.411646\n",
      "----------------------------------------\n",
      "Especie: Panthera onca\n",
      "Fecha: 2024-07-11T11:45\n",
      "Localidad: None\n",
      "Longitud: -85.667942, Latitud: 10.69378\n",
      "----------------------------------------\n",
      "Especie: Panthera onca\n",
      "Fecha: 2024-08-30T15:51:24\n",
      "Localidad: None\n",
      "Longitud: -83.403606, Latitud: 10.452461\n",
      "----------------------------------------\n",
      "Especie: Panthera onca\n",
      "Fecha: 2023-02-14T09:10:50\n",
      "Localidad: None\n",
      "Longitud: -83.414722, Latitud: 10.505114\n",
      "----------------------------------------\n",
      "Especie: Panthera onca\n",
      "Fecha: 2023-04-10T11:50:04\n",
      "Localidad: None\n",
      "Longitud: -85.725034, Latitud: 10.800742\n",
      "----------------------------------------\n",
      "Especie: Panthera onca\n",
      "Fecha: 2023-04-10T11:51:04\n",
      "Localidad: None\n",
      "Longitud: -85.738478, Latitud: 10.857479\n",
      "----------------------------------------\n",
      "Especie: Panthera onca\n",
      "Fecha: 2023-06-17T15:53\n",
      "Localidad: None\n",
      "Longitud: -85.429583, Latitud: 10.801074\n",
      "----------------------------------------\n",
      "Especie: Panthera onca\n",
      "Fecha: 2023-07-04T16:17:22\n",
      "Localidad: None\n",
      "Longitud: -84.171909, Latitud: 10.565713\n",
      "----------------------------------------\n",
      "Especie: Panthera onca\n",
      "Fecha: 2023-07-22T06:32\n",
      "Localidad: None\n",
      "Longitud: -84.640117, Latitud: 10.291615\n",
      "----------------------------------------\n",
      "Especie: Panthera onca\n",
      "Fecha: 2023-07-28T15:40\n",
      "Localidad: None\n",
      "Longitud: -84.688657, Latitud: 10.241681\n",
      "----------------------------------------\n",
      "Especie: Panthera onca\n",
      "Fecha: 2023-08-02T13:51\n",
      "Localidad: None\n",
      "Longitud: -84.752421, Latitud: 10.335011\n",
      "----------------------------------------\n",
      "Especie: Panthera onca\n",
      "Fecha: 2023-08-03T15:00\n",
      "Localidad: None\n",
      "Longitud: -84.744394, Latitud: 10.239703\n",
      "----------------------------------------\n",
      "Especie: Panthera onca\n",
      "Fecha: 2023-08-17T06:00\n",
      "Localidad: None\n",
      "Longitud: -84.715788, Latitud: 10.378098\n",
      "----------------------------------------\n",
      "Especie: Panthera onca\n",
      "Fecha: 2023-09-15T23:35\n",
      "Localidad: None\n",
      "Longitud: -84.713735, Latitud: 10.323172\n",
      "----------------------------------------\n",
      "Especie: Panthera onca\n",
      "Fecha: 2023-09-07T10:00\n",
      "Localidad: None\n",
      "Longitud: -84.75432, Latitud: 10.307928\n",
      "----------------------------------------\n",
      "Especie: Panthera onca\n",
      "Fecha: 2023-10-01T10:29:25\n",
      "Localidad: None\n",
      "Longitud: -83.152311, Latitud: 10.164605\n",
      "----------------------------------------\n",
      "Especie: Panthera onca\n",
      "Fecha: 2023-10-04T05:53:18\n",
      "Localidad: None\n",
      "Longitud: -83.234848, Latitud: 10.106577\n",
      "----------------------------------------\n",
      "Especie: Panthera onca\n",
      "Fecha: 2023-10-11T12:28:54\n",
      "Localidad: None\n",
      "Longitud: -85.655421, Latitud: 10.704329\n",
      "----------------------------------------\n",
      "Especie: Panthera onca\n",
      "Fecha: 2022-04-10\n",
      "Localidad: Estaciz\u0005xperimental Forestal Horizontes\n",
      "Longitud: -85.572084, Latitud: 10.738537\n",
      "----------------------------------------\n",
      "Especie: Panthera onca\n",
      "Fecha: 2022-04-10\n",
      "Localidad: Estaciz\u0005xperimental Forestal Horizontes\n",
      "Longitud: -85.572084, Latitud: 10.738537\n",
      "----------------------------------------\n",
      "Especie: Panthera onca\n",
      "Fecha: 2022-04-10\n",
      "Localidad: Estaciz\u0005xperimental Forestal Horizontes\n",
      "Longitud: -85.572084, Latitud: 10.738537\n",
      "----------------------------------------\n",
      "Especie: Panthera onca\n",
      "Fecha: 2022-04-11\n",
      "Localidad: Estaciz\u0005xperimental Forestal Horizontes\n",
      "Longitud: -85.560203, Latitud: 10.763197\n",
      "----------------------------------------\n",
      "Especie: Panthera onca\n",
      "Fecha: 2022-04-11\n",
      "Localidad: Estaciz\u0005xperimental Forestal Horizontes\n",
      "Longitud: -85.560203, Latitud: 10.763197\n",
      "----------------------------------------\n",
      "Especie: Panthera onca\n",
      "Fecha: 2022-04-11\n",
      "Localidad: Estaciz\u0005xperimental Forestal Horizontes\n",
      "Longitud: -85.560203, Latitud: 10.763197\n",
      "----------------------------------------\n",
      "Especie: Panthera onca\n",
      "Fecha: 2022-04-13\n",
      "Localidad: Estaciz\u0005xperimental Forestal Horizontes\n",
      "Longitud: -85.58463, Latitud: 10.72969\n",
      "----------------------------------------\n",
      "Especie: Panthera onca\n",
      "Fecha: 2022-04-13\n",
      "Localidad: Estaciz\u0005xperimental Forestal Horizontes\n",
      "Longitud: -85.58463, Latitud: 10.72969\n",
      "----------------------------------------\n",
      "Especie: Panthera onca\n",
      "Fecha: 2022-04-13\n",
      "Localidad: Estaciz\u0005xperimental Forestal Horizontes\n",
      "Longitud: -85.58463, Latitud: 10.72969\n",
      "----------------------------------------\n",
      "Especie: Panthera onca\n",
      "Fecha: 2022-04-24\n",
      "Localidad: Estaciz\u0005xperimental Forestal Horizontes\n",
      "Longitud: -85.572084, Latitud: 10.738537\n",
      "----------------------------------------\n",
      "Especie: Panthera onca\n",
      "Fecha: 2022-04-24\n",
      "Localidad: Estaciz\u0005xperimental Forestal Horizontes\n",
      "Longitud: -85.572084, Latitud: 10.738537\n",
      "----------------------------------------\n",
      "Especie: Panthera onca\n",
      "Fecha: 2022-04-24\n",
      "Localidad: Estaciz\u0005xperimental Forestal Horizontes\n",
      "Longitud: -85.572084, Latitud: 10.738537\n",
      "----------------------------------------\n",
      "Especie: Panthera onca\n",
      "Fecha: 2022-04-12T07:13:13\n",
      "Localidad: None\n",
      "Longitud: -83.528661, Latitud: 10.59766\n",
      "----------------------------------------\n",
      "Especie: Panthera onca\n",
      "Fecha: 2022-05-16\n",
      "Localidad: Estaciz\u0005xperimental Forestal Horizontes\n",
      "Longitud: -85.572084, Latitud: 10.738537\n",
      "----------------------------------------\n",
      "Especie: Panthera onca\n",
      "Fecha: 2022-05-16\n",
      "Localidad: Estaciz\u0005xperimental Forestal Horizontes\n",
      "Longitud: -85.572084, Latitud: 10.738537\n",
      "----------------------------------------\n",
      "Especie: Panthera onca\n",
      "Fecha: 2022-05-16\n",
      "Localidad: Estaciz\u0005xperimental Forestal Horizontes\n",
      "Longitud: -85.572084, Latitud: 10.738537\n",
      "----------------------------------------\n",
      "Especie: Panthera onca\n",
      "Fecha: 2022-05-16\n",
      "Localidad: Estaciz\u0005xperimental Forestal Horizontes\n",
      "Longitud: -85.572084, Latitud: 10.738537\n",
      "----------------------------------------\n",
      "Especie: Panthera onca\n",
      "Fecha: 2022-05-16\n",
      "Localidad: Estaciz\u0005xperimental Forestal Horizontes\n",
      "Longitud: -85.572084, Latitud: 10.738537\n",
      "----------------------------------------\n",
      "Especie: Panthera onca\n",
      "Fecha: 2022-05-16\n",
      "Localidad: Estaciz\u0005xperimental Forestal Horizontes\n",
      "Longitud: -85.572084, Latitud: 10.738537\n",
      "----------------------------------------\n",
      "Especie: Panthera onca\n",
      "Fecha: 2022-05-22T08:00\n",
      "Localidad: None\n",
      "Longitud: -85.592733, Latitud: 11.02931\n",
      "----------------------------------------\n",
      "Especie: Panthera onca\n",
      "Fecha: 2022-08-22T19:02\n",
      "Localidad: None\n",
      "Longitud: -83.562764, Latitud: 10.489799\n",
      "----------------------------------------\n",
      "Especie: Panthera onca\n",
      "Fecha: 2022-09-28T05:25\n",
      "Localidad: None\n",
      "Longitud: -85.659663, Latitud: 10.847266\n",
      "----------------------------------------\n",
      "Especie: Panthera onca\n",
      "Fecha: 2022-10-09T18:40\n",
      "Localidad: None\n",
      "Longitud: -83.544452, Latitud: 10.544223\n",
      "----------------------------------------\n",
      "Especie: Panthera onca\n",
      "Fecha: 2022-10-28T17:14:58\n",
      "Localidad: None\n",
      "Longitud: -84.012202, Latitud: 10.513393\n",
      "----------------------------------------\n",
      "Especie: Panthera onca\n",
      "Fecha: 2022-12-23\n",
      "Localidad: Estaciz\u0005xperimental Forestal Horizontes\n",
      "Longitud: -85.57318, Latitud: 10.73641\n",
      "----------------------------------------\n",
      "Especie: Panthera onca\n",
      "Fecha: 2022-12-10T11:02:58\n",
      "Localidad: None\n",
      "Longitud: -83.454236, Latitud: 10.407485\n",
      "----------------------------------------\n",
      "Especie: Panthera onca\n",
      "Fecha: 2021-03-16\n",
      "Localidad: RANCHO QUEMADO\n",
      "Longitud: -83.55255, Latitud: 8.704\n",
      "----------------------------------------\n",
      "Especie: Panthera onca\n",
      "Fecha: 2021-04-10T13:20:47\n",
      "Localidad: None\n",
      "Longitud: -84.084341, Latitud: 10.26186\n",
      "----------------------------------------\n",
      "Especie: Panthera onca\n",
      "Fecha: 2021-05-14\n",
      "Localidad: Estaciz\u0005xperimental Forestal Horizontes\n",
      "Longitud: -85.5949, Latitud: 10.726964\n",
      "----------------------------------------\n",
      "Especie: Panthera onca\n",
      "Fecha: 2021-05-14\n",
      "Localidad: Estaciz\u0005xperimental Forestal Horizontes\n",
      "Longitud: -85.5949, Latitud: 10.726964\n",
      "----------------------------------------\n",
      "Especie: Panthera onca\n",
      "Fecha: 2021-05-19\n",
      "Localidad: Estaciz\u0005xperimental Forestal Horizontes\n",
      "Longitud: -85.5949, Latitud: 10.726964\n",
      "----------------------------------------\n",
      "Especie: Panthera onca\n",
      "Fecha: 2021-09-22\n",
      "Localidad: Estaciz\u0005xperimental Forestal Horizontes\n",
      "Longitud: -85.5949, Latitud: 10.726964\n",
      "----------------------------------------\n",
      "Especie: Panthera onca\n",
      "Fecha: 2020-01-27T12:02\n",
      "Localidad: None\n",
      "Longitud: -83.589544, Latitud: 10.563141\n",
      "----------------------------------------\n",
      "Especie: Panthera onca\n",
      "Fecha: 2020-03-26T12:14\n",
      "Localidad: None\n",
      "Longitud: -84.753038, Latitud: 10.388769\n",
      "----------------------------------------\n",
      "Especie: Panthera onca\n",
      "Fecha: 2020-03-14T09:43\n",
      "Localidad: None\n",
      "Longitud: -83.387481, Latitud: 8.512211\n",
      "----------------------------------------\n",
      "Especie: Panthera onca\n",
      "Fecha: 2020-05-23\n",
      "Localidad: Estaciz\u0005xperimental Forestal Horizontes\n",
      "Longitud: -85.5949, Latitud: 10.726964\n",
      "----------------------------------------\n",
      "Especie: Panthera onca\n",
      "Fecha: 2020-09-10T16:09:05Z\n",
      "Localidad: None\n",
      "Longitud: -83.541359, Latitud: 9.876449\n",
      "----------------------------------------\n",
      "Especie: Panthera onca\n",
      "Fecha: 2019-02-20\n",
      "Localidad: MOGOS\n",
      "Longitud: -83.40155, Latitud: 8.74807\n",
      "----------------------------------------\n",
      "Especie: Panthera onca\n",
      "Fecha: 2019-02-20\n",
      "Localidad: MOGOS\n",
      "Longitud: -83.40155, Latitud: 8.74807\n",
      "----------------------------------------\n",
      "Especie: Panthera onca\n",
      "Fecha: 2019-02-20\n",
      "Localidad: MOGOS\n",
      "Longitud: -83.40155, Latitud: 8.74807\n",
      "----------------------------------------\n",
      "Especie: Panthera onca\n",
      "Fecha: 2019-02-20\n",
      "Localidad: MOGOS\n",
      "Longitud: -83.40155, Latitud: 8.74807\n",
      "----------------------------------------\n",
      "Especie: Panthera onca\n",
      "Fecha: 2019-02-20\n",
      "Localidad: MOGOS\n",
      "Longitud: -83.40155, Latitud: 8.74807\n",
      "----------------------------------------\n",
      "Especie: Panthera onca\n",
      "Fecha: 2019-02-20\n",
      "Localidad: MOGOS\n",
      "Longitud: -83.40155, Latitud: 8.74807\n",
      "----------------------------------------\n",
      "Especie: Panthera onca\n",
      "Fecha: 2019-02-28\n",
      "Localidad: RANCHO QUEMADO\n",
      "Longitud: -83.5835, Latitud: 8.68927\n",
      "----------------------------------------\n",
      "Especie: Panthera onca\n",
      "Fecha: 2019-02-28\n",
      "Localidad: RANCHO QUEMADO\n",
      "Longitud: -83.5835, Latitud: 8.68927\n",
      "----------------------------------------\n",
      "Especie: Panthera onca\n",
      "Fecha: 2019-02-28\n",
      "Localidad: RANCHO QUEMADO\n",
      "Longitud: -83.5835, Latitud: 8.68927\n",
      "----------------------------------------\n",
      "Especie: Panthera onca\n",
      "Fecha: 2019-03-18T12:01\n",
      "Localidad: None\n",
      "Longitud: -83.536003, Latitud: 10.50904\n",
      "----------------------------------------\n",
      "Especie: Panthera onca\n",
      "Fecha: 2019-04-11\n",
      "Localidad: RANCHO QUEMADO\n",
      "Longitud: -83.58411, Latitud: 8.67738\n",
      "----------------------------------------\n",
      "Especie: Panthera onca\n",
      "Fecha: 2019-04-17\n",
      "Localidad: MOGOS\n",
      "Longitud: -83.40155, Latitud: 8.74807\n",
      "----------------------------------------\n",
      "Especie: Panthera onca\n",
      "Fecha: 2019-04-17\n",
      "Localidad: MOGOS\n",
      "Longitud: -83.40155, Latitud: 8.74807\n",
      "----------------------------------------\n",
      "Especie: Panthera onca\n",
      "Fecha: 2019-04-17\n",
      "Localidad: MOGOS\n",
      "Longitud: -83.40155, Latitud: 8.74807\n",
      "----------------------------------------\n",
      "Especie: Panthera onca\n",
      "Fecha: 2019-04-26\n",
      "Localidad: MOGOS\n",
      "Longitud: -83.40155, Latitud: 8.74807\n",
      "----------------------------------------\n",
      "Especie: Panthera onca\n",
      "Fecha: 2019-04-26\n",
      "Localidad: MOGOS\n",
      "Longitud: -83.40155, Latitud: 8.74807\n",
      "----------------------------------------\n",
      "Especie: Panthera onca\n",
      "Fecha: 2019-04-26\n",
      "Localidad: MOGOS\n",
      "Longitud: -83.40155, Latitud: 8.74807\n",
      "----------------------------------------\n",
      "Especie: Panthera onca\n",
      "Fecha: 2019-04-26\n",
      "Localidad: MOGOS\n",
      "Longitud: -83.40155, Latitud: 8.74807\n",
      "----------------------------------------\n",
      "Especie: Panthera onca\n",
      "Fecha: 2019-04-26\n",
      "Localidad: MOGOS\n",
      "Longitud: -83.40155, Latitud: 8.74807\n",
      "----------------------------------------\n",
      "Especie: Panthera onca\n",
      "Fecha: 2019-04-01\n",
      "Localidad: RANCHO QUEMADO\n",
      "Longitud: -83.5835, Latitud: 8.68927\n",
      "----------------------------------------\n",
      "Especie: Panthera onca\n",
      "Fecha: 2019-04-01\n",
      "Localidad: RANCHO QUEMADO\n",
      "Longitud: -83.5835, Latitud: 8.68927\n",
      "----------------------------------------\n",
      "Especie: Panthera onca\n",
      "Fecha: 2019-04-01\n",
      "Localidad: RANCHO QUEMADO\n",
      "Longitud: -83.5835, Latitud: 8.68927\n",
      "----------------------------------------\n",
      "Especie: Panthera onca\n",
      "Fecha: 2019-04-15\n",
      "Localidad: RANCHO QUEMADO\n",
      "Longitud: -83.5835, Latitud: 8.68927\n",
      "----------------------------------------\n",
      "Especie: Panthera onca\n",
      "Fecha: 2019-04-15\n",
      "Localidad: RANCHO QUEMADO\n",
      "Longitud: -83.5835, Latitud: 8.68927\n",
      "----------------------------------------\n",
      "Especie: Panthera onca\n",
      "Fecha: 2019-04-15\n",
      "Localidad: RANCHO QUEMADO\n",
      "Longitud: -83.5835, Latitud: 8.68927\n",
      "----------------------------------------\n",
      "Especie: Panthera onca\n",
      "Fecha: 2019-05-07\n",
      "Localidad: RANCHO QUEMADO\n",
      "Longitud: -83.58411, Latitud: 8.67738\n",
      "----------------------------------------\n",
      "Especie: Panthera onca\n",
      "Fecha: 2019-05-31\n",
      "Localidad: MOGOS\n",
      "Longitud: -83.40155, Latitud: 8.74807\n",
      "----------------------------------------\n",
      "Especie: Panthera onca\n",
      "Fecha: 2019-05-31\n",
      "Localidad: MOGOS\n",
      "Longitud: -83.40155, Latitud: 8.74807\n",
      "----------------------------------------\n",
      "Especie: Panthera onca\n",
      "Fecha: 2019-05-31\n",
      "Localidad: MOGOS\n",
      "Longitud: -83.40155, Latitud: 8.74807\n",
      "----------------------------------------\n",
      "Especie: Panthera onca\n",
      "Fecha: 2019-07-04\n",
      "Localidad: RANCHO QUEMADO\n",
      "Longitud: -83.55246, Latitud: 8.70394\n",
      "----------------------------------------\n",
      "Especie: Panthera onca\n",
      "Fecha: 2019-07-04\n",
      "Localidad: RANCHO QUEMADO\n",
      "Longitud: -83.55246, Latitud: 8.70394\n",
      "----------------------------------------\n",
      "Especie: Panthera onca\n",
      "Fecha: 2019-07-04\n",
      "Localidad: RANCHO QUEMADO\n",
      "Longitud: -83.55246, Latitud: 8.70394\n",
      "----------------------------------------\n",
      "Especie: Panthera onca\n",
      "Fecha: 2019-07-06\n",
      "Localidad: RANCHO QUEMADO\n",
      "Longitud: -83.55246, Latitud: 8.70394\n",
      "----------------------------------------\n",
      "Especie: Panthera onca\n",
      "Fecha: 2019-08-02T08:43:13\n",
      "Localidad: None\n",
      "Longitud: -83.433084, Latitud: 10.558145\n",
      "----------------------------------------\n",
      "Especie: Panthera onca\n",
      "Fecha: 2019-09-18T16:22:35\n",
      "Localidad: None\n",
      "Longitud: -85.594155, Latitud: 10.843254\n",
      "----------------------------------------\n",
      "Especie: Panthera onca\n",
      "Fecha: 2019-10-08T22:07\n",
      "Localidad: None\n",
      "Longitud: -83.692092, Latitud: 10.724513\n",
      "----------------------------------------\n",
      "Especie: Panthera onca\n",
      "Fecha: 2018-04-08T10:07:40\n",
      "Localidad: None\n",
      "Longitud: -83.7266, Latitud: 8.78439\n",
      "----------------------------------------\n",
      "Especie: Panthera onca\n",
      "Fecha: 2018-04-07T08:46:16\n",
      "Localidad: None\n",
      "Longitud: -83.765998, Latitud: 8.73978\n",
      "----------------------------------------\n",
      "Especie: Panthera onca\n",
      "Fecha: 2018-06-21T20:38:21\n",
      "Localidad: None\n",
      "Longitud: -84.181651, Latitud: 10.416283\n",
      "----------------------------------------\n",
      "Especie: Panthera onca\n",
      "Fecha: 2017-12-13T09:06:13\n",
      "Localidad: None\n",
      "Longitud: -83.339621, Latitud: 8.657425\n",
      "----------------------------------------\n",
      "Especie: Panthera onca\n",
      "Fecha: 2016-01-29\n",
      "Localidad: None\n",
      "Longitud: -83.42066, Latitud: 10.482056\n",
      "----------------------------------------\n",
      "Especie: Panthera onca\n",
      "Fecha: 2015-10-06T15:52\n",
      "Localidad: None\n",
      "Longitud: -83.488668, Latitud: 8.839019\n",
      "----------------------------------------\n",
      "Especie: Panthera onca\n",
      "Fecha: 2014-04-15T15:53\n",
      "Localidad: None\n",
      "Longitud: -83.45907, Latitud: 10.523513\n",
      "----------------------------------------\n",
      "Especie: Panthera onca\n",
      "Fecha: 2013-04-05T09:33\n",
      "Localidad: None\n",
      "Longitud: -83.40461, Latitud: 10.568895\n",
      "----------------------------------------\n",
      "Especie: Panthera onca\n",
      "Fecha: 2013-05-03T11:47\n",
      "Localidad: None\n",
      "Longitud: -83.548784, Latitud: 10.485827\n",
      "----------------------------------------\n",
      "Especie: Panthera onca\n",
      "Fecha: 2013-05-23T09:06\n",
      "Localidad: None\n",
      "Longitud: -83.378839, Latitud: 10.231784\n",
      "----------------------------------------\n",
      "Especie: Panthera onca\n",
      "Fecha: 2013-09-13\n",
      "Localidad: None\n",
      "Longitud: -83.477647, Latitud: 10.461741\n",
      "----------------------------------------\n",
      "Especie: Panthera onca\n",
      "Fecha: 2013-12-28T07:44\n",
      "Localidad: None\n",
      "Longitud: -85.64662, Latitud: 10.947836\n",
      "----------------------------------------\n",
      "Especie: Panthera onca\n",
      "Fecha: 2012-12-26\n",
      "Localidad: None\n",
      "Longitud: -85.614037, Latitud: 10.651345\n",
      "----------------------------------------\n",
      "Especie: Panthera onca\n",
      "Fecha: 2011-02-15T09:28Z\n",
      "Localidad: None\n",
      "Longitud: -85.798497, Latitud: 10.865281\n",
      "----------------------------------------\n",
      "Especie: Panthera onca\n",
      "Fecha: 2011-06-22T17:02Z\n",
      "Localidad: None\n",
      "Longitud: -83.542163, Latitud: 10.445335\n",
      "----------------------------------------\n",
      "Especie: Panthera onca\n",
      "Fecha: 2009-03-31T14:32\n",
      "Localidad: None\n",
      "Longitud: -83.563265, Latitud: 10.424067\n",
      "----------------------------------------\n",
      "Especie: Panthera onca\n",
      "Fecha: 2009-03-16T15:06\n",
      "Localidad: None\n",
      "Longitud: -84.008126, Latitud: 10.205651\n",
      "----------------------------------------\n",
      "Especie: Panthera onca\n",
      "Fecha: 2009-11-08\n",
      "Localidad: None\n",
      "Longitud: -83.458064, Latitud: 8.446631\n",
      "----------------------------------------\n",
      "Especie: Panthera onca\n",
      "Fecha: 2007-04-09T10:18\n",
      "Localidad: None\n",
      "Longitud: -84.19855, Latitud: 10.260415\n",
      "----------------------------------------\n",
      "Especie: Panthera onca\n",
      "Fecha: 2003-08-04\n",
      "Localidad: None\n",
      "Longitud: -85.623591, Latitud: 10.70885\n",
      "----------------------------------------\n",
      "Especie: Panthera onca\n",
      "Fecha: 1993-06-10\n",
      "Localidad: DELICIAS DE UPALA, 2 KM N OF\n",
      "Longitud: -85.0146, Latitud: 10.9197\n",
      "----------------------------------------\n",
      "Especie: Panthera onca\n",
      "Fecha: 1993-06-10\n",
      "Localidad: DELICIAS DE UPALA, 2 KM N OF\n",
      "Longitud: -85.05, Latitud: 10.96808\n",
      "----------------------------------------\n",
      "Especie: Panthera onca\n",
      "Fecha: None\n",
      "Localidad: None\n",
      "Longitud: -84.0, Latitud: 9.95\n",
      "----------------------------------------\n",
      "Se han guardado 123 registros de presencia en el archivo 'registros-presencia.geojson'\n"
     ]
    }
   ],
   "source": [
    "import requests\n",
    "import json\n",
    "\n",
    "def obtener_taxon_key(nombre_cientifico):\n",
    "    url = 'https://api.gbif.org/v1/species/match'\n",
    "\n",
    "    parametros = {\n",
    "        'name': nombre_cientifico,\n",
    "        'strict': True  # Asegura una coincidencia exacta\n",
    "    }\n",
    "\n",
    "    respuesta = requests.get(url, params=parametros)\n",
    "    \n",
    "    if respuesta.status_code == 200:\n",
    "        datos = respuesta.json()\n",
    "        \n",
    "        # Se revisa si la llave usageKey está presente en datos\n",
    "        if 'usageKey' in datos:\n",
    "            return datos['usageKey']\n",
    "        else:\n",
    "            return None\n",
    "    else:\n",
    "        return None\n",
    "\n",
    "# Nombre científico de la especie\n",
    "nombre_cientifico = 'Panthera onca'\n",
    "\n",
    "# taxonKey de la especie\n",
    "taxon_key = obtener_taxon_key(nombre_cientifico)\n",
    "\n",
    "if taxon_key:\n",
    "    # Se encontró el taxonKey\n",
    "\n",
    "    # URL\n",
    "    url = 'https://api.gbif.org/v1/occurrence/search'\n",
    "\n",
    "    # Parámetros iniciales de la solicitud GET\n",
    "    limit = 300\n",
    "    offset = 0\n",
    "\n",
    "    parametros = {\n",
    "        'country': 'CR',          # Código de país ISO para Costa Rica\n",
    "        'taxonKey': taxon_key,\n",
    "        'limit': limit,\n",
    "        'offset': offset,\n",
    "        'hasCoordinate': 'true'   # Solo se incluyen registros de presencia con coordenadas\n",
    "    }\n",
    "\n",
    "    features = []\n",
    "    total_count = None  # Se obtendrá en la primera solicitud\n",
    "\n",
    "    while True:\n",
    "        # Solicitud GET\n",
    "        respuesta = requests.get(url, params=parametros)\n",
    "\n",
    "        # Se verifica si la solicitud fue exitosa\n",
    "        if respuesta.status_code == 200:\n",
    "            # Se cargan en formato JSON los datos retornados\n",
    "            datos_registros = respuesta.json()\n",
    "\n",
    "            if total_count is None:\n",
    "                total_count = datos_registros['count']\n",
    "                print(f\"Número total de registros: {total_count}\")\n",
    "\n",
    "            # Se extraen las ocurrencias\n",
    "            registros = datos_registros['results']\n",
    "\n",
    "            if not registros:\n",
    "                break  # No hay más registros\n",
    "\n",
    "            # Se recorren los datos de registros de presencia y se convierten a features GeoJSON\n",
    "            for registro in registros:\n",
    "                especie = registro.get('species')\n",
    "                fecha = registro.get('eventDate')\n",
    "                localidad = registro.get('locality')\n",
    "                latitud = registro.get('decimalLatitude')\n",
    "                longitud = registro.get('decimalLongitude')\n",
    "\n",
    "                print(f\"Especie: {especie}\")\n",
    "                print(f\"Fecha: {fecha}\")\n",
    "                print(f\"Localidad: {localidad}\")\n",
    "                print(f\"Longitud: {longitud}, Latitud: {latitud}\")\n",
    "                print(\"-\" * 40)        \n",
    "\n",
    "                # Se verifica que las coordenadas están presentes\n",
    "                if latitud is not None and longitud is not None:\n",
    "                    feature = {\n",
    "                        \"type\": \"Feature\",\n",
    "                        \"geometry\": {\n",
    "                            \"type\": \"Point\",\n",
    "                            \"coordinates\": [longitud, latitud]  # GeoJSON utiliza el orden [longitud, latitud]\n",
    "                        },\n",
    "                        \"properties\": {\n",
    "                            \"species\": especie,\n",
    "                            \"eventDate\": fecha,\n",
    "                            \"locality\": localidad\n",
    "                        }\n",
    "                    }\n",
    "                    features.append(feature)\n",
    "\n",
    "            # Incrementar offset\n",
    "            offset += limit\n",
    "            parametros['offset'] = offset\n",
    "\n",
    "            if offset >= total_count:\n",
    "                break\n",
    "\n",
    "        else:\n",
    "            # Se produjo un error\n",
    "            print(f\"Error {respuesta.status_code}\")\n",
    "            break\n",
    "\n",
    "    # Crear el FeatureCollection GeoJSON\n",
    "    geojson = {\n",
    "        \"type\": \"FeatureCollection\",\n",
    "        \"features\": features\n",
    "    }\n",
    "\n",
    "    # Almacenamiento de datos en un archivo llamado \"registros-presencia.geojson\"\n",
    "    with open('registros-presencia.geojson', 'w', encoding='utf-8') as archivo:\n",
    "        json.dump(geojson, archivo, indent=4, ensure_ascii=False)\n",
    "\n",
    "    print(f\"Se han guardado {len(features)} registros de presencia en el archivo 'registros-presencia.geojson'\")\n",
    "else:\n",
    "    print(f'No se encontró el taxonKey de {nombre_cientifico}')"
   ]
  },
  {
   "cell_type": "code",
   "execution_count": 2,
   "metadata": {},
   "outputs": [
    {
     "data": {
      "application/vnd.plotly.v1+json": {
       "config": {
        "plotlyServerURL": "https://plot.ly"
       },
       "data": [
        {
         "alignmentgroup": "True",
         "hovertemplate": "Mes=%{x}<br>Cantidad de registros de presencia=%{text}<extra></extra>",
         "legendgroup": "",
         "marker": {
          "color": "#636efa",
          "pattern": {
           "shape": ""
          }
         },
         "name": "",
         "offsetgroup": "",
         "orientation": "v",
         "showlegend": false,
         "text": [
          4,
          16,
          8,
          36,
          18,
          5,
          8,
          7,
          7,
          7,
          1,
          5
         ],
         "textposition": "auto",
         "type": "bar",
         "x": [
          "Enero",
          "Febrero",
          "Marzo",
          "Abril",
          "Mayo",
          "Junio",
          "Julio",
          "Agosto",
          "Septiembre",
          "Octubre",
          "Noviembre",
          "Diciembre"
         ],
         "xaxis": "x",
         "y": [
          4,
          16,
          8,
          36,
          18,
          5,
          8,
          7,
          7,
          7,
          1,
          5
         ],
         "yaxis": "y"
        }
       ],
       "layout": {
        "barmode": "relative",
        "legend": {
         "tracegroupgap": 0
        },
        "template": {
         "data": {
          "bar": [
           {
            "error_x": {
             "color": "#2a3f5f"
            },
            "error_y": {
             "color": "#2a3f5f"
            },
            "marker": {
             "line": {
              "color": "white",
              "width": 0.5
             },
             "pattern": {
              "fillmode": "overlay",
              "size": 10,
              "solidity": 0.2
             }
            },
            "type": "bar"
           }
          ],
          "barpolar": [
           {
            "marker": {
             "line": {
              "color": "white",
              "width": 0.5
             },
             "pattern": {
              "fillmode": "overlay",
              "size": 10,
              "solidity": 0.2
             }
            },
            "type": "barpolar"
           }
          ],
          "carpet": [
           {
            "aaxis": {
             "endlinecolor": "#2a3f5f",
             "gridcolor": "#C8D4E3",
             "linecolor": "#C8D4E3",
             "minorgridcolor": "#C8D4E3",
             "startlinecolor": "#2a3f5f"
            },
            "baxis": {
             "endlinecolor": "#2a3f5f",
             "gridcolor": "#C8D4E3",
             "linecolor": "#C8D4E3",
             "minorgridcolor": "#C8D4E3",
             "startlinecolor": "#2a3f5f"
            },
            "type": "carpet"
           }
          ],
          "choropleth": [
           {
            "colorbar": {
             "outlinewidth": 0,
             "ticks": ""
            },
            "type": "choropleth"
           }
          ],
          "contour": [
           {
            "colorbar": {
             "outlinewidth": 0,
             "ticks": ""
            },
            "colorscale": [
             [
              0,
              "#0d0887"
             ],
             [
              0.1111111111111111,
              "#46039f"
             ],
             [
              0.2222222222222222,
              "#7201a8"
             ],
             [
              0.3333333333333333,
              "#9c179e"
             ],
             [
              0.4444444444444444,
              "#bd3786"
             ],
             [
              0.5555555555555556,
              "#d8576b"
             ],
             [
              0.6666666666666666,
              "#ed7953"
             ],
             [
              0.7777777777777778,
              "#fb9f3a"
             ],
             [
              0.8888888888888888,
              "#fdca26"
             ],
             [
              1,
              "#f0f921"
             ]
            ],
            "type": "contour"
           }
          ],
          "contourcarpet": [
           {
            "colorbar": {
             "outlinewidth": 0,
             "ticks": ""
            },
            "type": "contourcarpet"
           }
          ],
          "heatmap": [
           {
            "colorbar": {
             "outlinewidth": 0,
             "ticks": ""
            },
            "colorscale": [
             [
              0,
              "#0d0887"
             ],
             [
              0.1111111111111111,
              "#46039f"
             ],
             [
              0.2222222222222222,
              "#7201a8"
             ],
             [
              0.3333333333333333,
              "#9c179e"
             ],
             [
              0.4444444444444444,
              "#bd3786"
             ],
             [
              0.5555555555555556,
              "#d8576b"
             ],
             [
              0.6666666666666666,
              "#ed7953"
             ],
             [
              0.7777777777777778,
              "#fb9f3a"
             ],
             [
              0.8888888888888888,
              "#fdca26"
             ],
             [
              1,
              "#f0f921"
             ]
            ],
            "type": "heatmap"
           }
          ],
          "heatmapgl": [
           {
            "colorbar": {
             "outlinewidth": 0,
             "ticks": ""
            },
            "colorscale": [
             [
              0,
              "#0d0887"
             ],
             [
              0.1111111111111111,
              "#46039f"
             ],
             [
              0.2222222222222222,
              "#7201a8"
             ],
             [
              0.3333333333333333,
              "#9c179e"
             ],
             [
              0.4444444444444444,
              "#bd3786"
             ],
             [
              0.5555555555555556,
              "#d8576b"
             ],
             [
              0.6666666666666666,
              "#ed7953"
             ],
             [
              0.7777777777777778,
              "#fb9f3a"
             ],
             [
              0.8888888888888888,
              "#fdca26"
             ],
             [
              1,
              "#f0f921"
             ]
            ],
            "type": "heatmapgl"
           }
          ],
          "histogram": [
           {
            "marker": {
             "pattern": {
              "fillmode": "overlay",
              "size": 10,
              "solidity": 0.2
             }
            },
            "type": "histogram"
           }
          ],
          "histogram2d": [
           {
            "colorbar": {
             "outlinewidth": 0,
             "ticks": ""
            },
            "colorscale": [
             [
              0,
              "#0d0887"
             ],
             [
              0.1111111111111111,
              "#46039f"
             ],
             [
              0.2222222222222222,
              "#7201a8"
             ],
             [
              0.3333333333333333,
              "#9c179e"
             ],
             [
              0.4444444444444444,
              "#bd3786"
             ],
             [
              0.5555555555555556,
              "#d8576b"
             ],
             [
              0.6666666666666666,
              "#ed7953"
             ],
             [
              0.7777777777777778,
              "#fb9f3a"
             ],
             [
              0.8888888888888888,
              "#fdca26"
             ],
             [
              1,
              "#f0f921"
             ]
            ],
            "type": "histogram2d"
           }
          ],
          "histogram2dcontour": [
           {
            "colorbar": {
             "outlinewidth": 0,
             "ticks": ""
            },
            "colorscale": [
             [
              0,
              "#0d0887"
             ],
             [
              0.1111111111111111,
              "#46039f"
             ],
             [
              0.2222222222222222,
              "#7201a8"
             ],
             [
              0.3333333333333333,
              "#9c179e"
             ],
             [
              0.4444444444444444,
              "#bd3786"
             ],
             [
              0.5555555555555556,
              "#d8576b"
             ],
             [
              0.6666666666666666,
              "#ed7953"
             ],
             [
              0.7777777777777778,
              "#fb9f3a"
             ],
             [
              0.8888888888888888,
              "#fdca26"
             ],
             [
              1,
              "#f0f921"
             ]
            ],
            "type": "histogram2dcontour"
           }
          ],
          "mesh3d": [
           {
            "colorbar": {
             "outlinewidth": 0,
             "ticks": ""
            },
            "type": "mesh3d"
           }
          ],
          "parcoords": [
           {
            "line": {
             "colorbar": {
              "outlinewidth": 0,
              "ticks": ""
             }
            },
            "type": "parcoords"
           }
          ],
          "pie": [
           {
            "automargin": true,
            "type": "pie"
           }
          ],
          "scatter": [
           {
            "fillpattern": {
             "fillmode": "overlay",
             "size": 10,
             "solidity": 0.2
            },
            "type": "scatter"
           }
          ],
          "scatter3d": [
           {
            "line": {
             "colorbar": {
              "outlinewidth": 0,
              "ticks": ""
             }
            },
            "marker": {
             "colorbar": {
              "outlinewidth": 0,
              "ticks": ""
             }
            },
            "type": "scatter3d"
           }
          ],
          "scattercarpet": [
           {
            "marker": {
             "colorbar": {
              "outlinewidth": 0,
              "ticks": ""
             }
            },
            "type": "scattercarpet"
           }
          ],
          "scattergeo": [
           {
            "marker": {
             "colorbar": {
              "outlinewidth": 0,
              "ticks": ""
             }
            },
            "type": "scattergeo"
           }
          ],
          "scattergl": [
           {
            "marker": {
             "colorbar": {
              "outlinewidth": 0,
              "ticks": ""
             }
            },
            "type": "scattergl"
           }
          ],
          "scattermapbox": [
           {
            "marker": {
             "colorbar": {
              "outlinewidth": 0,
              "ticks": ""
             }
            },
            "type": "scattermapbox"
           }
          ],
          "scatterpolar": [
           {
            "marker": {
             "colorbar": {
              "outlinewidth": 0,
              "ticks": ""
             }
            },
            "type": "scatterpolar"
           }
          ],
          "scatterpolargl": [
           {
            "marker": {
             "colorbar": {
              "outlinewidth": 0,
              "ticks": ""
             }
            },
            "type": "scatterpolargl"
           }
          ],
          "scatterternary": [
           {
            "marker": {
             "colorbar": {
              "outlinewidth": 0,
              "ticks": ""
             }
            },
            "type": "scatterternary"
           }
          ],
          "surface": [
           {
            "colorbar": {
             "outlinewidth": 0,
             "ticks": ""
            },
            "colorscale": [
             [
              0,
              "#0d0887"
             ],
             [
              0.1111111111111111,
              "#46039f"
             ],
             [
              0.2222222222222222,
              "#7201a8"
             ],
             [
              0.3333333333333333,
              "#9c179e"
             ],
             [
              0.4444444444444444,
              "#bd3786"
             ],
             [
              0.5555555555555556,
              "#d8576b"
             ],
             [
              0.6666666666666666,
              "#ed7953"
             ],
             [
              0.7777777777777778,
              "#fb9f3a"
             ],
             [
              0.8888888888888888,
              "#fdca26"
             ],
             [
              1,
              "#f0f921"
             ]
            ],
            "type": "surface"
           }
          ],
          "table": [
           {
            "cells": {
             "fill": {
              "color": "#EBF0F8"
             },
             "line": {
              "color": "white"
             }
            },
            "header": {
             "fill": {
              "color": "#C8D4E3"
             },
             "line": {
              "color": "white"
             }
            },
            "type": "table"
           }
          ]
         },
         "layout": {
          "annotationdefaults": {
           "arrowcolor": "#2a3f5f",
           "arrowhead": 0,
           "arrowwidth": 1
          },
          "autotypenumbers": "strict",
          "coloraxis": {
           "colorbar": {
            "outlinewidth": 0,
            "ticks": ""
           }
          },
          "colorscale": {
           "diverging": [
            [
             0,
             "#8e0152"
            ],
            [
             0.1,
             "#c51b7d"
            ],
            [
             0.2,
             "#de77ae"
            ],
            [
             0.3,
             "#f1b6da"
            ],
            [
             0.4,
             "#fde0ef"
            ],
            [
             0.5,
             "#f7f7f7"
            ],
            [
             0.6,
             "#e6f5d0"
            ],
            [
             0.7,
             "#b8e186"
            ],
            [
             0.8,
             "#7fbc41"
            ],
            [
             0.9,
             "#4d9221"
            ],
            [
             1,
             "#276419"
            ]
           ],
           "sequential": [
            [
             0,
             "#0d0887"
            ],
            [
             0.1111111111111111,
             "#46039f"
            ],
            [
             0.2222222222222222,
             "#7201a8"
            ],
            [
             0.3333333333333333,
             "#9c179e"
            ],
            [
             0.4444444444444444,
             "#bd3786"
            ],
            [
             0.5555555555555556,
             "#d8576b"
            ],
            [
             0.6666666666666666,
             "#ed7953"
            ],
            [
             0.7777777777777778,
             "#fb9f3a"
            ],
            [
             0.8888888888888888,
             "#fdca26"
            ],
            [
             1,
             "#f0f921"
            ]
           ],
           "sequentialminus": [
            [
             0,
             "#0d0887"
            ],
            [
             0.1111111111111111,
             "#46039f"
            ],
            [
             0.2222222222222222,
             "#7201a8"
            ],
            [
             0.3333333333333333,
             "#9c179e"
            ],
            [
             0.4444444444444444,
             "#bd3786"
            ],
            [
             0.5555555555555556,
             "#d8576b"
            ],
            [
             0.6666666666666666,
             "#ed7953"
            ],
            [
             0.7777777777777778,
             "#fb9f3a"
            ],
            [
             0.8888888888888888,
             "#fdca26"
            ],
            [
             1,
             "#f0f921"
            ]
           ]
          },
          "colorway": [
           "#636efa",
           "#EF553B",
           "#00cc96",
           "#ab63fa",
           "#FFA15A",
           "#19d3f3",
           "#FF6692",
           "#B6E880",
           "#FF97FF",
           "#FECB52"
          ],
          "font": {
           "color": "#2a3f5f"
          },
          "geo": {
           "bgcolor": "white",
           "lakecolor": "white",
           "landcolor": "white",
           "showlakes": true,
           "showland": true,
           "subunitcolor": "#C8D4E3"
          },
          "hoverlabel": {
           "align": "left"
          },
          "hovermode": "closest",
          "mapbox": {
           "style": "light"
          },
          "paper_bgcolor": "white",
          "plot_bgcolor": "white",
          "polar": {
           "angularaxis": {
            "gridcolor": "#EBF0F8",
            "linecolor": "#EBF0F8",
            "ticks": ""
           },
           "bgcolor": "white",
           "radialaxis": {
            "gridcolor": "#EBF0F8",
            "linecolor": "#EBF0F8",
            "ticks": ""
           }
          },
          "scene": {
           "xaxis": {
            "backgroundcolor": "white",
            "gridcolor": "#DFE8F3",
            "gridwidth": 2,
            "linecolor": "#EBF0F8",
            "showbackground": true,
            "ticks": "",
            "zerolinecolor": "#EBF0F8"
           },
           "yaxis": {
            "backgroundcolor": "white",
            "gridcolor": "#DFE8F3",
            "gridwidth": 2,
            "linecolor": "#EBF0F8",
            "showbackground": true,
            "ticks": "",
            "zerolinecolor": "#EBF0F8"
           },
           "zaxis": {
            "backgroundcolor": "white",
            "gridcolor": "#DFE8F3",
            "gridwidth": 2,
            "linecolor": "#EBF0F8",
            "showbackground": true,
            "ticks": "",
            "zerolinecolor": "#EBF0F8"
           }
          },
          "shapedefaults": {
           "line": {
            "color": "#2a3f5f"
           }
          },
          "ternary": {
           "aaxis": {
            "gridcolor": "#DFE8F3",
            "linecolor": "#A2B1C6",
            "ticks": ""
           },
           "baxis": {
            "gridcolor": "#DFE8F3",
            "linecolor": "#A2B1C6",
            "ticks": ""
           },
           "bgcolor": "white",
           "caxis": {
            "gridcolor": "#DFE8F3",
            "linecolor": "#A2B1C6",
            "ticks": ""
           }
          },
          "title": {
           "x": 0.05
          },
          "xaxis": {
           "automargin": true,
           "gridcolor": "#EBF0F8",
           "linecolor": "#EBF0F8",
           "ticks": "",
           "title": {
            "standoff": 15
           },
           "zerolinecolor": "#EBF0F8",
           "zerolinewidth": 2
          },
          "yaxis": {
           "automargin": true,
           "gridcolor": "#EBF0F8",
           "linecolor": "#EBF0F8",
           "ticks": "",
           "title": {
            "standoff": 15
           },
           "zerolinecolor": "#EBF0F8",
           "zerolinewidth": 2
          }
         }
        },
        "title": {
         "text": "Cantidad de registros de presencia por mes",
         "x": 0.5
        },
        "xaxis": {
         "anchor": "y",
         "domain": [
          0,
          1
         ],
         "tickangle": -45,
         "title": {
          "text": "Mes"
         }
        },
        "yaxis": {
         "anchor": "x",
         "domain": [
          0,
          1
         ],
         "title": {
          "text": "Registros de presencia"
         }
        }
       }
      }
     },
     "metadata": {},
     "output_type": "display_data"
    }
   ],
   "source": [
    "import pandas as pd\n",
    "import geopandas as gpd\n",
    "import plotly.express as px\n",
    "\n",
    "# Lista de nombres de meses en español\n",
    "meses_espanol = [\n",
    "    'Desconocido',  # Índice 0\n",
    "    'Enero', 'Febrero', 'Marzo', 'Abril', 'Mayo', 'Junio',\n",
    "    'Julio', 'Agosto', 'Septiembre', 'Octubre', 'Noviembre', 'Diciembre'\n",
    "]\n",
    "\n",
    "# Lectura del archivo GeoJSON en un GeoDataFrame\n",
    "gdf = gpd.read_file('registros-presencia.geojson')\n",
    "\n",
    "# Conversión de 'eventDate' a hilera de texto y luego a formato datetime\n",
    "gdf['eventDate'] = gdf['eventDate'].astype(str)\n",
    "gdf['eventDate'] = pd.to_datetime(gdf['eventDate'], errors='coerce')\n",
    "\n",
    "# Extracción del número del mes\n",
    "gdf['mes_num'] = gdf['eventDate'].dt.month\n",
    "# Mapear los números de mes a nombres en español\n",
    "gdf['mes'] = gdf['mes_num'].apply(\n",
    "    lambda x: meses_espanol[int(x)] if pd.notnull(x) and x >= 1 and x <= 12 else 'Desconocido'\n",
    ")\n",
    "\n",
    "# Conteo y ordenamiento de la cantidad de registros de presencia por mes\n",
    "registros_por_mes = gdf.groupby(['mes_num', 'mes']).size().reset_index(name='cantidad')\n",
    "registros_por_mes = registros_por_mes.sort_values('mes_num')\n",
    "\n",
    "# Creación del gráfico de barras interactivo con plotly\n",
    "fig = px.bar(\n",
    "    registros_por_mes,\n",
    "    x='mes',\n",
    "    y='cantidad',\n",
    "    title='Cantidad de registros de presencia por mes',\n",
    "    labels={'mes': 'Mes', 'cantidad': 'Cantidad de registros de presencia'},\n",
    "    text='cantidad'\n",
    ")\n",
    "\n",
    "# Ajustes al gráfico\n",
    "fig.update_layout(\n",
    "    xaxis_tickangle=-45,\n",
    "    xaxis_title='Mes',\n",
    "    yaxis_title='Registros de presencia',\n",
    "    title_x=0.5,\n",
    "    template='plotly_white'\n",
    ")\n",
    "\n",
    "# Despliegue del gráfico\n",
    "fig.show()"
   ]
  },
  {
   "cell_type": "code",
   "execution_count": 3,
   "metadata": {},
   "outputs": [
    {
     "data": {
      "application/vnd.jupyter.widget-view+json": {
       "model_id": "5a010176105c47149b425b1833cd578d",
       "version_major": 2,
       "version_minor": 0
      },
      "text/plain": [
       "Map(center=[9.972725, -84.19451], controls=(ZoomControl(options=['position', 'zoom_in_text', 'zoom_in_title', …"
      ]
     },
     "execution_count": 3,
     "metadata": {},
     "output_type": "execute_result"
    }
   ],
   "source": [
    "import leafmap\n",
    "\n",
    "# Creación de un objeto Map de leafmap centrado en Costa Rica\n",
    "m = leafmap.Map(center=(9.972725, -84.19451), zoom=7)\n",
    "\n",
    "# Adición de datos GeoJSON al mapa\n",
    "m.add_point_layer(\n",
    "    'registros-presencia.geojson', \n",
    "    popup=[\"species\", \"eventDate\", \"locality\"], \n",
    "    layer_name=\"Registros de presencia\"\n",
    ")\n",
    "\n",
    "# Despliegue del mapa\n",
    "m"
   ]
  }
 ],
 "metadata": {
  "kernelspec": {
   "display_name": "base",
   "language": "python",
   "name": "python3"
  },
  "language_info": {
   "codemirror_mode": {
    "name": "ipython",
    "version": 3
   },
   "file_extension": ".py",
   "mimetype": "text/x-python",
   "name": "python",
   "nbconvert_exporter": "python",
   "pygments_lexer": "ipython3",
   "version": "3.12.5"
  }
 },
 "nbformat": 4,
 "nbformat_minor": 2
}
