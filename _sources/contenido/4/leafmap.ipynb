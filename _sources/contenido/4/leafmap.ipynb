{
 "cells": [
  {
   "cell_type": "markdown",
   "id": "4959935a",
   "metadata": {},
   "source": [
    "# leafmap: biblioteca para análisis geoespacial y mapas interactivos\n",
    "\n",
    "[![Abrir en Colab](https://colab.research.google.com/assets/colab-badge.svg)](https://colab.research.google.com/github/gf0657-programacionsig/2024-ii/blob/main/contenido/4/leafmap.ipynb)"
   ]
  },
  {
   "cell_type": "markdown",
   "id": "660bb972",
   "metadata": {},
   "source": [
    "**NOTA IMPORTANTE**\n",
    "\n",
    "Debido a que los mapas generados con leafmap están diseñados para ejecutarse en cuadernos Jupyter, algunos podrían no apreciarse adecuadamente en páginas HTML estáticas como las de este curso, pero pueden visualizarse también en:\n",
    "\n",
    "[https://colab.research.google.com/github/gf0657-programacionsig/2024-ii/blob/main/contenido/4/leafmap.ipynb](https://colab.research.google.com/github/gf0657-programacionsig/2024-ii/blob/main/contenido/4/leafmap.ipynb)"
   ]
  },
  {
   "cell_type": "markdown",
   "id": "b5cf76a4",
   "metadata": {},
   "source": [
    "## Introducción"
   ]
  },
  {
   "cell_type": "markdown",
   "id": "2352666f",
   "metadata": {},
   "source": [
    "[leafmap](https://leafmap.org/) es una biblioteca de Python para crear visualizaciones interactivas de datos geoespaciales en cuadernos de notas Jupyter. Ha sido desarrollada con base en otras bibliotecas de mapeo como [folium](https://python-visualization.github.io/folium), [ipyleaflet](https://ipyleaflet.readthedocs.io/), [maplibre](https://maplibre.org/), [bokeh](https://docs.bokeh.org/en/latest/docs/user_guide/topics/geo.html), [pydeck](https://deckgl.readthedocs.io/), [kepler.gl](https://docs.kepler.gl/docs/keplergl-jupyter) y [plotly](https://plotly.com/python/maps). leafmap proporciona una interfaz de programación de aplicaciones (API) unificada para acceder a las funcionalidades de estas bibliotecas.\n",
    "\n",
    "En este capítulo se detallan y ejemplifican algunas de las principales capacidades de leafmap."
   ]
  },
  {
   "cell_type": "markdown",
   "id": "ff5b1498",
   "metadata": {},
   "source": [
    "## Instalación"
   ]
  },
  {
   "cell_type": "markdown",
   "id": "efbeeb72",
   "metadata": {},
   "source": [
    "### En ambientes locales (ej. conda)"
   ]
  },
  {
   "cell_type": "markdown",
   "id": "e0dac2e8",
   "metadata": {},
   "source": [
    "Se recomienda actualizar primero conda y mamba."
   ]
  },
  {
   "cell_type": "markdown",
   "id": "28bcc603",
   "metadata": {},
   "source": [
    "```bash\n",
    "# Actualizar conda y mamba\n",
    "conda update conda\n",
    "conda update -c conda-forge mamba\n",
    "```"
   ]
  },
  {
   "cell_type": "markdown",
   "id": "026c75bd",
   "metadata": {},
   "source": [
    "leafmap puede instalarse con `pip`, `conda` o `mamba`, desde la línea de comandos del sistema operativo. Solo es necesario hacerlo de una forma. Se recomienda instalarla junto con el paquete fiona (para leer y escribir archivos geoespaciales)."
   ]
  },
  {
   "cell_type": "markdown",
   "id": "deb50652",
   "metadata": {},
   "source": [
    "```bash\n",
    "# Instalar leafmap con pip\n",
    "pip install leafmap\n",
    "# Actualizar leafmap con pip\n",
    "pip install -U leafmap\n",
    "\n",
    "# Instalar leafmap con conda\n",
    "conda install -c conda-forge leafmap\n",
    "# Actualizar leafmap con conda\n",
    "conda update -c conda-forge leafmap\n",
    "\n",
    "# Instalar leafmap con mamba\n",
    "mamba install -c conda-forge leafmap\n",
    "# Actualizar leafmap con mamba\n",
    "mamba update -c conda-forge leafmap\n",
    "```"
   ]
  },
  {
   "cell_type": "markdown",
   "id": "573e1682",
   "metadata": {},
   "source": [
    "### En la nube (ej. Google Colab)"
   ]
  },
  {
   "cell_type": "code",
   "execution_count": 22,
   "id": "6b18d1fd",
   "metadata": {},
   "outputs": [],
   "source": [
    "# Con pip\n",
    "# !pip install -U leafmap"
   ]
  },
  {
   "cell_type": "markdown",
   "id": "ba92a820",
   "metadata": {},
   "source": [
    "## Carga"
   ]
  },
  {
   "cell_type": "code",
   "execution_count": 23,
   "id": "5982b195",
   "metadata": {},
   "outputs": [],
   "source": [
    "# Carga de leafmap (con el sistema de mapeo de ipyleaflet)\n",
    "import leafmap\n",
    "\n",
    "# Carga de geopandas\n",
    "import geopandas as gpd\n",
    "\n",
    "# Carga de rasterio\n",
    "import rasterio\n",
    "\n",
    "# Carga de numpy\n",
    "import numpy as np"
   ]
  },
  {
   "cell_type": "markdown",
   "id": "20fe1467",
   "metadata": {},
   "source": [
    "lefmap proporciona soporte para diversos sistemas de mapeo (*plotting backends*), incluyendo folium, ipyleaflet, maplibre, bokeh, pydeck, keplergl y plotly. El que se usa por defecto es ipyleaflet. \n",
    "\n",
    "Si se desea cambiar el sistema de mapeo debe utilizarse una de las siguientes sentencias `import`.\n",
    "\n",
    "```bash\n",
    "import leafmap.foliumap as leafmap\n",
    "import leafmap.bokehmap as leafmap\n",
    "import leafmap.maplibregl as leafmap\n",
    "import leafmap.deck as leafmap\n",
    "import leafmap.kepler as leafmap\n",
    "import leafmap.plotlymap as leafmap\n",
    "```"
   ]
  },
  {
   "cell_type": "markdown",
   "id": "11c3e41b",
   "metadata": {},
   "source": [
    "## Operaciones básicas"
   ]
  },
  {
   "cell_type": "markdown",
   "id": "80954699",
   "metadata": {},
   "source": [
    "### Creación y configuraciónb general de mapas"
   ]
  },
  {
   "cell_type": "markdown",
   "id": "57227e6d",
   "metadata": {},
   "source": [
    "El constructor de la clase [`Map`](https://leafmap.org/leafmap/#leafmap.leafmap.Map) crea un mapa interactivo con un mapa base. Por defecto, se utiliza el mapa base de `OpenStreetMap`."
   ]
  },
  {
   "cell_type": "code",
   "execution_count": 24,
   "id": "2fd08149",
   "metadata": {},
   "outputs": [
    {
     "data": {
      "application/vnd.jupyter.widget-view+json": {
       "model_id": "784baf45d935405981a20b1a3aaf4c6b",
       "version_major": 2,
       "version_minor": 0
      },
      "text/plain": [
       "Map(center=[20, 0], controls=(ZoomControl(options=['position', 'zoom_in_text', 'zoom_in_title', 'zoom_out_text…"
      ]
     },
     "execution_count": 24,
     "metadata": {},
     "output_type": "execute_result"
    }
   ],
   "source": [
    "# Crear un mapa leafmap\n",
    "m = leafmap.Map()\n",
    "\n",
    "# Desplegar el mapa\n",
    "m"
   ]
  },
  {
   "cell_type": "markdown",
   "id": "717ea326",
   "metadata": {},
   "source": [
    "El mapa puede ser personalizado con argumentos como `center`, `zoom` y `height`."
   ]
  },
  {
   "cell_type": "code",
   "execution_count": 25,
   "id": "f5b18184",
   "metadata": {},
   "outputs": [
    {
     "data": {
      "application/vnd.jupyter.widget-view+json": {
       "model_id": "f295ecb7dd7e4d35835ac0f5f7c5b6b0",
       "version_major": 2,
       "version_minor": 0
      },
      "text/plain": [
       "Map(center=[9.6, -84.2], controls=(ZoomControl(options=['position', 'zoom_in_text', 'zoom_in_title', 'zoom_out…"
      ]
     },
     "execution_count": 25,
     "metadata": {},
     "output_type": "execute_result"
    }
   ],
   "source": [
    "# Crear un mapa leafmap personalizado\n",
    "m = leafmap.Map(\n",
    "    center=(9.6, -84.2), \n",
    "    zoom=7, \n",
    "    height=\"400px\"\n",
    ")\n",
    "\n",
    "# Desplegar el mapa\n",
    "m"
   ]
  },
  {
   "cell_type": "markdown",
   "id": "3fed820d",
   "metadata": {},
   "source": [
    "Por defecto, un mapa leafmap incluye controles para acercamiento/alejamiento, escala, atribución y barra de herramientas. Estos controles pueden activarse y desactivarse."
   ]
  },
  {
   "cell_type": "code",
   "execution_count": 26,
   "id": "733d951b",
   "metadata": {},
   "outputs": [
    {
     "data": {
      "application/vnd.jupyter.widget-view+json": {
       "model_id": "7713c986e37f4d96a92213e645435f1a",
       "version_major": 2,
       "version_minor": 0
      },
      "text/plain": [
       "Map(center=[9.6, -84.2], controls=(ZoomControl(options=['position', 'zoom_in_text', 'zoom_in_title', 'zoom_out…"
      ]
     },
     "execution_count": 26,
     "metadata": {},
     "output_type": "execute_result"
    }
   ],
   "source": [
    "# Desactivar controles de un mapa leafmap\n",
    "m = leafmap.Map(\n",
    "    center=(9.6, -84.2), \n",
    "    zoom=7, \n",
    "    height=\"400px\",\n",
    "    zoom_control=True,\n",
    "    draw_control=False,\n",
    "    scale_control=False,\n",
    "    fullscreen_control=False,\n",
    "    attribution_control=False,\n",
    "    toolbar_control=False,\n",
    ")\n",
    "\n",
    "# Desplegar el mapa\n",
    "m"
   ]
  },
  {
   "cell_type": "markdown",
   "id": "2164812c",
   "metadata": {},
   "source": [
    "El método [`add_search_control()`](https://leafmap.org/leafmap/#leafmap.leafmap.Map.add_search_control) agrega un control de búsqueda al mapa, el cual permite que los usuarios busquen lugares por sus nombres."
   ]
  },
  {
   "cell_type": "code",
   "execution_count": 27,
   "id": "fea84e7c",
   "metadata": {},
   "outputs": [
    {
     "data": {
      "application/vnd.jupyter.widget-view+json": {
       "model_id": "7713c986e37f4d96a92213e645435f1a",
       "version_major": 2,
       "version_minor": 0
      },
      "text/plain": [
       "Map(center=[9.6, -84.2], controls=(ZoomControl(options=['position', 'zoom_in_text', 'zoom_in_title', 'zoom_out…"
      ]
     },
     "execution_count": 27,
     "metadata": {},
     "output_type": "execute_result"
    }
   ],
   "source": [
    "# Dirección del servicio de búsqueda\n",
    "url = \"https://nominatim.openstreetmap.org/search?format=json&q={s}\"\n",
    "\n",
    "# Agregar un control de búsqueda\n",
    "m.add_search_control(url, position=\"topleft\")\n",
    "\n",
    "# Desplegar el mapa\n",
    "m"
   ]
  }
 ],
 "metadata": {
  "kernelspec": {
   "display_name": "Python 3 (ipykernel)",
   "language": "python",
   "name": "python3"
  },
  "language_info": {
   "codemirror_mode": {
    "name": "ipython",
    "version": 3
   },
   "file_extension": ".py",
   "mimetype": "text/x-python",
   "name": "python",
   "nbconvert_exporter": "python",
   "pygments_lexer": "ipython3",
   "version": "3.12.5"
  },
  "toc": {
   "base_numbering": 1,
   "nav_menu": {},
   "number_sections": true,
   "sideBar": true,
   "skip_h1_title": false,
   "title_cell": "Table of Contents",
   "title_sidebar": "Contents",
   "toc_cell": false,
   "toc_position": {},
   "toc_section_display": true,
   "toc_window_display": false
  }
 },
 "nbformat": 4,
 "nbformat_minor": 5
}
