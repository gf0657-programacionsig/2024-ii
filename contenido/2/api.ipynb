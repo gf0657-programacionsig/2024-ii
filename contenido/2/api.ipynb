{
 "cells": [
  {
   "cell_type": "markdown",
   "metadata": {},
   "source": [
    "# Interfaces de programación de aplicaciones (API)\n",
    "\n",
    "[![Abrir en Colab](https://colab.research.google.com/assets/colab-badge.svg)](https://colab.research.google.com/github/gf0657-programacionsig/2024-ii/blob/main/contenido/2/api.ipynb)"
   ]
  },
  {
   "cell_type": "markdown",
   "metadata": {},
   "source": [
    "## Trabajo previo"
   ]
  },
  {
   "cell_type": "markdown",
   "metadata": {},
   "source": [
    "### Lecturas"
   ]
  },
  {
   "cell_type": "markdown",
   "metadata": {},
   "source": [
    "Severance, D. C. R. (2016). *Chapter 13: Python and Web Services* en *Python for Everybody: Exploring Data in Python 3* (S. Blumenberg & E. Hauser, Eds.). CreateSpace Independent Publishing Platform. https://www.py4e.com/html3/13-web"
   ]
  },
  {
   "cell_type": "markdown",
   "metadata": {},
   "source": [
    "### Otros recursos"
   ]
  },
  {
   "cell_type": "markdown",
   "metadata": {},
   "source": [
    "Documentación oficial sobre el módulo `requests` de Python\\\n",
    "[Requests: HTTP for Humans](https://requests.readthedocs.io)\n",
    "\n",
    "Lista de API públicas gratuitas\\\n",
    "[public-apis/public-apis: A collective list of free APIs](https://github.com/public-apis/public-apis)\n",
    "\n",
    "Visualizador de JSON en línea\\\n",
    "[JSON Viewer](https://codebeautify.org/jsonviewer)"
   ]
  },
  {
   "cell_type": "markdown",
   "metadata": {},
   "source": [
    "## Introducción"
   ]
  },
  {
   "cell_type": "markdown",
   "metadata": {},
   "source": [
    "Una [**API**](https://es.wikipedia.org/wiki/API) (del inglés, *Application Programming Interface*, en español, *Interfaz de Programación de Aplicaciones*) es un conjunto de protocolos, herramientas y definiciones que permiten la comunicación y el intercambio de datos entre programas. Puede decirse que una API establece un \"contrato\" de la forma en la que pueden \"hablarse\" los programas, al definir lo que pueden solicitar, lo que pueden responder y los formatos en los que pueden realizar este \"diálogo\".\n",
    "\n",
    "Las API de tipo [**REST**](https://es.wikipedia.org/wiki/Transferencia_de_Estado_Representacional) (del inglés, *Representational State Transfer*, en español, *Transferencia de Estado Representacional*) implementan esta comunicación mediante **solicitudes (*requests*)** y **respuestas (*responses*)** del protocolo HTTP en formatos como XML y JSON.\n",
    "\n",
    "En este capítulo, se estudia el acceso a las API de tipo REST mediante el lenguaje de programación Python."
   ]
  },
  {
   "cell_type": "markdown",
   "metadata": {},
   "source": [
    "## El protocolo HTTP"
   ]
  },
  {
   "cell_type": "markdown",
   "metadata": {},
   "source": [
    "El [**HTTP**](https://es.wikipedia.org/wiki/Protocolo_de_transferencia_de_hipertexto) (del inglés, *Hypertext Transfer Protocol*, en español, *Protocolo de Transferencia de Hipertexto*) es el protocolo de comunicación que permite la transferencia de información a través de la Web. Es un [**protocolo sin estado**](https://es.wikipedia.org/wiki/Protocolo_sin_estado), lo que significa que cada solicitud se maneja como una transacción independiente que no tiene relación con ninguna solicitud anterior, de modo que la comunicación se compone de pares independientes de solicitudes y respuestas. Al programa que realiza la solicitud se le denomina **cliente** y al que la responde se le llama **servidor**."
   ]
  },
  {
   "cell_type": "markdown",
   "metadata": {},
   "source": [
    "### Métodos de solicitud"
   ]
  },
  {
   "cell_type": "markdown",
   "metadata": {},
   "source": [
    "HTTP define un conjunto de [métodos de solicitud](https://developer.mozilla.org/es/docs/Web/HTTP/Methods) para indicar el tipo de solicitud que un cliente desea realizar a un servidor.\n",
    "\n",
    "Los siguientes son algunos de los métodos de solicitud HTTP:\n",
    "\n",
    "- **GET**: pide datos al servidor.\n",
    "- **POST**: envía datos al servidor.\n",
    "- **DELETE**: elimina datos de un servidor.\n",
    "\n",
    "Así, por ejemplo, si un cliente desea realizar una consulta de datos, debe enviar al servidor una solicitud de tipo [GET](https://developer.mozilla.org/es/docs/Web/HTTP/Methods/GET). Por otra parte, si desea agregar o modificar datos, debe enviar una solicitud de tipo [POST](https://developer.mozilla.org/es/docs/Web/HTTP/Methods/POST)."
   ]
  },
  {
   "cell_type": "markdown",
   "metadata": {},
   "source": [
    "### Códigos de estado de respuesta"
   ]
  },
  {
   "cell_type": "markdown",
   "metadata": {},
   "source": [
    "Al atender la solicitud de datos de un cliente, el servidor envía una respuesta con un código de estado y los datos solicitados (si logra atender la solicitud). Los [códigos de estado de respuesta](https://developer.mozilla.org/es/docs/Web/HTTP/Status) de HTTP indican si se ha completado satisfactoriamente la solicitud. Estos códigos se agrupan en cinco clases:\n",
    "\n",
    "- **Códigos del 100 al 199**: respuestas informativas.\n",
    "- **Códigos del 200 al 299**: respuestas satisfactorias.\n",
    "- **Códigos del 300 al 399**: redireccionamientos.\n",
    "- **Códigos del 400 al 499**: errores del cliente.\n",
    "- **Códigos del 500 al 599**: errores del servidor.\n",
    "\n",
    "Por ejemplo, una respuesta con el código [200 (OK)](https://developer.mozilla.org/es/docs/Web/HTTP/Status/200) significa que la solicitud tuvo éxito. Por otra parte, el código [404 (Not found)](https://developer.mozilla.org/es/docs/Web/HTTP/Status/404) indica que el servidor no pudo encontrar el recurso solicitado."
   ]
  },
  {
   "cell_type": "markdown",
   "metadata": {},
   "source": [
    "## Formatos de intercambio de datos"
   ]
  },
  {
   "cell_type": "markdown",
   "metadata": {},
   "source": [
    "Existen dos formatos de uso común para intercambiar datos a través de la Web; XML y JSON. XML es más adecuado para documentos completos (ej. documentos de texto, hojas de cálculo, diagramas, metadatos), mientras que JSON se utiliza para elementos de datos más específicos, representados en estructuras similares a las listas y diccionarios de Python."
   ]
  },
  {
   "cell_type": "markdown",
   "metadata": {},
   "source": [
    "### XML"
   ]
  },
  {
   "cell_type": "markdown",
   "metadata": {},
   "source": [
    "El [**XML**](https://es.wikipedia.org/wiki/Extensible_Markup_Language) (del inglés, *Extensible Markup Language*, en español, *Lenguaje de Marcado Extensible*) es un metalenguaje que permite definir lenguajes de marcas. Su formato, basado en texto, es legible tanto para computadoras como para personas. Es un estándar del [World Wide Web Consortium (W3C)](https://es.wikipedia.org/wiki/World_Wide_Web_Consortium), una organización internacional encargada de mantener estándares para la Web tales como [HTML](https://es.wikipedia.org/wiki/HTML), [CSS](https://es.wikipedia.org/wiki/CSS), [DOM](https://es.wikipedia.org/wiki/Document_Object_Model) y [SVG](https://es.wikipedia.org/wiki/Gr%C3%A1ficos_vectoriales_escalables), entre otros. La primera versión de XML se publicó en 1998.\n",
    "\n",
    "El siguiente en un ejemplo de un documento XML:"
   ]
  },
  {
   "cell_type": "markdown",
   "metadata": {},
   "source": [
    "```xml\n",
    "<?xml version=\"1.0\" encoding=\"UTF-8\" ?>\n",
    "<persona>\n",
    "  <nombre>Juan Pérez</nombre>\n",
    "  <telefono tipo=\"intl\">\n",
    "    +1 734 303 4456\n",
    "  </telefono>\n",
    "  <email oculto=\"sí\" />\n",
    "</persona>\n",
    "```"
   ]
  },
  {
   "cell_type": "markdown",
   "metadata": {},
   "source": [
    "Cada par de etiquetas de apertura y cierre (ej. `<persona>` y `</persona>`) representa un *elemento* o *nodo*. Cada elemento puede tener texto, atributos (ej. `tipo`, `oculto`) y otros elementos anidados. Si un elemento XML está vacío (es decir, no tiene contenido), puede representarse mediante una etiqueta de autocierre (ej. `<email />`).\n",
    "\n",
    "Python proporciona diversas herramientas para procesar datos XML en el paquete [xml](https://docs.python.org/3/library/xml.html)."
   ]
  },
  {
   "cell_type": "markdown",
   "metadata": {},
   "source": [
    "### JSON"
   ]
  },
  {
   "cell_type": "markdown",
   "metadata": {},
   "source": [
    "[**JSON**](https://es.wikipedia.org/wiki/JSON) (del inglés, *JavaScript Object Notation*, en español, *Notación de Objetos de JavaScript*) es un formato de texto sencillo para el intercambio de datos. Proviene de la sintaxis del lenguaje de programación [JavaScript](https://es.wikipedia.org/wiki/JavaScript) para representar arreglos y objetos, la cual está influenciada por la sintaxis de Python para representar listas y diccionarios. Por este motivo, la representación de conjuntos de datos en JSON es prácticamente idéntica a la de Python. JSON fue descrito por [Douglas Crockford](https://es.wikipedia.org/wiki/Douglas_Crockford) a inicios de la década de 2000. Es un estándar de la [Organización Internacional de Estándares (ISO)](https://es.wikipedia.org/wiki/Organizaci%C3%B3n_Internacional_de_Normalizaci%C3%B3n) desde 2017.\n",
    "\n",
    "El siguiente en un ejemplo de sintaxis JSON equivalente a la de XML presentada anteriormente:"
   ]
  },
  {
   "cell_type": "markdown",
   "metadata": {},
   "source": [
    "```json\n",
    "{\n",
    "  \"nombre\" : \"Juan Pérez\",\n",
    "  \"telefono\" : {\n",
    "    \"tipo\" : \"intl\",\n",
    "    \"numero\" : \"+1 734 303 4456\"\n",
    "   },\n",
    "   \"email\" : {\n",
    "     \"oculto\" : \"sí\"\n",
    "   }\n",
    "}\n",
    "```"
   ]
  },
  {
   "cell_type": "markdown",
   "metadata": {},
   "source": [
    "Pueden notarse algunas diferencias con XML. En primer lugar, mientras que en XML pueden añadirse atributos como `tipo` a etiquetas como `telefono`, en JSON solamente se usan pares `\"llave\": valor`. También ha desaparecido el elemento `persona` de XML y se ha sustituido por una llave de apertura (`{`) y otra de cierre (`}`).\n",
    "\n",
    "En general, las estructuras de datos representadas mediante JSON son más sencillas que las representadas en XML, debido a que JSON tiene menos capacidades que XML. Sin embargo, JSON tiene la ventaja de que mapea directamente a combinaciones de diccionarios y listas. Y como prácticamente todos los lenguajes de programación tienen algo equivalente a los diccionarios y listas de Python, JSON es un formato muy natural para que dos programas intercambien datos en cualquier lenguaje de programación.\n",
    "\n",
    "JSON se ha posicionado como el formato preferido para el intercambio de datos entre aplicaciones, debido a su relativa simplicidad en comparación con XML.\n",
    "\n",
    "El paquete [json](https://docs.python.org/3/library/json.html) de Python proporciona varias funciones para manejar datos en formato JSON."
   ]
  },
  {
   "cell_type": "markdown",
   "metadata": {},
   "source": [
    "## El paquete `requests`"
   ]
  },
  {
   "cell_type": "markdown",
   "metadata": {},
   "source": [
    "El paquete [requests](https://requests.readthedocs.io) de Python es una biblioteca ampliamente utilizada para hacer solicitudes HTTP. Se emplea para interactuar con API, descargar archivos y, en general, hacer solicitudes web."
   ]
  },
  {
   "cell_type": "markdown",
   "metadata": {},
   "source": [
    "### Métodos principales"
   ]
  },
  {
   "cell_type": "markdown",
   "metadata": {},
   "source": [
    "#### `get()`"
   ]
  },
  {
   "cell_type": "markdown",
   "metadata": {},
   "source": [
    "\n",
    "El método [`requests.get()`](https://requests.readthedocs.io/en/latest/api/#requests.get) se utiliza para enviar una solicitud HTTP GET a una [URL](https://es.wikipedia.org/wiki/Localizador_de_recursos_uniforme) (i.e. una dirección web). Su sintaxis básica es:\n",
    "\n",
    "`requests.get(url, params=None, headers=None)`\n",
    "\n",
    "Principales argumentos de entrada:\n",
    "\n",
    "- `url` (obligatorio): dirección web a la que se envía la solicitud.  \n",
    "- `params` (opcional, por defecto `None`): diccionario de Python que se utiliza para adjuntar parámetros a una solicitud GET (ej. filtros para una consulta).  \n",
    "- `headers` (opcional, por defecto `None`): diccionario de Python con información adicional para establer el contexto necesario para procesar la solicitud y generar una respuesta adecuada. Algunos *headers* (encabezados) comunes son:\n",
    "    - `User-Agent`: identifica el tipo de cliente que realiza la solicitud. Por ejemplo:  \n",
    "    `'User-Agent': 'mi-aplicacion/1.0.0'`\n",
    "    - `Accept`: indica al servidor los formatos de datos que el cliente puede procesar. Por ejemplo:  \n",
    "    `'Accept': 'application/json'`\n",
    "    - `Authorization`: envía credenciales o *tokens* para autenticación. Por ejemplo:  \n",
    "    `'Authorization': 'Bearer <token_de_acceso>'`\n",
    "\n",
    "`requests.get()` retorna un objeto de la clase [requests.Response](https://requests.readthedocs.io/en/latest/api/#requests.Response), el cual contiene la respuesta a la solicitud HTTP."
   ]
  },
  {
   "cell_type": "markdown",
   "metadata": {},
   "source": [
    "#### `json()`"
   ]
  },
  {
   "cell_type": "markdown",
   "metadata": {},
   "source": [
    "El método [`requests.json()`](https://requests.readthedocs.io/en/latest/api/#requests.Response.json) retorna el contenido de una respuesta HTTP (un objeto [requests.Response](https://requests.readthedocs.io/en/latest/api/#requests.Response)) en formato JSON. Su sintaxis básica es:\n",
    "\n",
    "`datos = respuesta.json()`"
   ]
  },
  {
   "cell_type": "markdown",
   "metadata": {},
   "source": [
    "### Ejemplo de uso"
   ]
  },
  {
   "cell_type": "code",
   "execution_count": 13,
   "metadata": {},
   "outputs": [
    {
     "name": "stdout",
     "output_type": "stream",
     "text": [
      "{'login': 'octocat', 'id': 583231, 'node_id': 'MDQ6VXNlcjU4MzIzMQ==', 'avatar_url': 'https://avatars.githubusercontent.com/u/583231?v=4', 'gravatar_id': '', 'url': 'https://api.github.com/users/octocat', 'html_url': 'https://github.com/octocat', 'followers_url': 'https://api.github.com/users/octocat/followers', 'following_url': 'https://api.github.com/users/octocat/following{/other_user}', 'gists_url': 'https://api.github.com/users/octocat/gists{/gist_id}', 'starred_url': 'https://api.github.com/users/octocat/starred{/owner}{/repo}', 'subscriptions_url': 'https://api.github.com/users/octocat/subscriptions', 'organizations_url': 'https://api.github.com/users/octocat/orgs', 'repos_url': 'https://api.github.com/users/octocat/repos', 'events_url': 'https://api.github.com/users/octocat/events{/privacy}', 'received_events_url': 'https://api.github.com/users/octocat/received_events', 'type': 'User', 'site_admin': False, 'name': 'The Octocat', 'company': '@github', 'blog': 'https://github.blog', 'location': 'San Francisco', 'email': None, 'hireable': None, 'bio': None, 'twitter_username': None, 'public_repos': 8, 'public_gists': 8, 'followers': 15038, 'following': 9, 'created_at': '2011-01-25T18:44:36Z', 'updated_at': '2024-09-22T11:25:27Z'}\n"
     ]
    }
   ],
   "source": [
    "import requests\n",
    "\n",
    "# Solicitud GET\n",
    "respuesta = requests.get('https://api.github.com/users/octocat')\n",
    "\n",
    "# Verificación de la respuesta\n",
    "if respuesta.status_code == 200:\n",
    "    # La solicitud fue exitosa\n",
    "    \n",
    "    # La respuesta se convierte a formato JSON y se despliega (luego de este bloque de código)\n",
    "    datos = respuesta.json()\n",
    "    print(datos)\n",
    "else:\n",
    "    # Se produjo un error\n",
    "    print(f\"Error {respuesta.status_code}\")"
   ]
  },
  {
   "cell_type": "markdown",
   "metadata": {},
   "source": [
    "## El paquete `json`"
   ]
  },
  {
   "cell_type": "markdown",
   "metadata": {},
   "source": [
    "El paquete [json](https://docs.python.org/3/library/json.html) proporciona funciones para trabajar con datos en formato JSON. Estos métodos convierten estructuras de datos de Python (como diccionarios y listas) en cadenas JSON y viceversa."
   ]
  },
  {
   "cell_type": "markdown",
   "metadata": {},
   "source": [
    "### Métodos principales"
   ]
  },
  {
   "cell_type": "markdown",
   "metadata": {},
   "source": [
    "Los métodos principales para [serializar](https://es.wikipedia.org/wiki/Serializaci%C3%B3n) (convertir objetos de Python a JSON) son `dumps()` y `dump()`."
   ]
  },
  {
   "cell_type": "markdown",
   "metadata": {},
   "source": [
    "#### `dumps()`"
   ]
  },
  {
   "cell_type": "markdown",
   "metadata": {},
   "source": [
    "El método [`json.dumps()`](https://docs.python.org/3/library/json.html#json.dumps) convierte un objeto de Python en una cadena JSON formateada. En otras palabras, serializa objetos Python. El formateo de la cadena (ej. uso de sangrías) puede ayudar a mejorar la legibilidad de los datos. Su sintaxis básica es:\n",
    "\n",
    "`dumps(obj, ensure_ascii=True, indent=None)`\n",
    "\n",
    "Principales argumentos de entrada:\n",
    "\n",
    "- `obj` (obligatorio): objeto Python que se desea convertir a JSON. Puede ser una lista, un diccionario, una hilera de texto, un número, etc.\n",
    "- `ensure_ascii` (opcional, por defecto `True`): si es `False`, se permiten caracteres [Unicode](https://es.wikipedia.org/wiki/Unicode) en la salida.\n",
    "- `indent` (opcional, por defecto `None`): si se especifica un número entero, la salida se formatea con ese número de espacios para sangría, haciendo el JSON más legible."
   ]
  },
  {
   "cell_type": "markdown",
   "metadata": {},
   "source": [
    "#### `dump()`"
   ]
  },
  {
   "cell_type": "markdown",
   "metadata": {},
   "source": [
    "El método [`json.dump()`](https://docs.python.org/3/library/json.html#json.dump) escribe un objeto de Python en un archivo como una representación JSON. Su sintaxis básica es:\n",
    "\n",
    "`dump(obj, fp, ensure_ascii=True, indent=None)`\n",
    "\n",
    "Principales argumentos de entrada:\n",
    "\n",
    "- `obj` (obligatorio): objeto Python que se desea serializar.\n",
    "- `fp` (obligatorio): objeto tipo [`file` (archivo)](https://docs.python.org/3/glossary.html#term-file-object) abierto en modo de escritura.\n",
    "- `ensure_ascii` (opcional, por defecto `True`): si es `False`, se permiten caracteres Unicode en la salida.\n",
    "- `indent` (opcional, por defecto `None`): si se especifica un número entero, la salida se formatea con ese número de espacios para sangría, haciendo el JSON más legible."
   ]
  },
  {
   "cell_type": "markdown",
   "metadata": {},
   "source": [
    "### Ejemplo de uso"
   ]
  },
  {
   "cell_type": "code",
   "execution_count": 16,
   "metadata": {},
   "outputs": [
    {
     "name": "stdout",
     "output_type": "stream",
     "text": [
      "{\n",
      "    \"login\": \"octocat\",\n",
      "    \"id\": 583231,\n",
      "    \"node_id\": \"MDQ6VXNlcjU4MzIzMQ==\",\n",
      "    \"avatar_url\": \"https://avatars.githubusercontent.com/u/583231?v=4\",\n",
      "    \"gravatar_id\": \"\",\n",
      "    \"url\": \"https://api.github.com/users/octocat\",\n",
      "    \"html_url\": \"https://github.com/octocat\",\n",
      "    \"followers_url\": \"https://api.github.com/users/octocat/followers\",\n",
      "    \"following_url\": \"https://api.github.com/users/octocat/following{/other_user}\",\n",
      "    \"gists_url\": \"https://api.github.com/users/octocat/gists{/gist_id}\",\n",
      "    \"starred_url\": \"https://api.github.com/users/octocat/starred{/owner}{/repo}\",\n",
      "    \"subscriptions_url\": \"https://api.github.com/users/octocat/subscriptions\",\n",
      "    \"organizations_url\": \"https://api.github.com/users/octocat/orgs\",\n",
      "    \"repos_url\": \"https://api.github.com/users/octocat/repos\",\n",
      "    \"events_url\": \"https://api.github.com/users/octocat/events{/privacy}\",\n",
      "    \"received_events_url\": \"https://api.github.com/users/octocat/received_events\",\n",
      "    \"type\": \"User\",\n",
      "    \"site_admin\": false,\n",
      "    \"name\": \"The Octocat\",\n",
      "    \"company\": \"@github\",\n",
      "    \"blog\": \"https://github.blog\",\n",
      "    \"location\": \"San Francisco\",\n",
      "    \"email\": null,\n",
      "    \"hireable\": null,\n",
      "    \"bio\": null,\n",
      "    \"twitter_username\": null,\n",
      "    \"public_repos\": 8,\n",
      "    \"public_gists\": 8,\n",
      "    \"followers\": 15040,\n",
      "    \"following\": 9,\n",
      "    \"created_at\": \"2011-01-25T18:44:36Z\",\n",
      "    \"updated_at\": \"2024-09-22T11:25:27Z\"\n",
      "}\n"
     ]
    }
   ],
   "source": [
    "import requests\n",
    "import json\n",
    "\n",
    "# Solicitud GET\n",
    "respuesta = requests.get('https://api.github.com/users/octocat')\n",
    "\n",
    "# Verificación de la respuesta\n",
    "if respuesta.status_code == 200:\n",
    "    # La solicitud fue exitosa\n",
    "\n",
    "    # Se cargan en formato JSON los datos retornados\n",
    "    datos = respuesta.json()\n",
    "\n",
    "    # Formateo de datos JSON, para que sean más legibles\n",
    "    json_formateado = json.dumps(datos, indent=4, ensure_ascii=False)\n",
    "    # Despliegue de datos JSON formateados (luego de este bloque de código)\n",
    "    print(json_formateado)\n",
    "\n",
    "    # Almacenamiento de datos JSON en un archivo llamado \"datos.json\"\n",
    "    with open('datos.json', 'w', encoding='utf-8') as archivo:\n",
    "        json.dump(datos, archivo, indent=4, ensure_ascii=False)\n",
    "else:\n",
    "    # Se produjo un error\n",
    "    print(f\"Error {respuesta.status_code}\")"
   ]
  },
  {
   "cell_type": "markdown",
   "metadata": {},
   "source": [
    "## URL base y *endpoints*"
   ]
  },
  {
   "cell_type": "markdown",
   "metadata": {},
   "source": [
    "Toda API tiene un URL común que funciona como punto de partida para todas las solicitudes. A este URL se le denomina **URL base**. Los ***endpoints*** son extensiones del URL base que permiten acceder a recursos específicos.\n",
    "\n",
    "Por ejemplo, la [API de GitHub](https://docs.github.com/en/rest) tiene el siguiente URL base:\n",
    "\n",
    "`https://api.github.com/`\n",
    "\n",
    "Algunos de sus *endpoints* son:\n",
    "\n",
    "`https://api.github.com/users/`: datos de usuarios  \n",
    "`https://api.github.com/repos/`: datos de repositorios  \n",
    "`https://api.github.com/orgs/`: datos de organizaciones  \n",
    "`https://api.github.com/licenses/`: datos de licencias  "
   ]
  },
  {
   "cell_type": "markdown",
   "metadata": {},
   "source": [
    "## Ejemplos de uso de API"
   ]
  },
  {
   "cell_type": "markdown",
   "metadata": {},
   "source": [
    "En esta sección se presentan varios ejemplos de uso de API mediante el módulo `requests` del lenguaje de programación Python."
   ]
  },
  {
   "cell_type": "markdown",
   "metadata": {},
   "source": [
    "### GitHub REST API "
   ]
  },
  {
   "cell_type": "markdown",
   "metadata": {},
   "source": [
    "[GitHub](https://github.com) es una plataforma de desarrollo colaborativo que utiliza el sistema de control de versiones [Git](https://es.wikipedia.org/wiki/Git), permitiendo a los desarrolladores alojar, revisar y gestionar código de manera eficiente. La [GitHub REST API](https://docs.github.com/en/rest) ofrece a los desarrolladores la capacidad de interactuar programáticamente con GitHub, facilitando la automatización de tareas y la integración de sus servicios en otras aplicaciones.\n",
    "\n",
    "De acuerdo con su documentación, el URL base del GitHub REST API es:\n",
    "\n",
    "`https://api.github.com/`\n",
    "\n",
    "Algunos de sus *endpoints* son:\n",
    "\n",
    "`https://api.github.com/users/`: datos de usuarios  \n",
    "`https://api.github.com/repos/`: datos de repositorios  \n",
    "`https://api.github.com/orgs/`: datos de organizaciones  \n",
    "`https://api.github.com/licenses/`: datos de licencias  \n",
    "\n",
    "Seguidamente, se muestran algunos ejemplos de uso de esta API."
   ]
  },
  {
   "cell_type": "markdown",
   "metadata": {},
   "source": [
    "#### Consulta de datos de usuarios"
   ]
  },
  {
   "cell_type": "markdown",
   "metadata": {},
   "source": [
    "Documentación \\\n",
    "[REST API endpoints for users - GitHub Docs](https://docs.github.com/en/rest/users/users)"
   ]
  },
  {
   "cell_type": "code",
   "execution_count": 26,
   "metadata": {},
   "outputs": [
    {
     "name": "stdout",
     "output_type": "stream",
     "text": [
      "Nombre del usuario: The Octocat\n",
      "Biografía: None\n",
      "Localización: San Francisco\n",
      "Cantidad de repositorios públicos: 8\n"
     ]
    }
   ],
   "source": [
    "import requests\n",
    "import json\n",
    "\n",
    "# Nombre del usuario\n",
    "usuario = 'octocat'\n",
    "# URL\n",
    "url = f'https://api.github.com/users/{usuario}'\n",
    "\n",
    "# Solicitud GET\n",
    "respuesta = requests.get(url)\n",
    "\n",
    "# Verificación de la respuesta\n",
    "if respuesta.status_code == 200:\n",
    "    # La solicitud fue exitosa\n",
    "\n",
    "    # Se cargan en formato JSON los datos retornados\n",
    "    datos_usuario = respuesta.json()\n",
    "\n",
    "    # Se imprimen elementos de datos específicos\n",
    "    print(f\"Nombre del usuario: {datos_usuario['name']}\")\n",
    "    print(f\"Biografía: {datos_usuario['bio']}\")\n",
    "    print(f\"Localización: {datos_usuario['location']}\")\n",
    "    print(f\"Cantidad de repositorios públicos: {datos_usuario['public_repos']}\")\n",
    "\n",
    "    # Almacenamiento de datos JSON en un archivo llamado \"datos-usuario.json\"\n",
    "    with open('datos-usuario.json', 'w', encoding='utf-8') as archivo:\n",
    "        json.dump(datos_usuario, archivo, indent=4, ensure_ascii=False)    \n",
    "else:\n",
    "    # Se produjo un error\n",
    "    print(f\"Error {respuesta.status_code}\")"
   ]
  },
  {
   "cell_type": "markdown",
   "metadata": {},
   "source": [
    "#### Consulta de datos de repositorios"
   ]
  },
  {
   "cell_type": "markdown",
   "metadata": {},
   "source": [
    "Documentación \\\n",
    "[REST API endpoints for repositories - GitHub Docs](https://docs.github.com/en/rest/repos)"
   ]
  },
  {
   "cell_type": "code",
   "execution_count": 28,
   "metadata": {},
   "outputs": [
    {
     "name": "stdout",
     "output_type": "stream",
     "text": [
      "Nombre del repositorio: especies-amenazadas\n",
      "Descripción: Especies amenazadas de flora y fauna\n",
      "Lenguaje principal: None\n",
      "Cantidad de estrellas: 0\n"
     ]
    }
   ],
   "source": [
    "import requests\n",
    "import json\n",
    "\n",
    "# Nombre del usuario propietario del repositorio\n",
    "propietario = 'octocat'\n",
    "# Nombre del repositorio\n",
    "repositorio = 'Hello-World'\n",
    "# URL\n",
    "url = f'https://api.github.com/repos/{propietario}/{repositorio}'\n",
    "\n",
    "# Solicitud GET\n",
    "respuesta = requests.get(url)\n",
    "\n",
    "# Verificación de la respuesta\n",
    "if respuesta.status_code == 200:\n",
    "    # La solicitud fue exitosa\n",
    "\n",
    "    # Se cargan en formato JSON los datos retornados\n",
    "    datos_repositorio = respuesta.json()\n",
    "\n",
    "    # Se imprimen elementos de datos específicos\n",
    "    print(f\"Nombre del repositorio: {datos_repositorio['name']}\")\n",
    "    print(f\"Descripción: {datos_repositorio['description']}\")\n",
    "    print(f\"Lenguaje principal: {datos_repositorio['language']}\")\n",
    "    print(f\"Cantidad de estrellas: {datos_repositorio['stargazers_count']}\")\n",
    "\n",
    "    # Almacenamiento de datos JSON en un archivo llamado \"datos-repositorio.json\"\n",
    "    with open('datos-repositorio.json', 'w', encoding='utf-8') as archivo:\n",
    "        json.dump(datos_repositorio, archivo, indent=4, ensure_ascii=False)\n",
    "else:\n",
    "    # Se produjo un error\n",
    "    print(f\"Error {respuesta.status_code}\")\n"
   ]
  },
  {
   "cell_type": "markdown",
   "metadata": {},
   "source": [
    "### REST Countries"
   ]
  },
  {
   "cell_type": "markdown",
   "metadata": {},
   "source": [
    "[REST Countries](https://restcountries.com/) es una API de tipo REST que proporciona información sobre países de todo el mundo, incluyendo nombres oficiales, capitales, regiones, idiomas, monedas, población, banderas y códigos de país.\n",
    "\n",
    "De acuerdo con su documentación, el URL base de la versión más reciente de REST Countries es:\n",
    "\n",
    "`https://restcountries.com/v3.1/`\n",
    "\n",
    "Algunos de sus [*endpoints*](https://restcountries.com/#api-endpoints) son:\n",
    "\n",
    "`https://restcountries.com/v3.1/name/`: consulta por nombre de país  \n",
    "`https://restcountries.com/v3.1/alpha/`: consulta por código (CCA2, CCN3, CCA3 or CIOC) de país  \n",
    "`https://restcountries.com/v3.1/currency/`: consulta por nombre o código de moneda  \n",
    "`https://restcountries.com/v3.1/lang/`: consulta por nombre o código de idioma\n",
    "\n",
    "Seguidamente, se muestran algunos ejemplos de uso de esta API."
   ]
  },
  {
   "cell_type": "markdown",
   "metadata": {},
   "source": [
    "#### Consulta por nombre de país"
   ]
  },
  {
   "cell_type": "markdown",
   "metadata": {},
   "source": [
    "Documentación \\\n",
    "[REST Countries](https://restcountries.com/#endpoints-name)"
   ]
  },
  {
   "cell_type": "markdown",
   "metadata": {},
   "source": [
    "El siguiente código se escribió para ser ejecutado desde un programa Python que lee el nombre (en inglés) de un país desde el teclado. Para probarlo, guarde el código en un archivo con extensión `.py` y ejecútelo."
   ]
  },
  {
   "cell_type": "markdown",
   "metadata": {},
   "source": [
    "```python\n",
    "import requests\n",
    "import json\n",
    "\n",
    "# Nombre del país\n",
    "pais = input(\"Ingrese el nombre de un país: \")\n",
    "\n",
    "# URL\n",
    "url = f'https://restcountries.com/v3.1/name/{pais}'\n",
    "\n",
    "# Solicitud GET\n",
    "respuesta = requests.get(url)\n",
    "\n",
    "# Verificación de la respuesta\n",
    "if respuesta.status_code == 200:\n",
    "    # La solicitud fue exitosa\n",
    "\n",
    "    # Se cargan en formato JSON los datos retornados en una lista\n",
    "    datos = respuesta.json()\n",
    "\n",
    "    # Se cargan los datos del primer país de la lista\n",
    "    datos_pais = datos[0]\n",
    "\n",
    "    # Se seleccionan elementos de datos específicos\n",
    "    nombre_comun = datos_pais['name']['common']\n",
    "    capital = datos_pais.get('capital', ['No disponible'])[0]\n",
    "    region = datos_pais.get('region', 'No disponible')\n",
    "    poblacion = datos_pais.get('population', 'No disponible')\n",
    "    monedas = datos_pais.get('currencies', {})\n",
    "    idiomas = datos_pais.get('languages', {})\n",
    "\n",
    "    # Se unen las monedas en una hilera de texto\n",
    "    lista_monedas = ', '.join([moneda['name'] for moneda in monedas.values()])\n",
    "\n",
    "    # Se unen los idiomas en una hilera de texto\n",
    "    lista_idiomas = ', '.join(idiomas.values())\n",
    "\n",
    "    print(f\"\\nInformación sobre {nombre_comun}:\")\n",
    "    print(f\"Capital: {capital}\")\n",
    "    print(f\"Región: {region}\")\n",
    "    print(f\"Población: {poblacion} habitantes\")\n",
    "    print(f\"Moneda(s): {lista_monedas}\")\n",
    "    print(f\"Idioma(s): {lista_idiomas}\")\n",
    "else:\n",
    "    # Se produjo un error\n",
    "    print(f\"Error {respuesta.status_code}\")\n",
    "```"
   ]
  },
  {
   "cell_type": "markdown",
   "metadata": {},
   "source": [
    "Ejemplo de los resultados de la ejecución:"
   ]
  },
  {
   "cell_type": "markdown",
   "metadata": {},
   "source": [
    "```\n",
    "Ingrese el nombre de un país: Costa Rica\n",
    "\n",
    "Información sobre Costa Rica:\n",
    "Capital: San José\n",
    "Región: Americas\n",
    "Población: 5094114 habitantes\n",
    "Moneda(s): Costa Rican colón\n",
    "Idioma(s): Spanish\n",
    "```"
   ]
  },
  {
   "cell_type": "markdown",
   "metadata": {},
   "source": [
    "### USGS Earthquake Catalog"
   ]
  },
  {
   "cell_type": "markdown",
   "metadata": {},
   "source": [
    "La [USGS](https://www.usgs.gov/) (del inglés, *United States Geological Survey*, en español, Servicio Geológico de Estados Unidos) es una agencia científica del gobierno federal de Estados Unidos dedicada al estudio del paisaje natural, sus recursos y los peligros naturales que lo amenazan. Tiene varias API que ofrecen acceso a una variedad de datos geológicos y geoespaciales, permitiendo a los desarrolladores integrar información sobre terremotos, recursos hídricos, mapas topográficos y más en sus aplicaciones. Entre los servicios que proporciona se incluyen datos en tiempo real sobre actividad sísmica, niveles y calidad del agua y elevación del terreno.\n",
    "\n",
    "El [USGS Earthquake Catalog](https://earthquake.usgs.gov/fdsnws/event/1/) es una API de tipo REST que brinda acceso a datos sísmicos en tiempo real y archivados de eventos ocurridos en todo el mundo. Permite consultar información detallada sobre terremotos, incluyendo magnitud, ubicación geográfica, profundidad, fecha y hora de ocurrencia, entre otros parámetros relevantes. Los datos pueden ser filtrados según criterios específicos y están disponibles en varios formatos como GeoJSON, CSV y XML, facilitando su integración en aplicaciones, sitios web y sistemas de monitoreo.\n",
    "\n",
    "Documentación \\\n",
    "[API Documentation - Earthquake Catalog](https://earthquake.usgs.gov/fdsnws/event/1/)\n",
    "\n",
    "De acuerdo con su documentación, el URL base de Earthquake Catalog es:\n",
    "\n",
    "`https://earthquake.usgs.gov/fdsnws/event/1/`\n",
    "\n",
    "Algunos de sus *endpoints* son:\n",
    "\n",
    "`https://earthquake.usgs.gov/fdsnws/event/1/query/`: consultas personalizadas al catálogo sísmico utilizando parámetros como rango de fechas, magnitudes mínima y máxima, coordenadas geográficas (para definir un área de interés), profundidad y otros.  \n",
    "\n",
    "`https://earthquake.usgs.gov/fdsnws/event/1/count/`: número de eventos que coinciden con los criterios de búsqueda especificados. Es útil para obtener estadísticas rápidas sin descargar todos los datos.  \n",
    "\n",
    "`https://earthquake.usgs.gov/fdsnws/event/1/count/application.wadl`: Proporciona una descripción completa de la API en formato [WADL (Web Application Description Language)](https://es.wikipedia.org/wiki/Web_Application_Description_Language), útil para obtener todas las opciones y parámetros disponibles.\n",
    "\n",
    "Seguidamente, se muestran algunos ejemplos de uso de esta API."
   ]
  },
  {
   "cell_type": "markdown",
   "metadata": {},
   "source": [
    "#### Consulta de terremotos"
   ]
  },
  {
   "cell_type": "code",
   "execution_count": 30,
   "metadata": {},
   "outputs": [
    {
     "name": "stdout",
     "output_type": "stream",
     "text": [
      "Fecha y hora: 2024-09-23 02:39:15\n",
      "Lugar: 7 km WNW of Cobb, CA\n",
      "Magnitud: 0.77\n",
      "Más información: https://earthquake.usgs.gov/earthquakes/eventpage/nc75065561\n",
      "----------------------------------------\n",
      "Fecha y hora: 2024-09-23 02:30:08\n",
      "Lugar: 9 km NW of The Geysers, CA\n",
      "Magnitud: 0.27\n",
      "Más información: https://earthquake.usgs.gov/earthquakes/eventpage/nc75065551\n",
      "----------------------------------------\n",
      "Fecha y hora: 2024-09-23 02:29:51\n",
      "Lugar: 10 km NW of The Geysers, CA\n",
      "Magnitud: 0.76\n",
      "Más información: https://earthquake.usgs.gov/earthquakes/eventpage/nc75065546\n",
      "----------------------------------------\n",
      "Fecha y hora: 2024-09-23 02:15:05\n",
      "Lugar: 10 km S of Idyllwild, CA\n",
      "Magnitud: 0.73\n",
      "Más información: https://earthquake.usgs.gov/earthquakes/eventpage/ci40742471\n",
      "----------------------------------------\n",
      "Fecha y hora: 2024-09-23 02:14:52\n",
      "Lugar: Fiji region\n",
      "Magnitud: 4.4\n",
      "Más información: https://earthquake.usgs.gov/earthquakes/eventpage/us6000ntsh\n",
      "----------------------------------------\n",
      "Fecha y hora: 2024-09-23 02:12:35\n",
      "Lugar: 91 km WNW of Skwentna, Alaska\n",
      "Magnitud: 1.9\n",
      "Más información: https://earthquake.usgs.gov/earthquakes/eventpage/ak024c9lr6zq\n",
      "----------------------------------------\n",
      "Fecha y hora: 2024-09-23 01:43:33\n",
      "Lugar: 29 km WNW of Volcano, Hawaii\n",
      "Magnitud: 2.16\n",
      "Más información: https://earthquake.usgs.gov/earthquakes/eventpage/hv74473777\n",
      "----------------------------------------\n",
      "Fecha y hora: 2024-09-23 01:42:25\n",
      "Lugar: 20 km SSW of Santa Isabel, Puerto Rico\n",
      "Magnitud: 2.27\n",
      "Más información: https://earthquake.usgs.gov/earthquakes/eventpage/pr71460848\n",
      "----------------------------------------\n",
      "Fecha y hora: 2024-09-23 01:33:24\n",
      "Lugar: 29 km WNW of Volcano, Hawaii\n",
      "Magnitud: 2.29\n",
      "Más información: https://earthquake.usgs.gov/earthquakes/eventpage/hv74473772\n",
      "----------------------------------------\n",
      "Fecha y hora: 2024-09-23 01:27:38\n",
      "Lugar: 4 km NE of Ridgeway, Alaska\n",
      "Magnitud: 1.7\n",
      "Más información: https://earthquake.usgs.gov/earthquakes/eventpage/ak024c9l8yr3\n",
      "----------------------------------------\n",
      "Fecha y hora: 2024-09-23 01:23:17\n",
      "Lugar: 2 km WNW of Anderson Springs, CA\n",
      "Magnitud: 1.04\n",
      "Más información: https://earthquake.usgs.gov/earthquakes/eventpage/nc75065536\n",
      "----------------------------------------\n",
      "Fecha y hora: 2024-09-23 01:21:09\n",
      "Lugar: 13 km SE of Desert Aire, Washington\n",
      "Magnitud: 1.08000004\n",
      "Más información: https://earthquake.usgs.gov/earthquakes/eventpage/uw62049066\n",
      "----------------------------------------\n",
      "Fecha y hora: 2024-09-23 01:15:50\n",
      "Lugar: 12 km SW of Searles Valley, CA\n",
      "Magnitud: 0.55\n",
      "Más información: https://earthquake.usgs.gov/earthquakes/eventpage/ci40742447\n",
      "----------------------------------------\n",
      "Fecha y hora: 2024-09-23 01:15:29\n",
      "Lugar: 12 km ENE of Ridgecrest, CA\n",
      "Magnitud: 0.55\n",
      "Más información: https://earthquake.usgs.gov/earthquakes/eventpage/ci40742439\n",
      "----------------------------------------\n",
      "Fecha y hora: 2024-09-23 01:06:58\n",
      "Lugar: 12 km ENE of Pāhala, Hawaii\n",
      "Magnitud: 1.97000003\n",
      "Más información: https://earthquake.usgs.gov/earthquakes/eventpage/hv74473707\n",
      "----------------------------------------\n",
      "Fecha y hora: 2024-09-23 01:00:38\n",
      "Lugar: 9 km NNW of Pinnacles, CA\n",
      "Magnitud: 1.72\n",
      "Más información: https://earthquake.usgs.gov/earthquakes/eventpage/nc75065531\n",
      "----------------------------------------\n",
      "Fecha y hora: 2024-09-23 00:46:59\n",
      "Lugar: 4 km E of Cabazon, CA\n",
      "Magnitud: 0.59\n",
      "Más información: https://earthquake.usgs.gov/earthquakes/eventpage/ci40742407\n",
      "----------------------------------------\n",
      "Fecha y hora: 2024-09-23 00:43:39\n",
      "Lugar: 48 km ESE of Goldfield, Nevada\n",
      "Magnitud: 0.8\n",
      "Más información: https://earthquake.usgs.gov/earthquakes/eventpage/nn00885009\n",
      "----------------------------------------\n",
      "Fecha y hora: 2024-09-23 00:39:20\n",
      "Lugar: 7 km ENE of Coso Junction, CA\n",
      "Magnitud: 1.46\n",
      "Más información: https://earthquake.usgs.gov/earthquakes/eventpage/ci40742399\n",
      "----------------------------------------\n",
      "Fecha y hora: 2024-09-23 00:17:21\n",
      "Lugar: 24 km WNW of Stanton, Texas\n",
      "Magnitud: 2.6\n",
      "Más información: https://earthquake.usgs.gov/earthquakes/eventpage/us6000ntrv\n",
      "----------------------------------------\n",
      "Fecha y hora: 2024-09-23 00:16:19\n",
      "Lugar: 12 km NE of Borrego Springs, CA\n",
      "Magnitud: 0.7\n",
      "Más información: https://earthquake.usgs.gov/earthquakes/eventpage/ci40742367\n",
      "----------------------------------------\n",
      "Fecha y hora: 2024-09-23 00:01:21\n",
      "Lugar: 13 km E of Pāhala, Hawaii\n",
      "Magnitud: 1.96000004\n",
      "Más información: https://earthquake.usgs.gov/earthquakes/eventpage/hv74473637\n",
      "----------------------------------------\n",
      "Fecha y hora: 2024-09-22 23:58:56\n",
      "Lugar: 66 km NNE of Van Horn, Texas\n",
      "Magnitud: 2.2\n",
      "Más información: https://earthquake.usgs.gov/earthquakes/eventpage/tx2024srzu\n",
      "----------------------------------------\n",
      "Fecha y hora: 2024-09-22 23:31:22\n",
      "Lugar: 16 km SE of Pinnacles, CA\n",
      "Magnitud: 2.03\n",
      "Más información: https://earthquake.usgs.gov/earthquakes/eventpage/nc75065511\n",
      "----------------------------------------\n",
      "Fecha y hora: 2024-09-22 23:25:24\n",
      "Lugar: 11 km SE of Desert Aire, Washington\n",
      "Magnitud: 1.97\n",
      "Más información: https://earthquake.usgs.gov/earthquakes/eventpage/uw62048996\n",
      "----------------------------------------\n",
      "Fecha y hora: 2024-09-22 23:11:05\n",
      "Lugar: Fiji region\n",
      "Magnitud: 4.7\n",
      "Más información: https://earthquake.usgs.gov/earthquakes/eventpage/us6000ntrk\n",
      "----------------------------------------\n",
      "Fecha y hora: 2024-09-22 23:09:59\n",
      "Lugar: 24 km SW of Ocotillo Wells, CA\n",
      "Magnitud: 1.15\n",
      "Más información: https://earthquake.usgs.gov/earthquakes/eventpage/ci40742319\n",
      "----------------------------------------\n",
      "Fecha y hora: 2024-09-22 23:08:01\n",
      "Lugar: 13 km SE of Anza, CA\n",
      "Magnitud: 0.52\n",
      "Más información: https://earthquake.usgs.gov/earthquakes/eventpage/ci40742311\n",
      "----------------------------------------\n",
      "Fecha y hora: 2024-09-22 23:04:37\n",
      "Lugar: 9 km ENE of Fox, Alaska\n",
      "Magnitud: 1.3\n",
      "Más información: https://earthquake.usgs.gov/earthquakes/eventpage/ak024c8ao81x\n",
      "----------------------------------------\n",
      "Fecha y hora: 2024-09-22 23:02:20\n",
      "Lugar: 3 km ESE of San Ardo, CA\n",
      "Magnitud: 1.57\n",
      "Más información: https://earthquake.usgs.gov/earthquakes/eventpage/nc75065496\n",
      "----------------------------------------\n",
      "Fecha y hora: 2024-09-22 22:51:57\n",
      "Lugar: 12 km SE of Desert Aire, Washington\n",
      "Magnitud: 1.21\n",
      "Más información: https://earthquake.usgs.gov/earthquakes/eventpage/uw62048976\n",
      "----------------------------------------\n",
      "Fecha y hora: 2024-09-22 22:45:53\n",
      "Lugar: 3 km NE of Villa Park, CA\n",
      "Magnitud: 1.53\n",
      "Más información: https://earthquake.usgs.gov/earthquakes/eventpage/ci40742295\n",
      "----------------------------------------\n",
      "Fecha y hora: 2024-09-22 22:42:46\n",
      "Lugar: 66 km NNE of Van Horn, Texas\n",
      "Magnitud: 2.2\n",
      "Más información: https://earthquake.usgs.gov/earthquakes/eventpage/tx2024srxi\n",
      "----------------------------------------\n",
      "Fecha y hora: 2024-09-22 22:42:22\n",
      "Lugar: 55 km S of Whites City, New Mexico\n",
      "Magnitud: 2.2\n",
      "Más información: https://earthquake.usgs.gov/earthquakes/eventpage/tx2024srxh\n",
      "----------------------------------------\n",
      "Fecha y hora: 2024-09-22 22:42:16\n",
      "Lugar: 12 km S of Redway, CA\n",
      "Magnitud: 1.6\n",
      "Más información: https://earthquake.usgs.gov/earthquakes/eventpage/nc75065491\n",
      "----------------------------------------\n",
      "Fecha y hora: 2024-09-22 22:39:29\n",
      "Lugar: 6 km NW of Bay Point, CA\n",
      "Magnitud: 1.52\n",
      "Más información: https://earthquake.usgs.gov/earthquakes/eventpage/nc75065486\n",
      "----------------------------------------\n",
      "Fecha y hora: 2024-09-22 22:14:39\n",
      "Lugar: 2 km ENE of The Geysers, CA\n",
      "Magnitud: 0.75\n",
      "Más información: https://earthquake.usgs.gov/earthquakes/eventpage/nc75065476\n",
      "----------------------------------------\n",
      "Fecha y hora: 2024-09-22 21:51:24\n",
      "Lugar: 11 km SE of Desert Aire, Washington\n",
      "Magnitud: 0.66\n",
      "Más información: https://earthquake.usgs.gov/earthquakes/eventpage/uw62048951\n",
      "----------------------------------------\n",
      "Fecha y hora: 2024-09-22 21:10:01\n",
      "Lugar: 13 km N of Ocotillo Wells, CA\n",
      "Magnitud: 0.82\n",
      "Más información: https://earthquake.usgs.gov/earthquakes/eventpage/ci40742247\n",
      "----------------------------------------\n",
      "Fecha y hora: 2024-09-22 21:07:21\n",
      "Lugar: 5 km SE of Ontario, CA\n",
      "Magnitud: 1.85\n",
      "Más información: https://earthquake.usgs.gov/earthquakes/eventpage/ci40742239\n",
      "----------------------------------------\n",
      "Fecha y hora: 2024-09-22 21:07:11\n",
      "Lugar: 12 km SE of Desert Aire, Washington\n",
      "Magnitud: 1.37\n",
      "Más información: https://earthquake.usgs.gov/earthquakes/eventpage/uw62048936\n",
      "----------------------------------------\n",
      "Fecha y hora: 2024-09-22 21:05:49\n",
      "Lugar: 16 km S of Volcano, Hawaii\n",
      "Magnitud: 1.81\n",
      "Más información: https://earthquake.usgs.gov/earthquakes/eventpage/hv74473432\n",
      "----------------------------------------\n",
      "Fecha y hora: 2024-09-22 20:56:04\n",
      "Lugar: 12 km SE of Desert Aire, Washington\n",
      "Magnitud: 0.9\n",
      "Más información: https://earthquake.usgs.gov/earthquakes/eventpage/uw62048926\n",
      "----------------------------------------\n",
      "Fecha y hora: 2024-09-22 20:51:25\n",
      "Lugar: 16 km WSW of Aleneva, Alaska\n",
      "Magnitud: 2.1\n",
      "Más información: https://earthquake.usgs.gov/earthquakes/eventpage/ak024c895yy8\n",
      "----------------------------------------\n",
      "Fecha y hora: 2024-09-22 20:42:35\n",
      "Lugar: Mauritius - Reunion region\n",
      "Magnitud: 5.4\n",
      "Más información: https://earthquake.usgs.gov/earthquakes/eventpage/us6000ntr4\n",
      "----------------------------------------\n",
      "Fecha y hora: 2024-09-22 20:41:18\n",
      "Lugar: 3 km SSE of Banning, CA\n",
      "Magnitud: 1\n",
      "Más información: https://earthquake.usgs.gov/earthquakes/eventpage/ci40742223\n",
      "----------------------------------------\n",
      "Fecha y hora: 2024-09-22 20:39:58\n",
      "Lugar: 40 km ENE of Lucerne Valley, CA\n",
      "Magnitud: 1.02\n",
      "Más información: https://earthquake.usgs.gov/earthquakes/eventpage/ci40742215\n",
      "----------------------------------------\n",
      "Fecha y hora: 2024-09-22 20:39:27\n",
      "Lugar: 61 km S of Whites City, New Mexico\n",
      "Magnitud: 2.1\n",
      "Más información: https://earthquake.usgs.gov/earthquakes/eventpage/tx2024srtf\n",
      "----------------------------------------\n",
      "Fecha y hora: 2024-09-22 20:37:33\n",
      "Lugar: 35 km WNW of Valdez, Alaska\n",
      "Magnitud: 1.4\n",
      "Más información: https://earthquake.usgs.gov/earthquakes/eventpage/ak024c892zjm\n",
      "----------------------------------------\n",
      "Fecha y hora: 2024-09-22 20:36:40\n",
      "Lugar: 12 km SE of Desert Aire, Washington\n",
      "Magnitud: 0.76\n",
      "Más información: https://earthquake.usgs.gov/earthquakes/eventpage/uw62048916\n",
      "----------------------------------------\n",
      "Fecha y hora: 2024-09-22 20:32:05\n",
      "Lugar: 2 km SSE of Guayanilla, Puerto Rico\n",
      "Magnitud: 2.53\n",
      "Más información: https://earthquake.usgs.gov/earthquakes/eventpage/pr71460838\n",
      "----------------------------------------\n",
      "Fecha y hora: 2024-09-22 20:16:40\n",
      "Lugar: 4 km S of Pāhala, Hawaii\n",
      "Magnitud: 2.11999989\n",
      "Más información: https://earthquake.usgs.gov/earthquakes/eventpage/hv74473397\n",
      "----------------------------------------\n",
      "Fecha y hora: 2024-09-22 20:15:04\n",
      "Lugar: 4 km SW of Shasta, CA\n",
      "Magnitud: 2.17\n",
      "Más información: https://earthquake.usgs.gov/earthquakes/eventpage/nc75065451\n",
      "----------------------------------------\n",
      "Fecha y hora: 2024-09-22 20:01:09\n",
      "Lugar: 10 km NW of Indian Springs, Nevada\n",
      "Magnitud: 0.1\n",
      "Más información: https://earthquake.usgs.gov/earthquakes/eventpage/nn00885003\n",
      "----------------------------------------\n",
      "Fecha y hora: 2024-09-22 19:49:28\n",
      "Lugar: 10 km WNW of Cobb, CA\n",
      "Magnitud: 1.04\n",
      "Más información: https://earthquake.usgs.gov/earthquakes/eventpage/nc75065436\n",
      "----------------------------------------\n",
      "Fecha y hora: 2024-09-22 19:48:13\n",
      "Lugar: 43 km SW of La Libertad, El Salvador\n",
      "Magnitud: 4.5\n",
      "Más información: https://earthquake.usgs.gov/earthquakes/eventpage/us6000ntqm\n",
      "----------------------------------------\n",
      "Fecha y hora: 2024-09-22 19:42:33\n",
      "Lugar: 68 km S of Challapata, Bolivia\n",
      "Magnitud: 4.9\n",
      "Más información: https://earthquake.usgs.gov/earthquakes/eventpage/us6000ntqk\n",
      "----------------------------------------\n",
      "Fecha y hora: 2024-09-22 19:40:29\n",
      "Lugar: 12 km SE of Desert Aire, Washington\n",
      "Magnitud: 1.05\n",
      "Más información: https://earthquake.usgs.gov/earthquakes/eventpage/uw62048901\n",
      "----------------------------------------\n",
      "Fecha y hora: 2024-09-22 19:39:17\n",
      "Lugar: 8 km SE of Valle Vista, CA\n",
      "Magnitud: 1.07\n",
      "Más información: https://earthquake.usgs.gov/earthquakes/eventpage/ci40742159\n",
      "----------------------------------------\n",
      "Fecha y hora: 2024-09-22 19:30:49\n",
      "Lugar: 9 km SSE of Guánica, Puerto Rico\n",
      "Magnitud: 2.55\n",
      "Más información: https://earthquake.usgs.gov/earthquakes/eventpage/pr71460823\n",
      "----------------------------------------\n",
      "Fecha y hora: 2024-09-22 19:25:45\n",
      "Lugar: 12 km SE of Desert Aire, Washington\n",
      "Magnitud: 2.12\n",
      "Más información: https://earthquake.usgs.gov/earthquakes/eventpage/uw62048896\n",
      "----------------------------------------\n",
      "Fecha y hora: 2024-09-22 19:25:29\n",
      "Lugar: 51 km E of Beatty, Nevada\n",
      "Magnitud: -0.4\n",
      "Más información: https://earthquake.usgs.gov/earthquakes/eventpage/nn00885002\n",
      "----------------------------------------\n",
      "Fecha y hora: 2024-09-22 19:09:48\n",
      "Lugar: 15 km S of Round Mountain, CA\n",
      "Magnitud: 1.65\n",
      "Más información: https://earthquake.usgs.gov/earthquakes/eventpage/nc75065426\n",
      "----------------------------------------\n",
      "Fecha y hora: 2024-09-22 19:06:45\n",
      "Lugar: 3 km W of Cobb, CA\n",
      "Magnitud: 0.77\n",
      "Más información: https://earthquake.usgs.gov/earthquakes/eventpage/nc75065416\n",
      "----------------------------------------\n",
      "Fecha y hora: 2024-09-22 18:52:22\n",
      "Lugar: 24 km SW of Ocotillo Wells, CA\n",
      "Magnitud: 0.77\n",
      "Más información: https://earthquake.usgs.gov/earthquakes/eventpage/ci40742135\n",
      "----------------------------------------\n",
      "Fecha y hora: 2024-09-22 18:52:02\n",
      "Lugar: 9 km WSW of The Geysers, CA\n",
      "Magnitud: 1.06\n",
      "Más información: https://earthquake.usgs.gov/earthquakes/eventpage/nc75065411\n",
      "----------------------------------------\n",
      "Fecha y hora: 2024-09-22 18:49:23\n",
      "Lugar: 15 km S of Round Mountain, CA\n",
      "Magnitud: 1.63\n",
      "Más información: https://earthquake.usgs.gov/earthquakes/eventpage/nc75065406\n",
      "----------------------------------------\n",
      "Fecha y hora: 2024-09-22 18:46:37\n",
      "Lugar: 57 km NW of La Ligua, Chile\n",
      "Magnitud: 5\n",
      "Más información: https://earthquake.usgs.gov/earthquakes/eventpage/us6000ntqb\n",
      "----------------------------------------\n",
      "Fecha y hora: 2024-09-22 18:38:28\n",
      "Lugar: 7 km NNW of The Geysers, CA\n",
      "Magnitud: 1.08\n",
      "Más información: https://earthquake.usgs.gov/earthquakes/eventpage/nc75065401\n",
      "----------------------------------------\n",
      "Fecha y hora: 2024-09-22 18:27:43\n",
      "Lugar: 16 km NE of Lálas, Greece\n",
      "Magnitud: 4.3\n",
      "Más información: https://earthquake.usgs.gov/earthquakes/eventpage/us6000ntq7\n",
      "----------------------------------------\n",
      "Fecha y hora: 2024-09-22 18:23:57\n",
      "Lugar: 35 km WNW of Petersville, Alaska\n",
      "Magnitud: 1.7\n",
      "Más información: https://earthquake.usgs.gov/earthquakes/eventpage/ak024c87t65j\n",
      "----------------------------------------\n",
      "Fecha y hora: 2024-09-22 18:22:08\n",
      "Lugar: 2 km SSW of Pāhala, Hawaii\n",
      "Magnitud: 1.95000005\n",
      "Más información: https://earthquake.usgs.gov/earthquakes/eventpage/hv74473307\n",
      "----------------------------------------\n",
      "Fecha y hora: 2024-09-22 17:55:51\n",
      "Lugar: 21 km SW of Lamont, CA\n",
      "Magnitud: 1.48\n",
      "Más información: https://earthquake.usgs.gov/earthquakes/eventpage/ci40742095\n",
      "----------------------------------------\n",
      "Fecha y hora: 2024-09-22 17:48:32\n",
      "Lugar: 8 km NNW of Julian, CA\n",
      "Magnitud: 1.11\n",
      "Más información: https://earthquake.usgs.gov/earthquakes/eventpage/ci40742087\n",
      "----------------------------------------\n",
      "Fecha y hora: 2024-09-22 17:48:16\n",
      "Lugar: 3 km S of Pāhala, Hawaii\n",
      "Magnitud: 1.75999999\n",
      "Más información: https://earthquake.usgs.gov/earthquakes/eventpage/hv74473272\n",
      "----------------------------------------\n",
      "Fecha y hora: 2024-09-22 17:40:51\n",
      "Lugar: 15 km SW of Searles Valley, CA\n",
      "Magnitud: 1.1\n",
      "Más información: https://earthquake.usgs.gov/earthquakes/eventpage/ci40742079\n",
      "----------------------------------------\n",
      "Fecha y hora: 2024-09-22 17:40:14\n",
      "Lugar: 12 km SE of Desert Aire, Washington\n",
      "Magnitud: 0.54\n",
      "Más información: https://earthquake.usgs.gov/earthquakes/eventpage/uw62048861\n",
      "----------------------------------------\n",
      "Fecha y hora: 2024-09-22 17:39:12\n",
      "Lugar: 3 km SW of Pāhala, Hawaii\n",
      "Magnitud: 1.88999999\n",
      "Más información: https://earthquake.usgs.gov/earthquakes/eventpage/hv74473267\n",
      "----------------------------------------\n",
      "Fecha y hora: 2024-09-22 17:36:34\n",
      "Lugar: 3 km ESE of Borrego Springs, CA\n",
      "Magnitud: 1.1\n",
      "Más información: https://earthquake.usgs.gov/earthquakes/eventpage/ci40742063\n",
      "----------------------------------------\n",
      "Fecha y hora: 2024-09-22 17:36:34\n",
      "Lugar: 4 km SE of Borrego Springs, CA\n",
      "Magnitud: 1.16\n",
      "Más información: https://earthquake.usgs.gov/earthquakes/eventpage/ci40742071\n",
      "----------------------------------------\n",
      "Fecha y hora: 2024-09-22 17:34:12\n",
      "Lugar: 9 km NW of The Geysers, CA\n",
      "Magnitud: 1.52\n",
      "Más información: https://earthquake.usgs.gov/earthquakes/eventpage/nc75065391\n",
      "----------------------------------------\n",
      "Fecha y hora: 2024-09-22 17:25:52\n",
      "Lugar: 42 km WNW of Petersville, Alaska\n",
      "Magnitud: 1.4\n",
      "Más información: https://earthquake.usgs.gov/earthquakes/eventpage/ak024c8785mp\n",
      "----------------------------------------\n",
      "Fecha y hora: 2024-09-22 17:18:57\n",
      "Lugar: 6 km SW of Volcano, Hawaii\n",
      "Magnitud: 2.11999989\n",
      "Más información: https://earthquake.usgs.gov/earthquakes/eventpage/hv74473247\n",
      "----------------------------------------\n",
      "Fecha y hora: 2024-09-22 17:17:03\n",
      "Lugar: 5 km WSW of New Idria, CA\n",
      "Magnitud: 1.77\n",
      "Más información: https://earthquake.usgs.gov/earthquakes/eventpage/nc75065386\n",
      "----------------------------------------\n",
      "Fecha y hora: 2024-09-22 17:11:47\n",
      "Lugar: 61 km SE of Unalaska, Alaska\n",
      "Magnitud: 3.7\n",
      "Más información: https://earthquake.usgs.gov/earthquakes/eventpage/us6000ntpz\n",
      "----------------------------------------\n",
      "Fecha y hora: 2024-09-22 16:48:30\n",
      "Lugar: 4 km S of Pāhala, Hawaii\n",
      "Magnitud: 1.84000003\n",
      "Más información: https://earthquake.usgs.gov/earthquakes/eventpage/hv74473227\n",
      "----------------------------------------\n",
      "Fecha y hora: 2024-09-22 16:45:21\n",
      "Lugar: 17 km SE of Kasilof, Alaska\n",
      "Magnitud: 1.5\n",
      "Más información: https://earthquake.usgs.gov/earthquakes/eventpage/ak024c86qxx0\n",
      "----------------------------------------\n",
      "Fecha y hora: 2024-09-22 16:41:40\n",
      "Lugar: 8 km WNW of Cobb, CA\n",
      "Magnitud: 0.73\n",
      "Más información: https://earthquake.usgs.gov/earthquakes/eventpage/nc75065376\n",
      "----------------------------------------\n",
      "Fecha y hora: 2024-09-22 16:34:16\n",
      "Lugar: 51 km E of Beatty, Nevada\n",
      "Magnitud: -0.4\n",
      "Más información: https://earthquake.usgs.gov/earthquakes/eventpage/nn00885001\n",
      "----------------------------------------\n",
      "Fecha y hora: 2024-09-22 16:21:25\n",
      "Lugar: 4 km S of Pāhala, Hawaii\n",
      "Magnitud: 3.96\n",
      "Más información: https://earthquake.usgs.gov/earthquakes/eventpage/hv74473187\n",
      "----------------------------------------\n",
      "Fecha y hora: 2024-09-22 16:20:18\n",
      "Lugar: 8 km WNW of Cobb, CA\n",
      "Magnitud: 1.3\n",
      "Más información: https://earthquake.usgs.gov/earthquakes/eventpage/nc75065361\n",
      "----------------------------------------\n",
      "Fecha y hora: 2024-09-22 16:17:58\n",
      "Lugar: 68 km ENE of Pedro Bay, Alaska\n",
      "Magnitud: 1.8\n",
      "Más información: https://earthquake.usgs.gov/earthquakes/eventpage/ak024c86l0pp\n",
      "----------------------------------------\n",
      "Fecha y hora: 2024-09-22 16:10:20\n",
      "Lugar: 26 km ENE of Seeley Lake, Montana\n",
      "Magnitud: 1.39\n",
      "Más información: https://earthquake.usgs.gov/earthquakes/eventpage/mb90062138\n",
      "----------------------------------------\n",
      "Fecha y hora: 2024-09-22 15:16:16\n",
      "Lugar: 7 km SW of Susitna, Alaska\n",
      "Magnitud: 2.1\n",
      "Más información: https://earthquake.usgs.gov/earthquakes/eventpage/ak024c85z9xu\n",
      "----------------------------------------\n",
      "Fecha y hora: 2024-09-22 14:57:21\n",
      "Lugar: 35 km SSE of Skwentna, Alaska\n",
      "Magnitud: 1.6\n",
      "Más información: https://earthquake.usgs.gov/earthquakes/eventpage/ak024c85mnao\n",
      "----------------------------------------\n",
      "Fecha y hora: 2024-09-22 14:45:56\n",
      "Lugar: 25 km WSW of Cantwell, Alaska\n",
      "Magnitud: 1.6\n",
      "Más información: https://earthquake.usgs.gov/earthquakes/eventpage/ak024c85k5fq\n",
      "----------------------------------------\n",
      "Fecha y hora: 2024-09-22 14:45:41\n",
      "Lugar: 6 km NNW of Indian Springs, Nevada\n",
      "Magnitud: 0.5\n",
      "Más información: https://earthquake.usgs.gov/earthquakes/eventpage/nn00884996\n",
      "----------------------------------------\n",
      "Fecha y hora: 2024-09-22 14:27:36\n",
      "Lugar: 3 km ESE of Pāhala, Hawaii\n",
      "Magnitud: 2.00999999\n",
      "Más información: https://earthquake.usgs.gov/earthquakes/eventpage/hv74473092\n",
      "----------------------------------------\n",
      "Fecha y hora: 2024-09-22 14:27:06\n",
      "Lugar: 13 km SE of Kasilof, Alaska\n",
      "Magnitud: 3.9\n",
      "Más información: https://earthquake.usgs.gov/earthquakes/eventpage/ak024c85g6l4\n",
      "----------------------------------------\n",
      "Fecha y hora: 2024-09-22 14:16:15\n",
      "Lugar: 7 km NNW of Indian Springs, Nevada\n",
      "Magnitud: 0.2\n",
      "Más información: https://earthquake.usgs.gov/earthquakes/eventpage/nn00884994\n",
      "----------------------------------------\n",
      "Fecha y hora: 2024-09-22 14:00:45\n",
      "Lugar: 8 km SW of Guánica, Puerto Rico\n",
      "Magnitud: 2.49\n",
      "Más información: https://earthquake.usgs.gov/earthquakes/eventpage/pr71460818\n",
      "----------------------------------------\n",
      "Fecha y hora: 2024-09-22 13:55:24\n",
      "Lugar: 12 km SE of Desert Aire, Washington\n",
      "Magnitud: 0.51\n",
      "Más información: https://earthquake.usgs.gov/earthquakes/eventpage/uw62048831\n",
      "----------------------------------------\n",
      "Fecha y hora: 2024-09-22 13:39:46\n",
      "Lugar: 14 km S of Stratford, CA\n",
      "Magnitud: 1.77\n",
      "Más información: https://earthquake.usgs.gov/earthquakes/eventpage/nc75065326\n",
      "----------------------------------------\n",
      "Fecha y hora: 2024-09-22 13:36:34\n",
      "Lugar: 4 km SSE of Mentone, CA\n",
      "Magnitud: 1.09\n",
      "Más información: https://earthquake.usgs.gov/earthquakes/eventpage/ci40741879\n",
      "----------------------------------------\n",
      "Fecha y hora: 2024-09-22 13:36:03\n",
      "Lugar: 10 km E of Pāhala, Hawaii\n",
      "Magnitud: 2.06\n",
      "Más información: https://earthquake.usgs.gov/earthquakes/eventpage/hv74473032\n",
      "----------------------------------------\n",
      "Fecha y hora: 2024-09-22 13:34:34\n",
      "Lugar: 59 km S of Whites City, New Mexico\n",
      "Magnitud: 1.6\n",
      "Más información: https://earthquake.usgs.gov/earthquakes/eventpage/tx2024srfe\n",
      "----------------------------------------\n",
      "Fecha y hora: 2024-09-22 13:31:04\n",
      "Lugar: 3 km SSW of Pāhala, Hawaii\n",
      "Magnitud: 2.27999997\n",
      "Más información: https://earthquake.usgs.gov/earthquakes/eventpage/hv74473022\n",
      "----------------------------------------\n",
      "Fecha y hora: 2024-09-22 13:28:49\n",
      "Lugar: 32 km SSW of Skwentna, Alaska\n",
      "Magnitud: 1.7\n",
      "Más información: https://earthquake.usgs.gov/earthquakes/eventpage/ak024c84v22w\n",
      "----------------------------------------\n",
      "Fecha y hora: 2024-09-22 13:10:00\n",
      "Lugar: 10 km SE of Guaymate, Dominican Republic\n",
      "Magnitud: 4.24\n",
      "Más información: https://earthquake.usgs.gov/earthquakes/eventpage/pr2024266001\n",
      "----------------------------------------\n",
      "Fecha y hora: 2024-09-22 12:52:05\n",
      "Lugar: 31 km NW of Petersville, Alaska\n",
      "Magnitud: 1.1\n",
      "Más información: https://earthquake.usgs.gov/earthquakes/eventpage/ak024c84eo99\n",
      "----------------------------------------\n",
      "Fecha y hora: 2024-09-22 12:49:03\n",
      "Lugar: 32 km E of Skwentna, Alaska\n",
      "Magnitud: 1.2\n",
      "Más información: https://earthquake.usgs.gov/earthquakes/eventpage/ak024c84e109\n",
      "----------------------------------------\n",
      "Fecha y hora: 2024-09-22 12:43:35\n",
      "Lugar: 32 km NNE of Bojnūrd, Iran\n",
      "Magnitud: 4.8\n",
      "Más información: https://earthquake.usgs.gov/earthquakes/eventpage/us6000ntp4\n",
      "----------------------------------------\n",
      "Fecha y hora: 2024-09-22 12:25:55\n",
      "Lugar: 12 km SSE of Guánica, Puerto Rico\n",
      "Magnitud: 2.77\n",
      "Más información: https://earthquake.usgs.gov/earthquakes/eventpage/pr71460793\n",
      "----------------------------------------\n",
      "Fecha y hora: 2024-09-22 12:19:01\n",
      "Lugar: 5 km SSE of G. L. Garcia, Puerto Rico\n",
      "Magnitud: 2.73\n",
      "Más información: https://earthquake.usgs.gov/earthquakes/eventpage/pr71460773\n",
      "----------------------------------------\n",
      "Fecha y hora: 2024-09-22 12:15:20\n",
      "Lugar: 18 km N of Four Mile Road, Alaska\n",
      "Magnitud: 0.9\n",
      "Más información: https://earthquake.usgs.gov/earthquakes/eventpage/ak024c846rwv\n",
      "----------------------------------------\n",
      "Fecha y hora: 2024-09-22 12:02:02\n",
      "Lugar: 6 km WSW of Skwentna, Alaska\n",
      "Magnitud: 1.5\n",
      "Más información: https://earthquake.usgs.gov/earthquakes/eventpage/ak024c843y7l\n",
      "----------------------------------------\n",
      "Fecha y hora: 2024-09-22 11:51:08\n",
      "Lugar: 71 km N of Kiana, Alaska\n",
      "Magnitud: 2.9\n",
      "Más información: https://earthquake.usgs.gov/earthquakes/eventpage/ak024c83t17t\n",
      "----------------------------------------\n",
      "Fecha y hora: 2024-09-22 11:46:06\n",
      "Lugar: 3 km SSW of San Bernardino, CA\n",
      "Magnitud: 1.22\n",
      "Más información: https://earthquake.usgs.gov/earthquakes/eventpage/ci40741863\n",
      "----------------------------------------\n",
      "Fecha y hora: 2024-09-22 11:33:13\n",
      "Lugar: 10 km SSE of Idyllwild, CA\n",
      "Magnitud: 0.19\n",
      "Más información: https://earthquake.usgs.gov/earthquakes/eventpage/ci40741855\n",
      "----------------------------------------\n",
      "Fecha y hora: 2024-09-22 11:28:02\n",
      "Lugar: 11 km NNW of Tanaina, Alaska\n",
      "Magnitud: 2\n",
      "Más información: https://earthquake.usgs.gov/earthquakes/eventpage/ak024c83o39k\n",
      "----------------------------------------\n",
      "Fecha y hora: 2024-09-22 11:12:32\n",
      "Lugar: 4 km NW of Anchor Point, Alaska\n",
      "Magnitud: 1.2\n",
      "Más información: https://earthquake.usgs.gov/earthquakes/eventpage/ak024c83kq32\n",
      "----------------------------------------\n",
      "Fecha y hora: 2024-09-22 11:11:54\n",
      "Lugar: 3 km S of Salcha, Alaska\n",
      "Magnitud: 1.3\n",
      "Más información: https://earthquake.usgs.gov/earthquakes/eventpage/ak024c83kk2e\n",
      "----------------------------------------\n",
      "Fecha y hora: 2024-09-22 11:08:28\n",
      "Lugar: 3 km WNW of Cobb, CA\n",
      "Magnitud: 0.76\n",
      "Más información: https://earthquake.usgs.gov/earthquakes/eventpage/nc75065301\n",
      "----------------------------------------\n",
      "Fecha y hora: 2024-09-22 11:05:11\n",
      "Lugar: 54 km WSW of Nikolski, Alaska\n",
      "Magnitud: 3.4\n",
      "Más información: https://earthquake.usgs.gov/earthquakes/eventpage/ak024c83j5wu\n",
      "----------------------------------------\n",
      "Fecha y hora: 2024-09-22 10:57:05\n",
      "Lugar: 29 km NW of Petersville, Alaska\n",
      "Magnitud: 1.5\n",
      "Más información: https://earthquake.usgs.gov/earthquakes/eventpage/ak024c838vmw\n",
      "----------------------------------------\n",
      "Fecha y hora: 2024-09-22 10:54:00\n",
      "Lugar: 36 km NNE of Whittier, Alaska\n",
      "Magnitud: 0.9\n",
      "Más información: https://earthquake.usgs.gov/earthquakes/eventpage/ak024c83884w\n",
      "----------------------------------------\n",
      "Fecha y hora: 2024-09-22 10:43:02\n",
      "Lugar: 4 km SE of Cole, Oklahoma\n",
      "Magnitud: 1.65\n",
      "Más información: https://earthquake.usgs.gov/earthquakes/eventpage/ok2024sqzn\n",
      "----------------------------------------\n",
      "Fecha y hora: 2024-09-22 10:42:42\n",
      "Lugar: 11 km SSE of Guánica, Puerto Rico\n",
      "Magnitud: 2.79\n",
      "Más información: https://earthquake.usgs.gov/earthquakes/eventpage/pr71460763\n",
      "----------------------------------------\n",
      "Fecha y hora: 2024-09-22 10:40:18\n",
      "Lugar: 2 km N of The Geysers, CA\n",
      "Magnitud: 0.76\n",
      "Más información: https://earthquake.usgs.gov/earthquakes/eventpage/nc75065296\n",
      "----------------------------------------\n",
      "Fecha y hora: 2024-09-22 10:28:01\n",
      "Lugar: 8 km SSE of Maria Antonia, Puerto Rico\n",
      "Magnitud: 2.68\n",
      "Más información: https://earthquake.usgs.gov/earthquakes/eventpage/pr71460753\n",
      "----------------------------------------\n",
      "Fecha y hora: 2024-09-22 10:25:28\n",
      "Lugar: 6 km WSW of Volcano, Hawaii\n",
      "Magnitud: 1.97000003\n",
      "Más información: https://earthquake.usgs.gov/earthquakes/eventpage/hv74472907\n",
      "----------------------------------------\n",
      "Fecha y hora: 2024-09-22 10:16:06\n",
      "Lugar: 32 km ESE of Minto, Alaska\n",
      "Magnitud: 1.1\n",
      "Más información: https://earthquake.usgs.gov/earthquakes/eventpage/ak024c8303e3\n",
      "----------------------------------------\n",
      "Fecha y hora: 2024-09-22 10:04:03\n",
      "Lugar: 5 km WNW of El Segundo, CA\n",
      "Magnitud: 1.36\n",
      "Más información: https://earthquake.usgs.gov/earthquakes/eventpage/ci40741839\n",
      "----------------------------------------\n",
      "Fecha y hora: 2024-09-22 09:59:07\n",
      "Lugar: 8 km SSE of Maria Antonia, Puerto Rico\n",
      "Magnitud: 2.7\n",
      "Más información: https://earthquake.usgs.gov/earthquakes/eventpage/pr71460743\n",
      "----------------------------------------\n",
      "Fecha y hora: 2024-09-22 09:55:27\n",
      "Lugar: 4 km SW of Indios, Puerto Rico\n",
      "Magnitud: 2.69\n",
      "Más información: https://earthquake.usgs.gov/earthquakes/eventpage/pr71460733\n",
      "----------------------------------------\n",
      "Fecha y hora: 2024-09-22 09:51:50\n",
      "Lugar: 10 km SSE of Guánica, Puerto Rico\n",
      "Magnitud: 2.94\n",
      "Más información: https://earthquake.usgs.gov/earthquakes/eventpage/pr71460718\n",
      "----------------------------------------\n",
      "Fecha y hora: 2024-09-22 09:50:53\n",
      "Lugar: 18 km S of Point Possession, Alaska\n",
      "Magnitud: 1.4\n",
      "Más información: https://earthquake.usgs.gov/earthquakes/eventpage/ak024c82m1ph\n",
      "----------------------------------------\n",
      "Fecha y hora: 2024-09-22 09:50:25\n",
      "Lugar: 7 km N of Karyes, Greece\n",
      "Magnitud: 4.8\n",
      "Más información: https://earthquake.usgs.gov/earthquakes/eventpage/us6000ntn7\n",
      "----------------------------------------\n",
      "Fecha y hora: 2024-09-22 09:48:29\n",
      "Lugar: 62 km SE of Denali National Park, Alaska\n",
      "Magnitud: 1.4\n",
      "Más información: https://earthquake.usgs.gov/earthquakes/eventpage/ak024c82lkex\n",
      "----------------------------------------\n",
      "Fecha y hora: 2024-09-22 09:44:13\n",
      "Lugar: 9 km SSE of Maria Antonia, Puerto Rico\n",
      "Magnitud: 3.83\n",
      "Más información: https://earthquake.usgs.gov/earthquakes/eventpage/pr2024266000\n",
      "----------------------------------------\n",
      "Fecha y hora: 2024-09-22 09:35:15\n",
      "Lugar: 60 km S of Whites City, New Mexico\n",
      "Magnitud: 2\n",
      "Más información: https://earthquake.usgs.gov/earthquakes/eventpage/tx2024sqxh\n",
      "----------------------------------------\n",
      "Fecha y hora: 2024-09-22 09:31:37\n",
      "Lugar: 67 km ENE of Tonopah, Nevada\n",
      "Magnitud: 1.1\n",
      "Más información: https://earthquake.usgs.gov/earthquakes/eventpage/nn00884993\n",
      "----------------------------------------\n",
      "Fecha y hora: 2024-09-22 09:27:38\n",
      "Lugar: 56 km N of Chase, Alaska\n",
      "Magnitud: 1.8\n",
      "Más información: https://earthquake.usgs.gov/earthquakes/eventpage/ak024c82h34w\n",
      "----------------------------------------\n",
      "Fecha y hora: 2024-09-22 09:24:29\n",
      "Lugar: 23 km ENE of Little Lake, CA\n",
      "Magnitud: 1.45\n",
      "Más información: https://earthquake.usgs.gov/earthquakes/eventpage/ci40741831\n",
      "----------------------------------------\n",
      "Fecha y hora: 2024-09-22 09:14:38\n",
      "Lugar: 5 km WNW of The Geysers, CA\n",
      "Magnitud: 1.44\n",
      "Más información: https://earthquake.usgs.gov/earthquakes/eventpage/nc75065286\n",
      "----------------------------------------\n",
      "Fecha y hora: 2024-09-22 09:11:21\n",
      "Lugar: 23 km NW of Santa Cruz Is. (NW end), CA\n",
      "Magnitud: 2.06\n",
      "Más información: https://earthquake.usgs.gov/earthquakes/eventpage/ci40741823\n",
      "----------------------------------------\n",
      "Fecha y hora: 2024-09-22 09:10:04\n",
      "Lugar: 20 km SW of Silver Peak, Nevada\n",
      "Magnitud: 1.5\n",
      "Más información: https://earthquake.usgs.gov/earthquakes/eventpage/nn00884989\n",
      "----------------------------------------\n",
      "Fecha y hora: 2024-09-22 08:49:20\n",
      "Lugar: 7 km NE of Aguanga, CA\n",
      "Magnitud: 0.3\n",
      "Más información: https://earthquake.usgs.gov/earthquakes/eventpage/ci40741807\n",
      "----------------------------------------\n",
      "Fecha y hora: 2024-09-22 08:49:04\n",
      "Lugar: 24 km SW of Ocotillo Wells, CA\n",
      "Magnitud: 0.64\n",
      "Más información: https://earthquake.usgs.gov/earthquakes/eventpage/ci40741799\n",
      "----------------------------------------\n",
      "Fecha y hora: 2024-09-22 08:48:13\n",
      "Lugar: 57 km S of Whites City, New Mexico\n",
      "Magnitud: 3.4\n",
      "Más información: https://earthquake.usgs.gov/earthquakes/eventpage/tx2024sqvt\n",
      "----------------------------------------\n",
      "Fecha y hora: 2024-09-22 08:47:25\n",
      "Lugar: 11 km N of Karyes, Greece\n",
      "Magnitud: 4.3\n",
      "Más información: https://earthquake.usgs.gov/earthquakes/eventpage/us6000ntmy\n",
      "----------------------------------------\n",
      "Fecha y hora: 2024-09-22 08:43:08\n",
      "Lugar: West Chile Rise\n",
      "Magnitud: 5.3\n",
      "Más información: https://earthquake.usgs.gov/earthquakes/eventpage/us6000ntmw\n",
      "----------------------------------------\n",
      "Fecha y hora: 2024-09-22 08:42:18\n",
      "Lugar: 11 km ESE of Healy, Alaska\n",
      "Magnitud: 0.7\n",
      "Más información: https://earthquake.usgs.gov/earthquakes/eventpage/ak024c81ysls\n",
      "----------------------------------------\n",
      "Fecha y hora: 2024-09-22 08:38:03\n",
      "Lugar: 25 km SE of Mina, Nevada\n",
      "Magnitud: 1.7\n",
      "Más información: https://earthquake.usgs.gov/earthquakes/eventpage/nn00884986\n",
      "----------------------------------------\n",
      "Fecha y hora: 2024-09-22 08:25:28\n",
      "Lugar: 10 km SSE of Augusta, Montana\n",
      "Magnitud: 1.02\n",
      "Más información: https://earthquake.usgs.gov/earthquakes/eventpage/mb90062133\n",
      "----------------------------------------\n",
      "Fecha y hora: 2024-09-22 08:22:45\n",
      "Lugar: 113 km SE of Pondaguitan, Philippines\n",
      "Magnitud: 4.4\n",
      "Más información: https://earthquake.usgs.gov/earthquakes/eventpage/us6000ntmt\n",
      "----------------------------------------\n",
      "Fecha y hora: 2024-09-22 08:20:05\n",
      "Lugar: 26 km WSW of Anchor Point, Alaska\n",
      "Magnitud: 1.2\n",
      "Más información: https://earthquake.usgs.gov/earthquakes/eventpage/ak024c81u2ym\n",
      "----------------------------------------\n",
      "Fecha y hora: 2024-09-22 08:06:31\n",
      "Lugar: 21 km N of Paxson, Alaska\n",
      "Magnitud: 1.4\n",
      "Más información: https://earthquake.usgs.gov/earthquakes/eventpage/ak024c81r4xz\n",
      "----------------------------------------\n",
      "Fecha y hora: 2024-09-22 08:00:46\n",
      "Lugar: 10 km SW of Salton City, CA\n",
      "Magnitud: 0.61\n",
      "Más información: https://earthquake.usgs.gov/earthquakes/eventpage/ci40741775\n",
      "----------------------------------------\n",
      "Fecha y hora: 2024-09-22 07:59:14\n",
      "Lugar: 8 km WNW of Cobb, CA\n",
      "Magnitud: 0.28\n",
      "Más información: https://earthquake.usgs.gov/earthquakes/eventpage/nc75065276\n",
      "----------------------------------------\n",
      "Fecha y hora: 2024-09-22 07:44:39\n",
      "Lugar: 5 km N of Malibu, CA\n",
      "Magnitud: 1.28\n",
      "Más información: https://earthquake.usgs.gov/earthquakes/eventpage/ci40741759\n",
      "----------------------------------------\n",
      "Fecha y hora: 2024-09-22 07:30:42\n",
      "Lugar: 27 km ENE of Minto, Alaska\n",
      "Magnitud: 1.1\n",
      "Más información: https://earthquake.usgs.gov/earthquakes/eventpage/ak024c81avdr\n",
      "----------------------------------------\n",
      "Fecha y hora: 2024-09-22 07:21:35\n",
      "Lugar: 5 km NW of Jordán, Colombia\n",
      "Magnitud: 4.3\n",
      "Más información: https://earthquake.usgs.gov/earthquakes/eventpage/us6000ntmm\n",
      "----------------------------------------\n",
      "Fecha y hora: 2024-09-22 07:16:08\n",
      "Lugar: 8 km N of Anza, CA\n",
      "Magnitud: 0.26\n",
      "Más información: https://earthquake.usgs.gov/earthquakes/eventpage/ci40741751\n",
      "----------------------------------------\n",
      "Fecha y hora: 2024-09-22 07:07:44\n",
      "Lugar: 13 km SSW of Ocotillo Wells, CA\n",
      "Magnitud: 0.81\n",
      "Más información: https://earthquake.usgs.gov/earthquakes/eventpage/ci40741743\n",
      "----------------------------------------\n",
      "Fecha y hora: 2024-09-22 07:03:10\n",
      "Lugar: 15 km N of Borrego Springs, CA\n",
      "Magnitud: 0.49\n",
      "Más información: https://earthquake.usgs.gov/earthquakes/eventpage/ci40741735\n",
      "----------------------------------------\n",
      "Fecha y hora: 2024-09-22 07:02:08\n",
      "Lugar: 64 km SSE of Pope-Vannoy Landing, Alaska\n",
      "Magnitud: 1.8\n",
      "Más información: https://earthquake.usgs.gov/earthquakes/eventpage/ak024c814sn6\n",
      "----------------------------------------\n",
      "Fecha y hora: 2024-09-22 06:58:05\n",
      "Lugar: 7 km SSE of Idyllwild, CA\n",
      "Magnitud: 0.21\n",
      "Más información: https://earthquake.usgs.gov/earthquakes/eventpage/ci40741727\n",
      "----------------------------------------\n",
      "Fecha y hora: 2024-09-22 06:52:49\n",
      "Lugar: 12 km SE of Lopez Point, CA\n",
      "Magnitud: 1.03\n",
      "Más información: https://earthquake.usgs.gov/earthquakes/eventpage/nc75065271\n",
      "----------------------------------------\n",
      "Fecha y hora: 2024-09-22 06:48:25\n",
      "Lugar: 12 km SE of Desert Aire, Washington\n",
      "Magnitud: 0.47000000000000003\n",
      "Más información: https://earthquake.usgs.gov/earthquakes/eventpage/uw62048736\n",
      "----------------------------------------\n",
      "Fecha y hora: 2024-09-22 06:48:10\n",
      "Lugar: 8 km SSE of Guánica, Puerto Rico\n",
      "Magnitud: 3.37\n",
      "Más información: https://earthquake.usgs.gov/earthquakes/eventpage/pr71460693\n",
      "----------------------------------------\n",
      "Fecha y hora: 2024-09-22 06:36:43\n",
      "Lugar: 24 km SW of Ocotillo Wells, CA\n",
      "Magnitud: 1\n",
      "Más información: https://earthquake.usgs.gov/earthquakes/eventpage/ci40741719\n",
      "----------------------------------------\n",
      "Fecha y hora: 2024-09-22 06:36:13\n",
      "Lugar: 15 km W of Niland, CA\n",
      "Magnitud: 1.07\n",
      "Más información: https://earthquake.usgs.gov/earthquakes/eventpage/ci40741711\n",
      "----------------------------------------\n",
      "Fecha y hora: 2024-09-22 06:21:39\n",
      "Lugar: 26 km SSW of Tatitlek, Alaska\n",
      "Magnitud: 1.3\n",
      "Más información: https://earthquake.usgs.gov/earthquakes/eventpage/ak024c80ni30\n",
      "----------------------------------------\n",
      "Fecha y hora: 2024-09-22 06:21:15\n",
      "Lugar: 3 km W of Washington, Oklahoma\n",
      "Magnitud: 1.52\n",
      "Más información: https://earthquake.usgs.gov/earthquakes/eventpage/ok2024sqqx\n",
      "----------------------------------------\n",
      "Fecha y hora: 2024-09-22 06:16:40\n",
      "Lugar: 128 km SSE of Taliwang, Indonesia\n",
      "Magnitud: 4.2\n",
      "Más información: https://earthquake.usgs.gov/earthquakes/eventpage/us6000ntmd\n",
      "----------------------------------------\n",
      "Fecha y hora: 2024-09-22 06:11:52\n",
      "Lugar: 4 km N of Yucca Valley, CA\n",
      "Magnitud: 1.85\n",
      "Más información: https://earthquake.usgs.gov/earthquakes/eventpage/ci40741695\n",
      "----------------------------------------\n",
      "Fecha y hora: 2024-09-22 06:11:38\n",
      "Lugar: 14 km NE of Walker Lake, Nevada\n",
      "Magnitud: 1.3\n",
      "Más información: https://earthquake.usgs.gov/earthquakes/eventpage/nn00884983\n",
      "----------------------------------------\n",
      "Fecha y hora: 2024-09-22 06:10:51\n",
      "Lugar: 49 km NW of Tatitlek, Alaska\n",
      "Magnitud: 0.5\n",
      "Más información: https://earthquake.usgs.gov/earthquakes/eventpage/ak024c80l6hg\n",
      "----------------------------------------\n",
      "Fecha y hora: 2024-09-22 06:08:04\n",
      "Lugar: 125 km S of McCarthy, Alaska\n",
      "Magnitud: 0.9\n",
      "Más información: https://earthquake.usgs.gov/earthquakes/eventpage/ak024c80kn3e\n",
      "----------------------------------------\n",
      "Fecha y hora: 2024-09-22 06:05:50\n",
      "Lugar: 15 km NE of Walker Lake, Nevada\n",
      "Magnitud: 1.4\n",
      "Más información: https://earthquake.usgs.gov/earthquakes/eventpage/nn00884982\n",
      "----------------------------------------\n",
      "Fecha y hora: 2024-09-22 05:58:30\n",
      "Lugar: 12 km NE of Walker Lake, Nevada\n",
      "Magnitud: 1.5\n",
      "Más información: https://earthquake.usgs.gov/earthquakes/eventpage/nn00884981\n",
      "----------------------------------------\n",
      "Fecha y hora: 2024-09-22 05:56:42\n",
      "Lugar: 16 km N of Walker Lake, Nevada\n",
      "Magnitud: 2.4\n",
      "Más información: https://earthquake.usgs.gov/earthquakes/eventpage/nn00884978\n",
      "----------------------------------------\n",
      "Fecha y hora: 2024-09-22 05:55:14\n",
      "Lugar: 10 km E of Pāhala, Hawaii\n",
      "Magnitud: 1.76999998\n",
      "Más información: https://earthquake.usgs.gov/earthquakes/eventpage/hv74472702\n",
      "----------------------------------------\n",
      "Fecha y hora: 2024-09-22 05:45:59\n",
      "Lugar: 10 km WNW of Cobb, CA\n",
      "Magnitud: 1.04\n",
      "Más información: https://earthquake.usgs.gov/earthquakes/eventpage/nc75065241\n",
      "----------------------------------------\n",
      "Fecha y hora: 2024-09-22 05:45:46\n",
      "Lugar: 27 km SSW of Ocotillo Wells, CA\n",
      "Magnitud: 0.66\n",
      "Más información: https://earthquake.usgs.gov/earthquakes/eventpage/ci40741687\n",
      "----------------------------------------\n",
      "Fecha y hora: 2024-09-22 05:40:16\n",
      "Lugar: 1 km NNE of Hatillo, Puerto Rico\n",
      "Magnitud: 2.96\n",
      "Más información: https://earthquake.usgs.gov/earthquakes/eventpage/pr71460688\n",
      "----------------------------------------\n",
      "Fecha y hora: 2024-09-22 05:30:09\n",
      "Lugar: 7 km WNW of Cobb, CA\n",
      "Magnitud: 1.06\n",
      "Más información: https://earthquake.usgs.gov/earthquakes/eventpage/nc75065236\n",
      "----------------------------------------\n",
      "Fecha y hora: 2024-09-22 05:28:06\n",
      "Lugar: 2 km NW of The Geysers, CA\n",
      "Magnitud: 1.42\n",
      "Más información: https://earthquake.usgs.gov/earthquakes/eventpage/nc75065231\n",
      "----------------------------------------\n",
      "Fecha y hora: 2024-09-22 05:23:16\n",
      "Lugar: 25 km SW of Ocotillo Wells, CA\n",
      "Magnitud: 0.82\n",
      "Más información: https://earthquake.usgs.gov/earthquakes/eventpage/ci40741663\n",
      "----------------------------------------\n",
      "Fecha y hora: 2024-09-22 05:19:25\n",
      "Lugar: 4 km W of Bear Creek, Alaska\n",
      "Magnitud: 1.6\n",
      "Más información: https://earthquake.usgs.gov/earthquakes/eventpage/ak024c801n5z\n",
      "----------------------------------------\n",
      "Fecha y hora: 2024-09-22 05:06:46\n",
      "Lugar: 8 km WNW of Cobb, CA\n",
      "Magnitud: 0.72\n",
      "Más información: https://earthquake.usgs.gov/earthquakes/eventpage/nc75065226\n",
      "----------------------------------------\n",
      "Fecha y hora: 2024-09-22 04:56:12\n",
      "Lugar: 14 km NNE of Brooktrails, CA\n",
      "Magnitud: 1.55\n",
      "Más información: https://earthquake.usgs.gov/earthquakes/eventpage/nc75065211\n",
      "----------------------------------------\n",
      "Fecha y hora: 2024-09-22 04:34:01\n",
      "Lugar: 4 km NNW of Meadow Lakes, Alaska\n",
      "Magnitud: 1.3\n",
      "Más información: https://earthquake.usgs.gov/earthquakes/eventpage/ak024c7zjc8h\n",
      "----------------------------------------\n",
      "Fecha y hora: 2024-09-22 04:33:55\n",
      "Lugar: 61 km S of Whites City, New Mexico\n",
      "Magnitud: 1.6\n",
      "Más información: https://earthquake.usgs.gov/earthquakes/eventpage/tx2024sqnk\n",
      "----------------------------------------\n",
      "Fecha y hora: 2024-09-22 04:26:53\n",
      "Lugar: 44 km NNW of Valdez, Alaska\n",
      "Magnitud: 1\n",
      "Más información: https://earthquake.usgs.gov/earthquakes/eventpage/ak024c7zhqe1\n",
      "----------------------------------------\n",
      "Fecha y hora: 2024-09-22 04:25:37\n",
      "Lugar: 38 km W of Tyonek, Alaska\n",
      "Magnitud: 0.7\n",
      "Más información: https://earthquake.usgs.gov/earthquakes/eventpage/ak024c7zhhj0\n",
      "----------------------------------------\n",
      "Fecha y hora: 2024-09-22 04:18:11\n",
      "Lugar: 2 km ENE of El Cerrito, CA\n",
      "Magnitud: 1.28\n",
      "Más información: https://earthquake.usgs.gov/earthquakes/eventpage/nc75065201\n",
      "----------------------------------------\n",
      "Fecha y hora: 2024-09-22 03:56:00\n",
      "Lugar: 8 km WNW of Cobb, CA\n",
      "Magnitud: 0.96\n",
      "Más información: https://earthquake.usgs.gov/earthquakes/eventpage/nc75065191\n",
      "----------------------------------------\n",
      "Fecha y hora: 2024-09-22 03:52:54\n",
      "Lugar: 41 km NNW of Chenega, Alaska\n",
      "Magnitud: 1.5\n",
      "Más información: https://earthquake.usgs.gov/earthquakes/eventpage/ak024c7z1vn6\n",
      "----------------------------------------\n",
      "Fecha y hora: 2024-09-22 03:49:15\n",
      "Lugar: 24 km SW of Ocotillo Wells, CA\n",
      "Magnitud: 0.83\n",
      "Más información: https://earthquake.usgs.gov/earthquakes/eventpage/ci40741639\n",
      "----------------------------------------\n",
      "Fecha y hora: 2024-09-22 03:42:08\n",
      "Lugar: 8 km WNW of Cobb, CA\n",
      "Magnitud: 1.82\n",
      "Más información: https://earthquake.usgs.gov/earthquakes/eventpage/nc75065186\n",
      "----------------------------------------\n",
      "Fecha y hora: 2024-09-22 03:37:51\n",
      "Lugar: 14 km NNE of Ashford, Washington\n",
      "Magnitud: 0.78\n",
      "Más información: https://earthquake.usgs.gov/earthquakes/eventpage/uw62048701\n",
      "----------------------------------------\n",
      "Fecha y hora: 2024-09-22 03:37:04\n",
      "Lugar: 169 km W of Copiapó, Chile\n",
      "Magnitud: 4.4\n",
      "Más información: https://earthquake.usgs.gov/earthquakes/eventpage/us6000ntlu\n",
      "----------------------------------------\n",
      "Fecha y hora: 2024-09-22 03:26:34\n",
      "Lugar: 16 km NE of Pāhala, Hawaii\n",
      "Magnitud: 1.82000005\n",
      "Más información: https://earthquake.usgs.gov/earthquakes/eventpage/hv74472582\n",
      "----------------------------------------\n",
      "Fecha y hora: 2024-09-22 03:17:05\n",
      "Lugar: 6 km WNW of Cobb, CA\n",
      "Magnitud: 0.77\n",
      "Más información: https://earthquake.usgs.gov/earthquakes/eventpage/nc75065181\n",
      "----------------------------------------\n",
      "Fecha y hora: 2024-09-22 03:16:43\n",
      "Lugar: 83 km WSW of Pole Ojea, Puerto Rico\n",
      "Magnitud: 3.39\n",
      "Más información: https://earthquake.usgs.gov/earthquakes/eventpage/pr71460683\n",
      "----------------------------------------\n",
      "Fecha y hora: 2024-09-22 03:06:22\n",
      "Lugar: 12 km ESE of Le Vauclin, Martinique\n",
      "Magnitud: 4.4\n",
      "Más información: https://earthquake.usgs.gov/earthquakes/eventpage/us6000ntlr\n",
      "----------------------------------------\n",
      "Fecha y hora: 2024-09-22 02:58:59\n",
      "Lugar: 3 km SE of Tyonek, Alaska\n",
      "Magnitud: 1.3\n",
      "Más información: https://earthquake.usgs.gov/earthquakes/eventpage/ak024c7yhqnz\n",
      "----------------------------------------\n",
      "Fecha y hora: 2024-09-22 02:58:22\n",
      "Lugar: 3 km S of Salcha, Alaska\n",
      "Magnitud: 1.2\n",
      "Más información: https://earthquake.usgs.gov/earthquakes/eventpage/ak024c7yhntf\n",
      "----------------------------------------\n",
      "Fecha y hora: 2024-09-22 02:56:35\n",
      "Lugar: 20 km WNW of Stanley, Idaho\n",
      "Magnitud: 2.6\n",
      "Más información: https://earthquake.usgs.gov/earthquakes/eventpage/us6000ntll\n",
      "----------------------------------------\n",
      "Fecha y hora: 2024-09-22 02:55:39\n",
      "Lugar: 10 km WNW of Cobb, CA\n",
      "Magnitud: 0.19\n",
      "Más información: https://earthquake.usgs.gov/earthquakes/eventpage/nc75065161\n",
      "----------------------------------------\n",
      "Fecha y hora: 2024-09-22 02:55:23\n",
      "Lugar: 10 km WNW of Cobb, CA\n",
      "Magnitud: 0.94\n",
      "Más información: https://earthquake.usgs.gov/earthquakes/eventpage/nc75065156\n",
      "----------------------------------------\n",
      "Fecha y hora: 2024-09-22 02:54:04\n",
      "Lugar: 145 km W of Buala, Solomon Islands\n",
      "Magnitud: 4.3\n",
      "Más información: https://earthquake.usgs.gov/earthquakes/eventpage/us6000ntln\n",
      "----------------------------------------\n",
      "Fecha y hora: 2024-09-22 02:51:20\n",
      "Lugar: 10 km WNW of Cobb, CA\n",
      "Magnitud: 0.72\n",
      "Más información: https://earthquake.usgs.gov/earthquakes/eventpage/nc75065136\n",
      "----------------------------------------\n",
      "Fecha y hora: 2024-09-22 02:51:07\n",
      "Lugar: 10 km WNW of Cobb, CA\n",
      "Magnitud: 1.43\n",
      "Más información: https://earthquake.usgs.gov/earthquakes/eventpage/nc75065131\n",
      "----------------------------------------\n",
      "Fecha y hora: 2024-09-22 02:50:58\n",
      "Lugar: 10 km WNW of Cobb, CA\n",
      "Magnitud: 1.22\n",
      "Más información: https://earthquake.usgs.gov/earthquakes/eventpage/nc75065126\n",
      "----------------------------------------\n",
      "Fecha y hora: 2024-09-22 02:50:52\n",
      "Lugar: 10 km NNW of The Geysers, CA\n",
      "Magnitud: 0.22\n",
      "Más información: https://earthquake.usgs.gov/earthquakes/eventpage/nc75065146\n",
      "----------------------------------------\n",
      "Fecha y hora: 2024-09-22 02:50:26\n",
      "Lugar: 10 km WNW of Cobb, CA\n",
      "Magnitud: 1.04\n",
      "Más información: https://earthquake.usgs.gov/earthquakes/eventpage/nc75065121\n",
      "----------------------------------------\n",
      "Fecha y hora: 2024-09-22 02:49:33\n",
      "Lugar: 10 km WNW of Cobb, CA\n",
      "Magnitud: 0.72\n",
      "Más información: https://earthquake.usgs.gov/earthquakes/eventpage/nc75065116\n",
      "----------------------------------------\n",
      "Fecha y hora: 2024-09-22 02:48:57\n",
      "Lugar: 9 km WNW of Cobb, CA\n",
      "Magnitud: 2.06\n",
      "Más información: https://earthquake.usgs.gov/earthquakes/eventpage/nc75065111\n",
      "----------------------------------------\n",
      "Fecha y hora: 2024-09-22 02:48:54\n",
      "Lugar: 10 km NNW of The Geysers, CA\n",
      "Magnitud: 2.43\n",
      "Más información: https://earthquake.usgs.gov/earthquakes/eventpage/nc75065106\n",
      "----------------------------------------\n",
      "Fecha y hora: 2024-09-22 02:48:44\n",
      "Lugar: 4 km SW of Aguanga, CA\n",
      "Magnitud: 0.4\n",
      "Más información: https://earthquake.usgs.gov/earthquakes/eventpage/ci40741623\n",
      "----------------------------------------\n",
      "Fecha y hora: 2024-09-22 02:48:36\n",
      "Lugar: 10 km WNW of Cobb, CA\n",
      "Magnitud: 0.37\n",
      "Más información: https://earthquake.usgs.gov/earthquakes/eventpage/nc75065101\n",
      "----------------------------------------\n",
      "Fecha y hora: 2024-09-22 02:47:19\n",
      "Lugar: 6 km SW of Volcano, Hawaii\n",
      "Magnitud: 2.1500001\n",
      "Más información: https://earthquake.usgs.gov/earthquakes/eventpage/hv74472542\n",
      "----------------------------------------\n",
      "Fecha y hora: 2024-09-22 02:46:22\n",
      "Lugar: 9 km SSE of Maria Antonia, Puerto Rico\n",
      "Magnitud: 3.13\n",
      "Más información: https://earthquake.usgs.gov/earthquakes/eventpage/pr71460663\n",
      "----------------------------------------\n",
      "Fecha y hora: 2024-09-22 02:43:41\n",
      "Lugar: 24 km SW of Ocotillo Wells, CA\n",
      "Magnitud: 1.05\n",
      "Más información: https://earthquake.usgs.gov/earthquakes/eventpage/ci40741615\n",
      "----------------------------------------\n",
      "Fecha y hora: 2024-09-22 02:41:41\n",
      "Lugar: 10 km WNW of Cobb, CA\n",
      "Magnitud: 1.04\n",
      "Más información: https://earthquake.usgs.gov/earthquakes/eventpage/nc75065096\n",
      "----------------------------------------\n",
      "Fecha y hora: 2024-09-22 02:34:06\n",
      "Lugar: 91 km SSE of Cantwell, Alaska\n",
      "Magnitud: 1\n",
      "Más información: https://earthquake.usgs.gov/earthquakes/eventpage/ak024c7ychec\n",
      "----------------------------------------\n",
      "Fecha y hora: 2024-09-22 02:33:28\n",
      "Lugar: 0 km E of Vincent, CA\n",
      "Magnitud: 1.18\n",
      "Más información: https://earthquake.usgs.gov/earthquakes/eventpage/ci40741607\n",
      "----------------------------------------\n",
      "Fecha y hora: 2024-09-22 02:29:09\n",
      "Lugar: 21 km ESE of Kelly, Wyoming\n",
      "Magnitud: 1.8\n",
      "Más información: https://earthquake.usgs.gov/earthquakes/eventpage/mb90062108\n",
      "----------------------------------------\n",
      "Fecha y hora: 2024-09-22 02:26:07\n",
      "Lugar: 24 km SW of Ocotillo Wells, CA\n",
      "Magnitud: 0.84\n",
      "Más información: https://earthquake.usgs.gov/earthquakes/eventpage/ci40741599\n",
      "----------------------------------------\n",
      "Fecha y hora: 2024-09-22 02:25:56\n",
      "Lugar: 5 km WSW of Laytonville, CA\n",
      "Magnitud: 1.47\n",
      "Más información: https://earthquake.usgs.gov/earthquakes/eventpage/nc75065086\n",
      "----------------------------------------\n",
      "Fecha y hora: 2024-09-22 02:25:47\n",
      "Lugar: 34 km SSW of La Libertad, El Salvador\n",
      "Magnitud: 5.1\n",
      "Más información: https://earthquake.usgs.gov/earthquakes/eventpage/us6000ntl2\n",
      "----------------------------------------\n",
      "Fecha y hora: 2024-09-22 02:24:12\n",
      "Lugar: 15 km NE of Ridgecrest, CA\n",
      "Magnitud: 0.75\n",
      "Más información: https://earthquake.usgs.gov/earthquakes/eventpage/ci40741591\n",
      "----------------------------------------\n",
      "Fecha y hora: 2024-09-22 02:20:23\n",
      "Lugar: 285 km WNW of Houma, Tonga\n",
      "Magnitud: 4.2\n",
      "Más información: https://earthquake.usgs.gov/earthquakes/eventpage/us6000ntl3\n",
      "----------------------------------------\n",
      "Fecha y hora: 2024-09-22 02:17:02\n",
      "Lugar: 36 km N of Valdez, Alaska\n",
      "Magnitud: 1.2\n",
      "Más información: https://earthquake.usgs.gov/earthquakes/eventpage/ak024c7y8txc\n",
      "----------------------------------------\n",
      "Fecha y hora: 2024-09-22 02:10:01\n",
      "Lugar: 53 km NW of Ninilchik, Alaska\n",
      "Magnitud: 1.2\n",
      "Más información: https://earthquake.usgs.gov/earthquakes/eventpage/ak024c7y7bv8\n",
      "----------------------------------------\n",
      "Fecha y hora: 2024-09-22 02:04:59\n",
      "Lugar: 21 km W of Petrolia, CA\n",
      "Magnitud: 2.09\n",
      "Más información: https://earthquake.usgs.gov/earthquakes/eventpage/nc75065081\n",
      "----------------------------------------\n",
      "Fecha y hora: 2024-09-22 02:00:38\n",
      "Lugar: 40 km NNW of Chenega, Alaska\n",
      "Magnitud: 1.8\n",
      "Más información: https://earthquake.usgs.gov/earthquakes/eventpage/ak024c7y59jr\n",
      "----------------------------------------\n",
      "Fecha y hora: 2024-09-22 01:59:28\n",
      "Lugar: 9 km WNW of Cobb, CA\n",
      "Magnitud: 0.67\n",
      "Más información: https://earthquake.usgs.gov/earthquakes/eventpage/nc75065076\n",
      "----------------------------------------\n",
      "Fecha y hora: 2024-09-22 01:57:24\n",
      "Lugar: 55 km NNW of Petersville, Alaska\n",
      "Magnitud: 1.8\n",
      "Más información: https://earthquake.usgs.gov/earthquakes/eventpage/ak024c7xw0n2\n",
      "----------------------------------------\n",
      "Fecha y hora: 2024-09-22 01:55:49\n",
      "Lugar: 8 km NNW of The Geysers, CA\n",
      "Magnitud: 0.7\n",
      "Más información: https://earthquake.usgs.gov/earthquakes/eventpage/nc75065071\n",
      "----------------------------------------\n",
      "Fecha y hora: 2024-09-22 01:53:59\n",
      "Lugar: 83 km W of San Antonio de los Cobres, Argentina\n",
      "Magnitud: 4.4\n",
      "Más información: https://earthquake.usgs.gov/earthquakes/eventpage/us6000ntkx\n",
      "----------------------------------------\n",
      "Fecha y hora: 2024-09-22 01:51:29\n",
      "Lugar: 12 km WSW of Searles Valley, CA\n",
      "Magnitud: 0.8\n",
      "Más información: https://earthquake.usgs.gov/earthquakes/eventpage/ci40741583\n",
      "----------------------------------------\n",
      "Fecha y hora: 2024-09-22 01:50:43\n",
      "Lugar: 61 km SE of Kokhanok, Alaska\n",
      "Magnitud: 1.8\n",
      "Más información: https://earthquake.usgs.gov/earthquakes/eventpage/ak024c7xuk53\n",
      "----------------------------------------\n",
      "Fecha y hora: 2024-09-22 01:45:47\n",
      "Lugar: 60 km S of Whites City, New Mexico\n",
      "Magnitud: 2.1\n",
      "Más información: https://earthquake.usgs.gov/earthquakes/eventpage/tx2024sqhv\n",
      "----------------------------------------\n",
      "Fecha y hora: 2024-09-22 01:33:22\n",
      "Lugar: 10 km NW of The Geysers, CA\n",
      "Magnitud: 1.36\n",
      "Más información: https://earthquake.usgs.gov/earthquakes/eventpage/nc75065061\n",
      "----------------------------------------\n",
      "Fecha y hora: 2024-09-22 01:32:39\n",
      "Lugar: 5 km SE of Cholame, CA\n",
      "Magnitud: 1.16\n",
      "Más información: https://earthquake.usgs.gov/earthquakes/eventpage/nc75065056\n",
      "----------------------------------------\n",
      "Fecha y hora: 2024-09-22 01:32:23\n",
      "Lugar: 91 km NNW of Villa General Roca, Argentina\n",
      "Magnitud: 4.1\n",
      "Más información: https://earthquake.usgs.gov/earthquakes/eventpage/us6000ntkt\n",
      "----------------------------------------\n",
      "Fecha y hora: 2024-09-22 01:26:49\n",
      "Lugar: 10 km WNW of Cobb, CA\n",
      "Magnitud: 0.9\n",
      "Más información: https://earthquake.usgs.gov/earthquakes/eventpage/nc75065051\n",
      "----------------------------------------\n",
      "Fecha y hora: 2024-09-22 01:26:39\n",
      "Lugar: 10 km WNW of Cobb, CA\n",
      "Magnitud: 1.04\n",
      "Más información: https://earthquake.usgs.gov/earthquakes/eventpage/nc75065046\n",
      "----------------------------------------\n",
      "Fecha y hora: 2024-09-22 01:15:34\n",
      "Lugar: 6 km NNE of Millville, CA\n",
      "Magnitud: 1.57\n",
      "Más información: https://earthquake.usgs.gov/earthquakes/eventpage/nc75065026\n",
      "----------------------------------------\n",
      "Fecha y hora: 2024-09-22 01:12:08\n",
      "Lugar: 4 km SSE of Leilani Estates, Hawaii\n",
      "Magnitud: 1.78\n",
      "Más información: https://earthquake.usgs.gov/earthquakes/eventpage/hv74472492\n",
      "----------------------------------------\n",
      "Fecha y hora: 2024-09-22 01:10:21\n",
      "Lugar: 84 km NW of Karluk, Alaska\n",
      "Magnitud: -0.53\n",
      "Más información: https://earthquake.usgs.gov/earthquakes/eventpage/av93280893\n",
      "----------------------------------------\n",
      "Fecha y hora: 2024-09-22 01:09:41\n",
      "Lugar: 49 km SSW of Lime Village, Alaska\n",
      "Magnitud: 2.3\n",
      "Más información: https://earthquake.usgs.gov/earthquakes/eventpage/ak024c7xlrl8\n",
      "----------------------------------------\n",
      "Fecha y hora: 2024-09-22 00:55:58\n",
      "Lugar: 3 km NNW of The Geysers, CA\n",
      "Magnitud: 1.69\n",
      "Más información: https://earthquake.usgs.gov/earthquakes/eventpage/nc75065016\n",
      "----------------------------------------\n",
      "Fecha y hora: 2024-09-22 00:32:42\n",
      "Lugar: 8 km NNW of The Geysers, CA\n",
      "Magnitud: 0.27\n",
      "Más información: https://earthquake.usgs.gov/earthquakes/eventpage/nc75065001\n",
      "----------------------------------------\n",
      "Fecha y hora: 2024-09-22 00:27:01\n",
      "Lugar: 8 km NNW of The Geysers, CA\n",
      "Magnitud: 0.27\n",
      "Más información: https://earthquake.usgs.gov/earthquakes/eventpage/nc75064996\n",
      "----------------------------------------\n",
      "Fecha y hora: 2024-09-22 00:20:05\n",
      "Lugar: 62 km WNW of Happy Valley, Alaska\n",
      "Magnitud: 1.3\n",
      "Más información: https://earthquake.usgs.gov/earthquakes/eventpage/ak024c7x2m2o\n",
      "----------------------------------------\n",
      "Fecha y hora: 2024-09-22 00:13:51\n",
      "Lugar: 9 km S of Idyllwild, CA\n",
      "Magnitud: 0.48\n",
      "Más información: https://earthquake.usgs.gov/earthquakes/eventpage/ci40741519\n",
      "----------------------------------------\n",
      "Fecha y hora: 2024-09-22 00:06:53\n",
      "Lugar: 11 km WNW of Mountain View, Hawaii\n",
      "Magnitud: 2.19\n",
      "Más información: https://earthquake.usgs.gov/earthquakes/eventpage/hv74472432\n",
      "----------------------------------------\n"
     ]
    }
   ],
   "source": [
    "import requests\n",
    "import json\n",
    "from datetime import datetime, timezone\n",
    "\n",
    "# URL\n",
    "url = 'https://earthquake.usgs.gov/fdsnws/event/1/query'\n",
    "\n",
    "# Parámetros de la solicitud GET\n",
    "parametros = {\n",
    "    'format': 'geojson',\n",
    "    'starttime': '2009-01-01',  # Fecha inicial,\n",
    "    'endtime': '2009-12-31',    # Fecha final\n",
    "    'minlatitude': 8.0,         # Latitud mínima de Costa Rica\n",
    "    'maxlatitude': 11.5,        # Latitud máxima de Costa Rica\n",
    "    'minlongitude': -86.0,      # Longitud mínima de Costa Rica\n",
    "    'maxlongitude': -82.0,      # Longitud máxima de Costa Rica\n",
    "    'minmagnitude': 5           # Magnitud mínima del terremoto    \n",
    "}\n",
    "\n",
    "# Solicitud GET\n",
    "respuesta = requests.get(url, params=parametros)\n",
    "\n",
    "# Se verifica si la solicitud fue exitosa\n",
    "if respuesta.status_code == 200:\n",
    "    # La solicitud fue exitosa\n",
    "\n",
    "    # Se cargan en formato JSON los datos retornados en una lista\n",
    "    datos = respuesta.json()\n",
    "\n",
    "    # Se separan los datos sobre terremotos\n",
    "    terremotos = datos['features']  # Lista de terremotos\n",
    "\n",
    "    # Se recorren los datos de terremotos \n",
    "    # y se despliegan elementos de datos específicos sobre cada uno\n",
    "    for terremoto in terremotos:\n",
    "        propiedades = terremoto['properties']\n",
    "\n",
    "        # Conversión del tiempo a un formato legible\n",
    "        timestamp = propiedades['time'] / 1000  # Conversión de milisegundos a segundos\n",
    "        fecha_hora = datetime.fromtimestamp(timestamp, tz=timezone.utc).strftime('%Y-%m-%d %H:%M:%S')\n",
    "\n",
    "        print(f\"Fecha y hora: {fecha_hora}\")\n",
    "        print(f\"Lugar: {propiedades['place']}\")\n",
    "        print(f\"Magnitud: {propiedades['mag']}\")\n",
    "        print(f\"Más información: {propiedades['url']}\")\n",
    "        print(\"-\" * 40)\n",
    "\n",
    "    # Almacenamiento de datos en un archivo llamado \"terremotos.geojson\"\n",
    "    with open('terremotos.geojson', 'w', encoding='utf-8') as archivo:\n",
    "        json.dump(datos, archivo, indent=4, ensure_ascii=False)        \n",
    "else:\n",
    "    # Se produjo un error\n",
    "    print(f\"Error {respuesta.status_code}\")"
   ]
  },
  {
   "cell_type": "markdown",
   "metadata": {},
   "source": [
    "### OpenWeatherMap - Weather API"
   ]
  },
  {
   "cell_type": "markdown",
   "metadata": {},
   "source": [
    "[OpenWeatherMap](https://openweathermap.org/) es un servicio en línea que ofrece datos meteorológicos globales, incluyendo información actualizada del tiempo, pronósticos y datos históricos. [OpenWeatherMap - Weather API](https://openweathermap.org/api) es una API de tipo REST que brinda algunos servicios gratuitos como reporte del tiempo actual, pronósticos a corto plazo, mapas meteorológicos y alertas climáticas.\n",
    "\n",
    "De acuerdo con su documentación, el URL base de la versión más reciente de OpenWeatherMap - Weather API es:\n",
    "\n",
    "`https://api.openweathermap.org/data/2.5/`\n",
    "\n",
    "Algunos de sus *endpoints* son:\n",
    "\n",
    "`https://api.openweathermap.org/data/2.5/weather/`: reporte del tiempo para una ubicación específica  \n",
    "`https://api.openweathermap.org/data/2.5/forecast/`: pronóstico de cinco días con datos cada tres horas  \n",
    "`https://api.openweathermap.org/data/2.5/onecall/`: datos del tiempo actuales, históricos y pronósticos  \n",
    "`https://api.openweathermap.org/data/2.5/air_pollution/`: datos sobre calidad del aire\n",
    "\n",
    "Seguidamente, se muestran algunos ejemplos de uso de esta API. Para ejecutar los ejemplos, debe crear una cuenta de usuario y obtener una API KEY en [OpenWeatherMap](https://openweathermap.org/), la cual debe utilizar en el código fuente."
   ]
  },
  {
   "cell_type": "markdown",
   "metadata": {},
   "source": [
    "#### Tiempo"
   ]
  },
  {
   "cell_type": "markdown",
   "metadata": {},
   "source": [
    "Documentación \\\n",
    "[Current weather data - OpenWeatherMap](https://openweathermap.org/current)"
   ]
  },
  {
   "cell_type": "markdown",
   "metadata": {},
   "source": [
    "```python\n",
    "import requests\n",
    "import json\n",
    "\n",
    "# URL\n",
    "url = 'https://api.openweathermap.org/data/2.5/weather'\n",
    "\n",
    "# API KEY de OpenWeatherMap (debe sustituirse por una real)\n",
    "API_KEY = 'xxxxxxxxxxxxxxxxxxxxxxxxxxxxxxxx'\n",
    "\n",
    "# Parámetros de la solicitud GET\n",
    "parametros = {\n",
    "    'lat': 9.93737623,   # Latitud decimal de la Escuela de Geografía de la UCR\n",
    "    'lon': -84.04258876, # Longitud decimal de la Escuela de Geografía de la UCR\n",
    "    'appid': API_KEY,    # API_KEY de OpenWeatherMap\n",
    "    'units': 'metric',   # Unidades métricas\n",
    "    'lang': 'es'         # Idioma español\n",
    "}\n",
    "\n",
    "# Solicitud GET\n",
    "respuesta = requests.get(url, params=parametros)\n",
    "\n",
    "# Se verifica si la solicitud fue exitosa\n",
    "if respuesta.status_code == 200:\n",
    "    # La solicitud fue exitosa\n",
    "\n",
    "    # Se cargan en formato JSON los datos retornados\n",
    "    datos_tiempo = respuesta.json()\n",
    "\n",
    "    # Se extraen datos específicos\n",
    "    print(f\"Lugar: {datos_tiempo['name']}\")\n",
    "    print(f\"Tiempo: {datos_tiempo['weather'][0]['description']}\")\n",
    "    print(f\"Temperatura actual: {datos_tiempo['main']['temp']}°C\")\n",
    "    print(f\"Humedad: {datos_tiempo['main']['humidity']}%\")\n",
    "    print(f\"Velocidad del viento: {datos_tiempo['wind']['speed']} m/s\")\n",
    "\n",
    "    # Almacenamiento de datos en un archivo llamado \"tiempo.json\"\n",
    "    with open('tiempo.json', 'w', encoding='utf-8') as archivo:\n",
    "        json.dump(datos_tiempo, archivo, indent=4, ensure_ascii=False)\n",
    "else:\n",
    "    # Se produjo un error\n",
    "    print(f\"Error {respuesta.status_code}\")\n",
    "```"
   ]
  },
  {
   "cell_type": "markdown",
   "metadata": {},
   "source": [
    "Ejemplo de salida:"
   ]
  },
  {
   "cell_type": "markdown",
   "metadata": {},
   "source": [
    "```\n",
    "Lugar: El Prado\n",
    "Tiempo: muy nuboso\n",
    "Temperatura actual: 19.07°C\n",
    "Humedad: 94%\n",
    "Velocidad del viento: 1.54 m/s\n",
    "```"
   ]
  },
  {
   "cell_type": "markdown",
   "metadata": {},
   "source": [
    "#### Calidad del aire"
   ]
  },
  {
   "cell_type": "markdown",
   "metadata": {},
   "source": [
    "Documentación \\\n",
    "[Air Pollution - OpenWeatherMap](https://openweathermap.org/api/air-pollution)"
   ]
  },
  {
   "cell_type": "markdown",
   "metadata": {},
   "source": [
    "```python\n",
    "import requests\n",
    "import json\n",
    "\n",
    "# URL\n",
    "url = 'https://api.openweathermap.org/data/2.5/air_pollution'\n",
    "\n",
    "# API KEY de OpenWeatherMap (debe sustituirse por una real)\n",
    "API_KEY = 'xxxxxxxxxxxxxxxxxxxxxxxxxxxxxxxx'\n",
    "\n",
    "# Parámetros de la solicitud GET\n",
    "parametros = {\n",
    "    'lat': 9.93737623,   # Latitud decimal de la Escuela de Geografía de la UCR\n",
    "    'lon': -84.04258876, # Longitud decimal de la Escuela de Geografía de la UCR\n",
    "    'appid': API_KEY     # API_KEY de OpenWeatherMap\n",
    "}\n",
    "\n",
    "# Solicitud GET\n",
    "respuesta = requests.get(url, params=parametros)\n",
    "\n",
    "# Se verifica si la solicitud fue exitosa\n",
    "if respuesta.status_code == 200:\n",
    "    # La solicitud fue exitosa\n",
    "\n",
    "    # Se cargan en formato JSON los datos retornados\n",
    "    datos_calidad_aire = respuesta.json()\n",
    "\n",
    "    # Se extraen datos específicos\n",
    "    aqi = datos_calidad_aire['list'][0]['main']['aqi']\n",
    "    componentes = datos_calidad_aire['list'][0]['components']\n",
    "\n",
    "    # Mapeo del índice de calidad del aire a descripción\n",
    "    calidad_aire = {\n",
    "        1: 'Buena',\n",
    "        2: 'Aceptable',\n",
    "        3: 'Moderada',\n",
    "        4: 'Mala',\n",
    "        5: 'Muy mala'\n",
    "    }\n",
    "\n",
    "    print(f\"Índice de calidad del aire (AQI): {aqi} ({calidad_aire.get(aqi, 'Desconocido')})\")\n",
    "    print(\"Concentración de contaminantes (μg/m³):\")\n",
    "    for contaminante, valor in componentes.items():\n",
    "        print(f\"  {contaminante.upper()}: {valor}\")\n",
    "    \n",
    "    # Almacenamiento de datos en un archivo llamado \"datos-calidad-aire.json\"\n",
    "    with open('datos-calidad-aire.json', 'w', encoding='utf-8') as archivo:\n",
    "        json.dump(datos_calidad_aire, archivo, indent=4, ensure_ascii=False)\n",
    "else:\n",
    "    # Se produjo un error\n",
    "    print(f\"Error {respuesta.status_code}\")\n",
    "```"
   ]
  },
  {
   "cell_type": "markdown",
   "metadata": {},
   "source": [
    "Ejemplo de salida:"
   ]
  },
  {
   "cell_type": "markdown",
   "metadata": {},
   "source": [
    "```\n",
    "Índice de calidad del aire (AQI): 1 (Buena)\n",
    "Concentración de contaminantes (μg/m³):\n",
    "  CO: 660.9\n",
    "  NO: 9.95\n",
    "  NO2: 5.27\n",
    "  O3: 0\n",
    "  SO2: 3.82\n",
    "  PM2_5: 6.76\n",
    "  PM10: 7.19\n",
    "  NH3: 1.17\n",
    "```"
   ]
  },
  {
   "cell_type": "markdown",
   "metadata": {},
   "source": [
    "#### Ejercicios"
   ]
  },
  {
   "cell_type": "markdown",
   "metadata": {},
   "source": [
    "1. Pruebe los programas que acceden a OpenWeatherMap-Weather API con diferentes coordenadas y otros valores de entrada.\n",
    "2. Agregue el dato de porcentaje de nubosidad a la salida del programa que consulta el tiempo.\n",
    "3. Agregue el dato de la fecha y la hora de las mediciones a la salida del programa que consulta el tiempo.\n",
    "4. Busque otros elementos de datos que sean de interés para agregar a la salida del programa que consulta el tiempo.\n",
    "5. Agregue el dato de la fecha y la hora de las mediciones a la salida del programa que consulta la calidad del aire.\n",
    "6. Explore el [Geocoding API](https://openweathermap.org/api/geocoding-api) de OpenWeatherMap y elabore dos programas: uno para probar la geocodificación directa y otro para probar la geocodificación reversa.\n",
    "7. Explore otros [*endpoints* de OpenWeatherMap - Weather API](https://openweathermap.org/api) e implemente programas para probarlos."
   ]
  },
  {
   "cell_type": "markdown",
   "metadata": {},
   "source": [
    "### GBIF API"
   ]
  },
  {
   "cell_type": "markdown",
   "metadata": {},
   "source": [
    "`[GBIF](https://www.gbif.org/) (en inglés, *Global Biodiversity Information Facility*, en español, Infraestructura Mundial de Información en Biodiversidad) es una infraestructura internacional que proporciona acceso libre y abierto a datos sobre biodiversidad de todo el mundo. [GBIF API](https://techdocs.gbif.org/en/openapi/) permite acceder datos de registros de presencia de especies (*occurrences*), información taxonómica y metadatos de colecciones biológicas.\n",
    "\n",
    "El URL base de GBIF API es:\n",
    "`https://api.gbif.org/`\n",
    "\n",
    "Algunos de sus *endpoints* son:\n",
    "\n",
    "`https://api.gbif.org/v1/species/`: taxonomía  \n",
    "`https://api.gbif.org/v1/occurrence/`: registros de presencia  \n",
    "`https://api.gbif.org/v1/literature/`: literatura  \n",
    "`https://api.gbif.org/v2/map/`: mapas  \n",
    "\n",
    "El GBIF API también puede accederse mediante los paquetes [pygbif](https://www.gbif.org/tool/OlyoYyRbKCSCkMKIi4oIT/pygbif-gbif-python-client) (del lenguaje de programación R) y [rgbif](https://www.gbif.org/tool/81747/rgbif) (del lenguaje de programación Python).\n",
    "\n",
    "A continuación, se presentan ejemplos de uso del GBIF API."
   ]
  },
  {
   "cell_type": "markdown",
   "metadata": {},
   "source": [
    "#### Taxonomía"
   ]
  },
  {
   "cell_type": "markdown",
   "metadata": {},
   "source": [
    "Documentación \\\n",
    "[Species API: Technical Documentation](https://techdocs.gbif.org/en/openapi/v1/species)"
   ]
  },
  {
   "cell_type": "markdown",
   "metadata": {},
   "source": [
    "El *endpoint* [`https://api.gbif.org/v1/species/match`](https://techdocs.gbif.org/en/openapi/v1/species#/Searching%20names/matchNames) puede buscar un taxón (ej. una especie) por su nombre científico y retornar datos sobre su taxonomía, incluyendo su `taxonKey` (identificador único)."
   ]
  },
  {
   "cell_type": "code",
   "execution_count": 13,
   "metadata": {},
   "outputs": [
    {
     "name": "stdout",
     "output_type": "stream",
     "text": [
      "taxonKey de Panthera onca: 5219426\n"
     ]
    }
   ],
   "source": [
    "import requests\n",
    "import json\n",
    "\n",
    "# Nombre científico de la especie\n",
    "nombre_cientifico = 'Panthera onca'\n",
    "\n",
    "# URL\n",
    "url = 'https://api.gbif.org/v1/species/match'\n",
    "\n",
    "# Parámetros de la solicitud GET\n",
    "parametros = {\n",
    "    'name': nombre_cientifico,\n",
    "    'strict': True  # Asegura una coincidencia exacta en la búsqueda\n",
    "}\n",
    "\n",
    "# Solicitud GET\n",
    "respuesta = requests.get(url, params=parametros)\n",
    "\n",
    "# Verificación de la solicitud\n",
    "if respuesta.status_code == 200:\n",
    "    # La solicitud fue exitosa\n",
    "\n",
    "    # Se cargan en formato JSON los datos retornados\n",
    "    datos_taxon = respuesta.json()\n",
    "\n",
    "    # Obtención del taxonKey de la especie\n",
    "    taxon_key = datos_taxon.get('usageKey', 'No encontrado')\n",
    "\n",
    "    # Despliegue del taxonKey\n",
    "    print(f'taxonKey de {nombre_cientifico}: {taxon_key}')    \n",
    "\n",
    "    # Almacenamiento de datos en un archivo llamado \"datos-taxon.json\"\n",
    "    with open('datos-taxon.json', 'w', encoding='utf-8') as archivo:\n",
    "        json.dump(datos_taxon, archivo, indent=4, ensure_ascii=False)\n",
    "else:\n",
    "    # Se produjo un error\n",
    "    print(f\"Error {respuesta.status_code}\")"
   ]
  },
  {
   "cell_type": "markdown",
   "metadata": {},
   "source": [
    "#### Registros de presencia (*occurrences*)"
   ]
  },
  {
   "cell_type": "markdown",
   "metadata": {},
   "source": [
    "Documentación \\\n",
    "[Occurrence API: Technical Documentation](https://techdocs.gbif.org/en/openapi/v1/occurrence)"
   ]
  },
  {
   "cell_type": "markdown",
   "metadata": {},
   "source": [
    "El *endpoint* ['https://api.gbif.org/v1/occurrence/search'](https://techdocs.gbif.org/en/openapi/v1/occurrence#/Searching%20occurrences/searchOccurrence) se utiliza para buscar registros de presencia según diversos criterios (geográficos, taxonómicos, temporales, etc.).\n",
    "\n",
    "El siguiente bloque de código busca registros de presencia de especies en Costa Rica y que tengan coordenadas geográficas con base en el `taxonKey` de una especie o taxón. Se define una función llamada `obtener_taxon_key()` que recibe el nombre científico de una especie y retorna su `taxonKey` o `None` (si la especie no es encontrada)."
   ]
  },
  {
   "cell_type": "code",
   "execution_count": 24,
   "metadata": {},
   "outputs": [
    {
     "name": "stdout",
     "output_type": "stream",
     "text": [
      "Especie: Panthera onca\n",
      "Fecha: 2024-01-30T15:18:56\n",
      "Localidad: None\n",
      "Longitud: -83.579157, Latitud: 10.467856\n",
      "----------------------------------------\n",
      "Especie: Panthera onca\n",
      "Fecha: 2024-01-25T07:16\n",
      "Localidad: None\n",
      "Longitud: -84.655167, Latitud: 10.22839\n",
      "----------------------------------------\n",
      "Especie: Panthera onca\n",
      "Fecha: 2024-02-01T13:24:14\n",
      "Localidad: None\n",
      "Longitud: -83.566878, Latitud: 10.449497\n",
      "----------------------------------------\n",
      "Especie: Panthera onca\n",
      "Fecha: 2024-02-06T09:51\n",
      "Localidad: None\n",
      "Longitud: -83.565366, Latitud: 8.466594\n",
      "----------------------------------------\n",
      "Especie: Panthera onca\n",
      "Fecha: 2024-02-08T16:38\n",
      "Localidad: None\n",
      "Longitud: -83.563344, Latitud: 10.454353\n",
      "----------------------------------------\n",
      "Especie: Panthera onca\n",
      "Fecha: 2024-02-09T11:42\n",
      "Localidad: None\n",
      "Longitud: -83.548497, Latitud: 10.469183\n",
      "----------------------------------------\n",
      "Especie: Panthera onca\n",
      "Fecha: 2024-02-09T11:45\n",
      "Localidad: None\n",
      "Longitud: -83.449484, Latitud: 10.556402\n",
      "----------------------------------------\n",
      "Especie: Panthera onca\n",
      "Fecha: 2024-03-11T06:40\n",
      "Localidad: None\n",
      "Longitud: -84.675464, Latitud: 10.839945\n",
      "----------------------------------------\n",
      "Especie: Panthera onca\n",
      "Fecha: 2024-03-05T17:27\n",
      "Localidad: None\n",
      "Longitud: -84.754684, Latitud: 10.32483\n",
      "----------------------------------------\n",
      "Especie: Panthera onca\n",
      "Fecha: 2024-05-25T07:57\n",
      "Localidad: None\n",
      "Longitud: -83.45606, Latitud: 10.411646\n",
      "----------------------------------------\n",
      "Especie: Panthera onca\n",
      "Fecha: 2024-07-11T11:45\n",
      "Localidad: None\n",
      "Longitud: -85.667942, Latitud: 10.69378\n",
      "----------------------------------------\n",
      "Especie: Panthera onca\n",
      "Fecha: 2024-08-30T15:51:24\n",
      "Localidad: None\n",
      "Longitud: -83.403606, Latitud: 10.452461\n",
      "----------------------------------------\n",
      "Especie: Panthera onca\n",
      "Fecha: 2023-02-14T09:10:50\n",
      "Localidad: None\n",
      "Longitud: -83.414722, Latitud: 10.505114\n",
      "----------------------------------------\n",
      "Especie: Panthera onca\n",
      "Fecha: 2023-04-10T11:50:04\n",
      "Localidad: None\n",
      "Longitud: -85.725034, Latitud: 10.800742\n",
      "----------------------------------------\n",
      "Especie: Panthera onca\n",
      "Fecha: 2023-04-10T11:51:04\n",
      "Localidad: None\n",
      "Longitud: -85.738478, Latitud: 10.857479\n",
      "----------------------------------------\n",
      "Especie: Panthera onca\n",
      "Fecha: 2023-06-17T15:53\n",
      "Localidad: None\n",
      "Longitud: -85.429583, Latitud: 10.801074\n",
      "----------------------------------------\n",
      "Especie: Panthera onca\n",
      "Fecha: 2023-07-04T16:17:22\n",
      "Localidad: None\n",
      "Longitud: -84.171909, Latitud: 10.565713\n",
      "----------------------------------------\n",
      "Especie: Panthera onca\n",
      "Fecha: 2023-07-22T06:32\n",
      "Localidad: None\n",
      "Longitud: -84.640117, Latitud: 10.291615\n",
      "----------------------------------------\n",
      "Especie: Panthera onca\n",
      "Fecha: 2023-07-28T15:40\n",
      "Localidad: None\n",
      "Longitud: -84.688657, Latitud: 10.241681\n",
      "----------------------------------------\n",
      "Especie: Panthera onca\n",
      "Fecha: 2023-08-02T13:51\n",
      "Localidad: None\n",
      "Longitud: -84.752421, Latitud: 10.335011\n",
      "----------------------------------------\n",
      "Especie: Panthera onca\n",
      "Fecha: 2023-08-03T15:00\n",
      "Localidad: None\n",
      "Longitud: -84.744394, Latitud: 10.239703\n",
      "----------------------------------------\n",
      "Especie: Panthera onca\n",
      "Fecha: 2023-08-17T06:00\n",
      "Localidad: None\n",
      "Longitud: -84.715788, Latitud: 10.378098\n",
      "----------------------------------------\n",
      "Especie: Panthera onca\n",
      "Fecha: 2023-09-15T23:35\n",
      "Localidad: None\n",
      "Longitud: -84.713735, Latitud: 10.323172\n",
      "----------------------------------------\n",
      "Especie: Panthera onca\n",
      "Fecha: 2023-09-07T10:00\n",
      "Localidad: None\n",
      "Longitud: -84.75432, Latitud: 10.307928\n",
      "----------------------------------------\n",
      "Especie: Panthera onca\n",
      "Fecha: 2023-10-01T10:29:25\n",
      "Localidad: None\n",
      "Longitud: -83.152311, Latitud: 10.164605\n",
      "----------------------------------------\n",
      "Especie: Panthera onca\n",
      "Fecha: 2023-10-04T05:53:18\n",
      "Localidad: None\n",
      "Longitud: -83.234848, Latitud: 10.106577\n",
      "----------------------------------------\n",
      "Especie: Panthera onca\n",
      "Fecha: 2023-10-11T12:28:54\n",
      "Localidad: None\n",
      "Longitud: -85.655421, Latitud: 10.704329\n",
      "----------------------------------------\n",
      "Especie: Panthera onca\n",
      "Fecha: 2022-04-10\n",
      "Localidad: Estaciz\u0005xperimental Forestal Horizontes\n",
      "Longitud: -85.572084, Latitud: 10.738537\n",
      "----------------------------------------\n",
      "Especie: Panthera onca\n",
      "Fecha: 2022-04-10\n",
      "Localidad: Estaciz\u0005xperimental Forestal Horizontes\n",
      "Longitud: -85.572084, Latitud: 10.738537\n",
      "----------------------------------------\n",
      "Especie: Panthera onca\n",
      "Fecha: 2022-04-10\n",
      "Localidad: Estaciz\u0005xperimental Forestal Horizontes\n",
      "Longitud: -85.572084, Latitud: 10.738537\n",
      "----------------------------------------\n",
      "Especie: Panthera onca\n",
      "Fecha: 2022-04-11\n",
      "Localidad: Estaciz\u0005xperimental Forestal Horizontes\n",
      "Longitud: -85.560203, Latitud: 10.763197\n",
      "----------------------------------------\n",
      "Especie: Panthera onca\n",
      "Fecha: 2022-04-11\n",
      "Localidad: Estaciz\u0005xperimental Forestal Horizontes\n",
      "Longitud: -85.560203, Latitud: 10.763197\n",
      "----------------------------------------\n",
      "Especie: Panthera onca\n",
      "Fecha: 2022-04-11\n",
      "Localidad: Estaciz\u0005xperimental Forestal Horizontes\n",
      "Longitud: -85.560203, Latitud: 10.763197\n",
      "----------------------------------------\n",
      "Especie: Panthera onca\n",
      "Fecha: 2022-04-13\n",
      "Localidad: Estaciz\u0005xperimental Forestal Horizontes\n",
      "Longitud: -85.58463, Latitud: 10.72969\n",
      "----------------------------------------\n",
      "Especie: Panthera onca\n",
      "Fecha: 2022-04-13\n",
      "Localidad: Estaciz\u0005xperimental Forestal Horizontes\n",
      "Longitud: -85.58463, Latitud: 10.72969\n",
      "----------------------------------------\n",
      "Especie: Panthera onca\n",
      "Fecha: 2022-04-13\n",
      "Localidad: Estaciz\u0005xperimental Forestal Horizontes\n",
      "Longitud: -85.58463, Latitud: 10.72969\n",
      "----------------------------------------\n",
      "Especie: Panthera onca\n",
      "Fecha: 2022-04-24\n",
      "Localidad: Estaciz\u0005xperimental Forestal Horizontes\n",
      "Longitud: -85.572084, Latitud: 10.738537\n",
      "----------------------------------------\n",
      "Especie: Panthera onca\n",
      "Fecha: 2022-04-24\n",
      "Localidad: Estaciz\u0005xperimental Forestal Horizontes\n",
      "Longitud: -85.572084, Latitud: 10.738537\n",
      "----------------------------------------\n",
      "Especie: Panthera onca\n",
      "Fecha: 2022-04-24\n",
      "Localidad: Estaciz\u0005xperimental Forestal Horizontes\n",
      "Longitud: -85.572084, Latitud: 10.738537\n",
      "----------------------------------------\n",
      "Especie: Panthera onca\n",
      "Fecha: 2022-04-12T07:13:13\n",
      "Localidad: None\n",
      "Longitud: -83.528661, Latitud: 10.59766\n",
      "----------------------------------------\n",
      "Especie: Panthera onca\n",
      "Fecha: 2022-05-16\n",
      "Localidad: Estaciz\u0005xperimental Forestal Horizontes\n",
      "Longitud: -85.572084, Latitud: 10.738537\n",
      "----------------------------------------\n",
      "Especie: Panthera onca\n",
      "Fecha: 2022-05-16\n",
      "Localidad: Estaciz\u0005xperimental Forestal Horizontes\n",
      "Longitud: -85.572084, Latitud: 10.738537\n",
      "----------------------------------------\n",
      "Especie: Panthera onca\n",
      "Fecha: 2022-05-16\n",
      "Localidad: Estaciz\u0005xperimental Forestal Horizontes\n",
      "Longitud: -85.572084, Latitud: 10.738537\n",
      "----------------------------------------\n",
      "Especie: Panthera onca\n",
      "Fecha: 2022-05-16\n",
      "Localidad: Estaciz\u0005xperimental Forestal Horizontes\n",
      "Longitud: -85.572084, Latitud: 10.738537\n",
      "----------------------------------------\n",
      "Especie: Panthera onca\n",
      "Fecha: 2022-05-16\n",
      "Localidad: Estaciz\u0005xperimental Forestal Horizontes\n",
      "Longitud: -85.572084, Latitud: 10.738537\n",
      "----------------------------------------\n",
      "Especie: Panthera onca\n",
      "Fecha: 2022-05-16\n",
      "Localidad: Estaciz\u0005xperimental Forestal Horizontes\n",
      "Longitud: -85.572084, Latitud: 10.738537\n",
      "----------------------------------------\n",
      "Especie: Panthera onca\n",
      "Fecha: 2022-05-22T08:00\n",
      "Localidad: None\n",
      "Longitud: -85.592733, Latitud: 11.02931\n",
      "----------------------------------------\n",
      "Especie: Panthera onca\n",
      "Fecha: 2022-08-22T19:02\n",
      "Localidad: None\n",
      "Longitud: -83.562764, Latitud: 10.489799\n",
      "----------------------------------------\n",
      "Especie: Panthera onca\n",
      "Fecha: 2022-09-28T05:25\n",
      "Localidad: None\n",
      "Longitud: -85.659663, Latitud: 10.847266\n",
      "----------------------------------------\n",
      "Especie: Panthera onca\n",
      "Fecha: 2022-10-09T18:40\n",
      "Localidad: None\n",
      "Longitud: -83.544452, Latitud: 10.544223\n",
      "----------------------------------------\n",
      "Especie: Panthera onca\n",
      "Fecha: 2022-10-28T17:14:58\n",
      "Localidad: None\n",
      "Longitud: -84.012202, Latitud: 10.513393\n",
      "----------------------------------------\n",
      "Especie: Panthera onca\n",
      "Fecha: 2022-12-23\n",
      "Localidad: Estaciz\u0005xperimental Forestal Horizontes\n",
      "Longitud: -85.57318, Latitud: 10.73641\n",
      "----------------------------------------\n",
      "Especie: Panthera onca\n",
      "Fecha: 2022-12-10T11:02:58\n",
      "Localidad: None\n",
      "Longitud: -83.454236, Latitud: 10.407485\n",
      "----------------------------------------\n",
      "Especie: Panthera onca\n",
      "Fecha: 2021-03-16\n",
      "Localidad: RANCHO QUEMADO\n",
      "Longitud: -83.55255, Latitud: 8.704\n",
      "----------------------------------------\n",
      "Especie: Panthera onca\n",
      "Fecha: 2021-04-10T13:20:47\n",
      "Localidad: None\n",
      "Longitud: -84.084341, Latitud: 10.26186\n",
      "----------------------------------------\n",
      "Especie: Panthera onca\n",
      "Fecha: 2021-05-14\n",
      "Localidad: Estaciz\u0005xperimental Forestal Horizontes\n",
      "Longitud: -85.5949, Latitud: 10.726964\n",
      "----------------------------------------\n",
      "Especie: Panthera onca\n",
      "Fecha: 2021-05-14\n",
      "Localidad: Estaciz\u0005xperimental Forestal Horizontes\n",
      "Longitud: -85.5949, Latitud: 10.726964\n",
      "----------------------------------------\n",
      "Especie: Panthera onca\n",
      "Fecha: 2021-05-19\n",
      "Localidad: Estaciz\u0005xperimental Forestal Horizontes\n",
      "Longitud: -85.5949, Latitud: 10.726964\n",
      "----------------------------------------\n",
      "Especie: Panthera onca\n",
      "Fecha: 2021-09-22\n",
      "Localidad: Estaciz\u0005xperimental Forestal Horizontes\n",
      "Longitud: -85.5949, Latitud: 10.726964\n",
      "----------------------------------------\n",
      "Especie: Panthera onca\n",
      "Fecha: 2020-01-27T12:02\n",
      "Localidad: None\n",
      "Longitud: -83.589544, Latitud: 10.563141\n",
      "----------------------------------------\n",
      "Especie: Panthera onca\n",
      "Fecha: 2020-03-26T12:14\n",
      "Localidad: None\n",
      "Longitud: -84.753038, Latitud: 10.388769\n",
      "----------------------------------------\n",
      "Especie: Panthera onca\n",
      "Fecha: 2020-03-14T09:43\n",
      "Localidad: None\n",
      "Longitud: -83.387481, Latitud: 8.512211\n",
      "----------------------------------------\n",
      "Especie: Panthera onca\n",
      "Fecha: 2020-05-23\n",
      "Localidad: Estaciz\u0005xperimental Forestal Horizontes\n",
      "Longitud: -85.5949, Latitud: 10.726964\n",
      "----------------------------------------\n",
      "Especie: Panthera onca\n",
      "Fecha: 2020-09-10T16:09:05Z\n",
      "Localidad: None\n",
      "Longitud: -83.541359, Latitud: 9.876449\n",
      "----------------------------------------\n",
      "Especie: Panthera onca\n",
      "Fecha: 2019-02-20\n",
      "Localidad: MOGOS\n",
      "Longitud: -83.40155, Latitud: 8.74807\n",
      "----------------------------------------\n",
      "Especie: Panthera onca\n",
      "Fecha: 2019-02-20\n",
      "Localidad: MOGOS\n",
      "Longitud: -83.40155, Latitud: 8.74807\n",
      "----------------------------------------\n",
      "Especie: Panthera onca\n",
      "Fecha: 2019-02-20\n",
      "Localidad: MOGOS\n",
      "Longitud: -83.40155, Latitud: 8.74807\n",
      "----------------------------------------\n",
      "Especie: Panthera onca\n",
      "Fecha: 2019-02-20\n",
      "Localidad: MOGOS\n",
      "Longitud: -83.40155, Latitud: 8.74807\n",
      "----------------------------------------\n",
      "Especie: Panthera onca\n",
      "Fecha: 2019-02-20\n",
      "Localidad: MOGOS\n",
      "Longitud: -83.40155, Latitud: 8.74807\n",
      "----------------------------------------\n",
      "Especie: Panthera onca\n",
      "Fecha: 2019-02-20\n",
      "Localidad: MOGOS\n",
      "Longitud: -83.40155, Latitud: 8.74807\n",
      "----------------------------------------\n",
      "Especie: Panthera onca\n",
      "Fecha: 2019-02-28\n",
      "Localidad: RANCHO QUEMADO\n",
      "Longitud: -83.5835, Latitud: 8.68927\n",
      "----------------------------------------\n",
      "Especie: Panthera onca\n",
      "Fecha: 2019-02-28\n",
      "Localidad: RANCHO QUEMADO\n",
      "Longitud: -83.5835, Latitud: 8.68927\n",
      "----------------------------------------\n",
      "Especie: Panthera onca\n",
      "Fecha: 2019-02-28\n",
      "Localidad: RANCHO QUEMADO\n",
      "Longitud: -83.5835, Latitud: 8.68927\n",
      "----------------------------------------\n",
      "Especie: Panthera onca\n",
      "Fecha: 2019-03-18T12:01\n",
      "Localidad: None\n",
      "Longitud: -83.536003, Latitud: 10.50904\n",
      "----------------------------------------\n",
      "Especie: Panthera onca\n",
      "Fecha: 2019-04-11\n",
      "Localidad: RANCHO QUEMADO\n",
      "Longitud: -83.58411, Latitud: 8.67738\n",
      "----------------------------------------\n",
      "Especie: Panthera onca\n",
      "Fecha: 2019-04-17\n",
      "Localidad: MOGOS\n",
      "Longitud: -83.40155, Latitud: 8.74807\n",
      "----------------------------------------\n",
      "Especie: Panthera onca\n",
      "Fecha: 2019-04-17\n",
      "Localidad: MOGOS\n",
      "Longitud: -83.40155, Latitud: 8.74807\n",
      "----------------------------------------\n",
      "Especie: Panthera onca\n",
      "Fecha: 2019-04-17\n",
      "Localidad: MOGOS\n",
      "Longitud: -83.40155, Latitud: 8.74807\n",
      "----------------------------------------\n",
      "Especie: Panthera onca\n",
      "Fecha: 2019-04-26\n",
      "Localidad: MOGOS\n",
      "Longitud: -83.40155, Latitud: 8.74807\n",
      "----------------------------------------\n",
      "Especie: Panthera onca\n",
      "Fecha: 2019-04-26\n",
      "Localidad: MOGOS\n",
      "Longitud: -83.40155, Latitud: 8.74807\n",
      "----------------------------------------\n",
      "Especie: Panthera onca\n",
      "Fecha: 2019-04-26\n",
      "Localidad: MOGOS\n",
      "Longitud: -83.40155, Latitud: 8.74807\n",
      "----------------------------------------\n",
      "Especie: Panthera onca\n",
      "Fecha: 2019-04-26\n",
      "Localidad: MOGOS\n",
      "Longitud: -83.40155, Latitud: 8.74807\n",
      "----------------------------------------\n",
      "Especie: Panthera onca\n",
      "Fecha: 2019-04-26\n",
      "Localidad: MOGOS\n",
      "Longitud: -83.40155, Latitud: 8.74807\n",
      "----------------------------------------\n",
      "Especie: Panthera onca\n",
      "Fecha: 2019-04-01\n",
      "Localidad: RANCHO QUEMADO\n",
      "Longitud: -83.5835, Latitud: 8.68927\n",
      "----------------------------------------\n",
      "Especie: Panthera onca\n",
      "Fecha: 2019-04-01\n",
      "Localidad: RANCHO QUEMADO\n",
      "Longitud: -83.5835, Latitud: 8.68927\n",
      "----------------------------------------\n",
      "Especie: Panthera onca\n",
      "Fecha: 2019-04-01\n",
      "Localidad: RANCHO QUEMADO\n",
      "Longitud: -83.5835, Latitud: 8.68927\n",
      "----------------------------------------\n",
      "Especie: Panthera onca\n",
      "Fecha: 2019-04-15\n",
      "Localidad: RANCHO QUEMADO\n",
      "Longitud: -83.5835, Latitud: 8.68927\n",
      "----------------------------------------\n",
      "Especie: Panthera onca\n",
      "Fecha: 2019-04-15\n",
      "Localidad: RANCHO QUEMADO\n",
      "Longitud: -83.5835, Latitud: 8.68927\n",
      "----------------------------------------\n",
      "Especie: Panthera onca\n",
      "Fecha: 2019-04-15\n",
      "Localidad: RANCHO QUEMADO\n",
      "Longitud: -83.5835, Latitud: 8.68927\n",
      "----------------------------------------\n",
      "Especie: Panthera onca\n",
      "Fecha: 2019-05-07\n",
      "Localidad: RANCHO QUEMADO\n",
      "Longitud: -83.58411, Latitud: 8.67738\n",
      "----------------------------------------\n",
      "Especie: Panthera onca\n",
      "Fecha: 2019-05-31\n",
      "Localidad: MOGOS\n",
      "Longitud: -83.40155, Latitud: 8.74807\n",
      "----------------------------------------\n",
      "Especie: Panthera onca\n",
      "Fecha: 2019-05-31\n",
      "Localidad: MOGOS\n",
      "Longitud: -83.40155, Latitud: 8.74807\n",
      "----------------------------------------\n",
      "Especie: Panthera onca\n",
      "Fecha: 2019-05-31\n",
      "Localidad: MOGOS\n",
      "Longitud: -83.40155, Latitud: 8.74807\n",
      "----------------------------------------\n",
      "Especie: Panthera onca\n",
      "Fecha: 2019-07-04\n",
      "Localidad: RANCHO QUEMADO\n",
      "Longitud: -83.55246, Latitud: 8.70394\n",
      "----------------------------------------\n",
      "Especie: Panthera onca\n",
      "Fecha: 2019-07-04\n",
      "Localidad: RANCHO QUEMADO\n",
      "Longitud: -83.55246, Latitud: 8.70394\n",
      "----------------------------------------\n",
      "Especie: Panthera onca\n",
      "Fecha: 2019-07-04\n",
      "Localidad: RANCHO QUEMADO\n",
      "Longitud: -83.55246, Latitud: 8.70394\n",
      "----------------------------------------\n",
      "Especie: Panthera onca\n",
      "Fecha: 2019-07-06\n",
      "Localidad: RANCHO QUEMADO\n",
      "Longitud: -83.55246, Latitud: 8.70394\n",
      "----------------------------------------\n",
      "Especie: Panthera onca\n",
      "Fecha: 2019-08-02T08:43:13\n",
      "Localidad: None\n",
      "Longitud: -83.433084, Latitud: 10.558145\n",
      "----------------------------------------\n",
      "Especie: Panthera onca\n",
      "Fecha: 2019-09-18T16:22:35\n",
      "Localidad: None\n",
      "Longitud: -85.594155, Latitud: 10.843254\n",
      "----------------------------------------\n",
      "Especie: Panthera onca\n",
      "Fecha: 2019-10-08T22:07\n",
      "Localidad: None\n",
      "Longitud: -83.692092, Latitud: 10.724513\n",
      "----------------------------------------\n",
      "Especie: Panthera onca\n",
      "Fecha: 2018-04-08T10:07:40\n",
      "Localidad: None\n",
      "Longitud: -83.7266, Latitud: 8.78439\n",
      "----------------------------------------\n",
      "Especie: Panthera onca\n",
      "Fecha: 2018-04-07T08:46:16\n",
      "Localidad: None\n",
      "Longitud: -83.765998, Latitud: 8.73978\n",
      "----------------------------------------\n",
      "Especie: Panthera onca\n",
      "Fecha: 2018-06-21T20:38:21\n",
      "Localidad: None\n",
      "Longitud: -84.181651, Latitud: 10.416283\n",
      "----------------------------------------\n",
      "Especie: Panthera onca\n",
      "Fecha: 2017-12-13T09:06:13\n",
      "Localidad: None\n",
      "Longitud: -83.339621, Latitud: 8.657425\n",
      "----------------------------------------\n",
      "Especie: Panthera onca\n",
      "Fecha: 2016-01-29\n",
      "Localidad: None\n",
      "Longitud: -83.42066, Latitud: 10.482056\n",
      "----------------------------------------\n",
      "Especie: Panthera onca\n",
      "Fecha: 2015-10-06T15:52\n",
      "Localidad: None\n",
      "Longitud: -83.488668, Latitud: 8.839019\n",
      "----------------------------------------\n",
      "Especie: Panthera onca\n",
      "Fecha: 2014-04-15T15:53\n",
      "Localidad: None\n",
      "Longitud: -83.45907, Latitud: 10.523513\n",
      "----------------------------------------\n",
      "Especie: Panthera onca\n",
      "Fecha: 2013-04-05T09:33\n",
      "Localidad: None\n",
      "Longitud: -83.40461, Latitud: 10.568895\n",
      "----------------------------------------\n",
      "Especie: Panthera onca\n",
      "Fecha: 2013-05-03T11:47\n",
      "Localidad: None\n",
      "Longitud: -83.548784, Latitud: 10.485827\n",
      "----------------------------------------\n",
      "Especie: Panthera onca\n",
      "Fecha: 2013-05-23T09:06\n",
      "Localidad: None\n",
      "Longitud: -83.378839, Latitud: 10.231784\n",
      "----------------------------------------\n",
      "Especie: Panthera onca\n",
      "Fecha: 2013-09-13\n",
      "Localidad: None\n",
      "Longitud: -83.477647, Latitud: 10.461741\n",
      "----------------------------------------\n",
      "Especie: Panthera onca\n",
      "Fecha: 2013-12-28T07:44\n",
      "Localidad: None\n",
      "Longitud: -85.64662, Latitud: 10.947836\n",
      "----------------------------------------\n",
      "Especie: Panthera onca\n",
      "Fecha: 2012-12-26\n",
      "Localidad: None\n",
      "Longitud: -85.614037, Latitud: 10.651345\n",
      "----------------------------------------\n",
      "Especie: Panthera onca\n",
      "Fecha: 2011-02-15T09:28Z\n",
      "Localidad: None\n",
      "Longitud: -85.798497, Latitud: 10.865281\n",
      "----------------------------------------\n",
      "Especie: Panthera onca\n",
      "Fecha: 2011-06-22T17:02Z\n",
      "Localidad: None\n",
      "Longitud: -83.542163, Latitud: 10.445335\n",
      "----------------------------------------\n",
      "Especie: Panthera onca\n",
      "Fecha: 2009-03-31T14:32\n",
      "Localidad: None\n",
      "Longitud: -83.563265, Latitud: 10.424067\n",
      "----------------------------------------\n",
      "Especie: Panthera onca\n",
      "Fecha: 2009-03-16T15:06\n",
      "Localidad: None\n",
      "Longitud: -84.008126, Latitud: 10.205651\n",
      "----------------------------------------\n",
      "Especie: Panthera onca\n",
      "Fecha: 2009-11-08\n",
      "Localidad: None\n",
      "Longitud: -83.458064, Latitud: 8.446631\n",
      "----------------------------------------\n",
      "Especie: Panthera onca\n",
      "Fecha: 2007-04-09T10:18\n",
      "Localidad: None\n",
      "Longitud: -84.19855, Latitud: 10.260415\n",
      "----------------------------------------\n",
      "Especie: Panthera onca\n",
      "Fecha: 2003-08-04\n",
      "Localidad: None\n",
      "Longitud: -85.623591, Latitud: 10.70885\n",
      "----------------------------------------\n",
      "Especie: Panthera onca\n",
      "Fecha: 1993-06-10\n",
      "Localidad: DELICIAS DE UPALA, 2 KM N OF\n",
      "Longitud: -85.0146, Latitud: 10.9197\n",
      "----------------------------------------\n",
      "Especie: Panthera onca\n",
      "Fecha: 1993-06-10\n",
      "Localidad: DELICIAS DE UPALA, 2 KM N OF\n",
      "Longitud: -85.05, Latitud: 10.96808\n",
      "----------------------------------------\n",
      "Especie: Panthera onca\n",
      "Fecha: None\n",
      "Localidad: None\n",
      "Longitud: -84.0, Latitud: 9.95\n",
      "----------------------------------------\n",
      "Se han guardado 123 registros de presencia en el archivo 'registros-presencia.geojson'\n"
     ]
    }
   ],
   "source": [
    "import requests\n",
    "import json\n",
    "\n",
    "def obtener_taxon_key(nombre_cientifico):\n",
    "    url = 'https://api.gbif.org/v1/species/match'\n",
    "\n",
    "    parametros = {\n",
    "        'name': nombre_cientifico,\n",
    "        'strict': True  # Asegura una coincidencia exacta\n",
    "    }\n",
    "\n",
    "    respuesta = requests.get(url, params=parametros)\n",
    "    \n",
    "    if respuesta.status_code == 200:\n",
    "        datos = respuesta.json()\n",
    "        \n",
    "        # Se revisa si la llave usageKy está presente en datos\n",
    "        if 'usageKey' in datos:\n",
    "            return datos['usageKey']\n",
    "        else:\n",
    "            return None\n",
    "    else:\n",
    "        return None\n",
    "\n",
    "# Nombre científico de la especie\n",
    "nombre_cientifico = 'Panthera onca'\n",
    "\n",
    "# taxonKey de la especie\n",
    "taxon_key = obtener_taxon_key(nombre_cientifico)\n",
    "\n",
    "if taxon_key:\n",
    "    # Se encontró el taxonKey\n",
    "\n",
    "    # URL\n",
    "    url = 'https://api.gbif.org/v1/occurrence/search'\n",
    "\n",
    "    # Parámetros de la solicitud GET\n",
    "    parametros = {\n",
    "        'country': 'CR',          # Código de país ISO para Costa Rica\n",
    "        'taxonKey': taxon_key,\n",
    "        'limit': 300,             # Número máximo de registros a obtener (máximo 300 por solicitud)\n",
    "        'hasCoordinate': 'true'   # Solo se incluyen registros de presencia con coordenadas\n",
    "    }\n",
    "\n",
    "    # Solicitud GET\n",
    "    respuesta = requests.get(url, params=parametros)\n",
    "\n",
    "    # Se verifica si la solicitud fue exitosa\n",
    "    if respuesta.status_code == 200:\n",
    "        # La solicitud fue exitosa\n",
    "\n",
    "        # Se cargan en formato JSON los datos retornados\n",
    "        datos_registros = respuesta.json()\n",
    "\n",
    "        # Se extraen las ocurrencias\n",
    "        registros = datos_registros['results']\n",
    "\n",
    "        # Lista para las features de GeoJSON\n",
    "        features = []\n",
    "\n",
    "        # Se recorren los datos de registros de presencia y se convierten a features GeoJSON\n",
    "        for registro in registros:\n",
    "            especie = registro.get('species')\n",
    "            fecha = registro.get('eventDate')\n",
    "            localidad = registro.get('locality')\n",
    "            latitud = registro.get('decimalLatitude')\n",
    "            longitud = registro.get('decimalLongitude')\n",
    "\n",
    "            print(f\"Especie: {especie}\")\n",
    "            print(f\"Fecha: {fecha}\")\n",
    "            print(f\"Localidad: {localidad}\")\n",
    "            print(f\"Longitud: {longitud}, Latitud: {latitud}\")\n",
    "            print(\"-\" * 40)        \n",
    "\n",
    "            # Se verifica que las coordenadas están presentes\n",
    "            if latitud is not None and longitud is not None:\n",
    "                feature = {\n",
    "                    \"type\": \"Feature\",\n",
    "                    \"geometry\": {\n",
    "                        \"type\": \"Point\",\n",
    "                        \"coordinates\": [longitud, latitud]  # GeoJSON utiliza el orden [longitud, latitud]\n",
    "                    },\n",
    "                    \"properties\": {\n",
    "                        \"species\": especie,\n",
    "                        \"eventDate\": fecha,\n",
    "                        \"locality\": localidad\n",
    "                    }\n",
    "                }\n",
    "                features.append(feature)\n",
    "\n",
    "        # Crear el FeatureCollection GeoJSON\n",
    "        geojson = {\n",
    "            \"type\": \"FeatureCollection\",\n",
    "            \"features\": features\n",
    "        }\n",
    "\n",
    "        # Almacenamiento de datos en un archivo llamado \"datos-registros-presencia.geojson\"\n",
    "        with open('registros-presencia.geojson', 'w', encoding='utf-8') as archivo:\n",
    "            json.dump(geojson, archivo, indent=4, ensure_ascii=False)\n",
    "\n",
    "        print(f\"Se han guardado {len(features)} registros de presencia en el archivo 'registros-presencia.geojson'\")\n",
    "    else:\n",
    "        # Se produjo un error\n",
    "        print(f\"Error {respuesta.status_code}\")\n",
    "else:\n",
    "    print(f'No se encontró el taxonKey de {nombre_cientifico}')\n",
    "\n",
    "\n",
    "\n"
   ]
  },
  {
   "cell_type": "markdown",
   "metadata": {},
   "source": [
    "#### Visualización"
   ]
  },
  {
   "cell_type": "markdown",
   "metadata": {},
   "source": [
    "Para generar las visualizaciones que se muestran en las secciones siguientes, deben instalarse los paquetes `matplotlib`, `plotly`, `geopandas`, `leafmap` y `localtileserver`.\n",
    "\n",
    "Para la instalación en un ambiente conda, pueden ejecutarse los comandos:\n",
    "\n",
    "```bash\n",
    "conda config --env --add channels conda-forge\n",
    "conda config --env --set channel_priority strict\n",
    "\n",
    "mamba install -c conda-forge matplotlib plotly geopandas leafmap localtileserver\n",
    "```"
   ]
  },
  {
   "cell_type": "markdown",
   "metadata": {},
   "source": [
    "##### Gráfico de registros de presencia por mes"
   ]
  },
  {
   "cell_type": "code",
   "execution_count": 27,
   "metadata": {},
   "outputs": [
    {
     "data": {
      "application/vnd.plotly.v1+json": {
       "config": {
        "plotlyServerURL": "https://plot.ly"
       },
       "data": [
        {
         "alignmentgroup": "True",
         "hovertemplate": "Mes=%{x}<br>Cantidad de registros de presencia=%{text}<extra></extra>",
         "legendgroup": "",
         "marker": {
          "color": "#636efa",
          "pattern": {
           "shape": ""
          }
         },
         "name": "",
         "offsetgroup": "",
         "orientation": "v",
         "showlegend": false,
         "text": [
          4,
          16,
          8,
          36,
          18,
          5,
          8,
          7,
          7,
          7,
          1,
          5
         ],
         "textposition": "auto",
         "type": "bar",
         "x": [
          "Enero",
          "Febrero",
          "Marzo",
          "Abril",
          "Mayo",
          "Junio",
          "Julio",
          "Agosto",
          "Septiembre",
          "Octubre",
          "Noviembre",
          "Diciembre"
         ],
         "xaxis": "x",
         "y": [
          4,
          16,
          8,
          36,
          18,
          5,
          8,
          7,
          7,
          7,
          1,
          5
         ],
         "yaxis": "y"
        }
       ],
       "layout": {
        "barmode": "relative",
        "legend": {
         "tracegroupgap": 0
        },
        "template": {
         "data": {
          "bar": [
           {
            "error_x": {
             "color": "#2a3f5f"
            },
            "error_y": {
             "color": "#2a3f5f"
            },
            "marker": {
             "line": {
              "color": "white",
              "width": 0.5
             },
             "pattern": {
              "fillmode": "overlay",
              "size": 10,
              "solidity": 0.2
             }
            },
            "type": "bar"
           }
          ],
          "barpolar": [
           {
            "marker": {
             "line": {
              "color": "white",
              "width": 0.5
             },
             "pattern": {
              "fillmode": "overlay",
              "size": 10,
              "solidity": 0.2
             }
            },
            "type": "barpolar"
           }
          ],
          "carpet": [
           {
            "aaxis": {
             "endlinecolor": "#2a3f5f",
             "gridcolor": "#C8D4E3",
             "linecolor": "#C8D4E3",
             "minorgridcolor": "#C8D4E3",
             "startlinecolor": "#2a3f5f"
            },
            "baxis": {
             "endlinecolor": "#2a3f5f",
             "gridcolor": "#C8D4E3",
             "linecolor": "#C8D4E3",
             "minorgridcolor": "#C8D4E3",
             "startlinecolor": "#2a3f5f"
            },
            "type": "carpet"
           }
          ],
          "choropleth": [
           {
            "colorbar": {
             "outlinewidth": 0,
             "ticks": ""
            },
            "type": "choropleth"
           }
          ],
          "contour": [
           {
            "colorbar": {
             "outlinewidth": 0,
             "ticks": ""
            },
            "colorscale": [
             [
              0,
              "#0d0887"
             ],
             [
              0.1111111111111111,
              "#46039f"
             ],
             [
              0.2222222222222222,
              "#7201a8"
             ],
             [
              0.3333333333333333,
              "#9c179e"
             ],
             [
              0.4444444444444444,
              "#bd3786"
             ],
             [
              0.5555555555555556,
              "#d8576b"
             ],
             [
              0.6666666666666666,
              "#ed7953"
             ],
             [
              0.7777777777777778,
              "#fb9f3a"
             ],
             [
              0.8888888888888888,
              "#fdca26"
             ],
             [
              1,
              "#f0f921"
             ]
            ],
            "type": "contour"
           }
          ],
          "contourcarpet": [
           {
            "colorbar": {
             "outlinewidth": 0,
             "ticks": ""
            },
            "type": "contourcarpet"
           }
          ],
          "heatmap": [
           {
            "colorbar": {
             "outlinewidth": 0,
             "ticks": ""
            },
            "colorscale": [
             [
              0,
              "#0d0887"
             ],
             [
              0.1111111111111111,
              "#46039f"
             ],
             [
              0.2222222222222222,
              "#7201a8"
             ],
             [
              0.3333333333333333,
              "#9c179e"
             ],
             [
              0.4444444444444444,
              "#bd3786"
             ],
             [
              0.5555555555555556,
              "#d8576b"
             ],
             [
              0.6666666666666666,
              "#ed7953"
             ],
             [
              0.7777777777777778,
              "#fb9f3a"
             ],
             [
              0.8888888888888888,
              "#fdca26"
             ],
             [
              1,
              "#f0f921"
             ]
            ],
            "type": "heatmap"
           }
          ],
          "heatmapgl": [
           {
            "colorbar": {
             "outlinewidth": 0,
             "ticks": ""
            },
            "colorscale": [
             [
              0,
              "#0d0887"
             ],
             [
              0.1111111111111111,
              "#46039f"
             ],
             [
              0.2222222222222222,
              "#7201a8"
             ],
             [
              0.3333333333333333,
              "#9c179e"
             ],
             [
              0.4444444444444444,
              "#bd3786"
             ],
             [
              0.5555555555555556,
              "#d8576b"
             ],
             [
              0.6666666666666666,
              "#ed7953"
             ],
             [
              0.7777777777777778,
              "#fb9f3a"
             ],
             [
              0.8888888888888888,
              "#fdca26"
             ],
             [
              1,
              "#f0f921"
             ]
            ],
            "type": "heatmapgl"
           }
          ],
          "histogram": [
           {
            "marker": {
             "pattern": {
              "fillmode": "overlay",
              "size": 10,
              "solidity": 0.2
             }
            },
            "type": "histogram"
           }
          ],
          "histogram2d": [
           {
            "colorbar": {
             "outlinewidth": 0,
             "ticks": ""
            },
            "colorscale": [
             [
              0,
              "#0d0887"
             ],
             [
              0.1111111111111111,
              "#46039f"
             ],
             [
              0.2222222222222222,
              "#7201a8"
             ],
             [
              0.3333333333333333,
              "#9c179e"
             ],
             [
              0.4444444444444444,
              "#bd3786"
             ],
             [
              0.5555555555555556,
              "#d8576b"
             ],
             [
              0.6666666666666666,
              "#ed7953"
             ],
             [
              0.7777777777777778,
              "#fb9f3a"
             ],
             [
              0.8888888888888888,
              "#fdca26"
             ],
             [
              1,
              "#f0f921"
             ]
            ],
            "type": "histogram2d"
           }
          ],
          "histogram2dcontour": [
           {
            "colorbar": {
             "outlinewidth": 0,
             "ticks": ""
            },
            "colorscale": [
             [
              0,
              "#0d0887"
             ],
             [
              0.1111111111111111,
              "#46039f"
             ],
             [
              0.2222222222222222,
              "#7201a8"
             ],
             [
              0.3333333333333333,
              "#9c179e"
             ],
             [
              0.4444444444444444,
              "#bd3786"
             ],
             [
              0.5555555555555556,
              "#d8576b"
             ],
             [
              0.6666666666666666,
              "#ed7953"
             ],
             [
              0.7777777777777778,
              "#fb9f3a"
             ],
             [
              0.8888888888888888,
              "#fdca26"
             ],
             [
              1,
              "#f0f921"
             ]
            ],
            "type": "histogram2dcontour"
           }
          ],
          "mesh3d": [
           {
            "colorbar": {
             "outlinewidth": 0,
             "ticks": ""
            },
            "type": "mesh3d"
           }
          ],
          "parcoords": [
           {
            "line": {
             "colorbar": {
              "outlinewidth": 0,
              "ticks": ""
             }
            },
            "type": "parcoords"
           }
          ],
          "pie": [
           {
            "automargin": true,
            "type": "pie"
           }
          ],
          "scatter": [
           {
            "fillpattern": {
             "fillmode": "overlay",
             "size": 10,
             "solidity": 0.2
            },
            "type": "scatter"
           }
          ],
          "scatter3d": [
           {
            "line": {
             "colorbar": {
              "outlinewidth": 0,
              "ticks": ""
             }
            },
            "marker": {
             "colorbar": {
              "outlinewidth": 0,
              "ticks": ""
             }
            },
            "type": "scatter3d"
           }
          ],
          "scattercarpet": [
           {
            "marker": {
             "colorbar": {
              "outlinewidth": 0,
              "ticks": ""
             }
            },
            "type": "scattercarpet"
           }
          ],
          "scattergeo": [
           {
            "marker": {
             "colorbar": {
              "outlinewidth": 0,
              "ticks": ""
             }
            },
            "type": "scattergeo"
           }
          ],
          "scattergl": [
           {
            "marker": {
             "colorbar": {
              "outlinewidth": 0,
              "ticks": ""
             }
            },
            "type": "scattergl"
           }
          ],
          "scattermapbox": [
           {
            "marker": {
             "colorbar": {
              "outlinewidth": 0,
              "ticks": ""
             }
            },
            "type": "scattermapbox"
           }
          ],
          "scatterpolar": [
           {
            "marker": {
             "colorbar": {
              "outlinewidth": 0,
              "ticks": ""
             }
            },
            "type": "scatterpolar"
           }
          ],
          "scatterpolargl": [
           {
            "marker": {
             "colorbar": {
              "outlinewidth": 0,
              "ticks": ""
             }
            },
            "type": "scatterpolargl"
           }
          ],
          "scatterternary": [
           {
            "marker": {
             "colorbar": {
              "outlinewidth": 0,
              "ticks": ""
             }
            },
            "type": "scatterternary"
           }
          ],
          "surface": [
           {
            "colorbar": {
             "outlinewidth": 0,
             "ticks": ""
            },
            "colorscale": [
             [
              0,
              "#0d0887"
             ],
             [
              0.1111111111111111,
              "#46039f"
             ],
             [
              0.2222222222222222,
              "#7201a8"
             ],
             [
              0.3333333333333333,
              "#9c179e"
             ],
             [
              0.4444444444444444,
              "#bd3786"
             ],
             [
              0.5555555555555556,
              "#d8576b"
             ],
             [
              0.6666666666666666,
              "#ed7953"
             ],
             [
              0.7777777777777778,
              "#fb9f3a"
             ],
             [
              0.8888888888888888,
              "#fdca26"
             ],
             [
              1,
              "#f0f921"
             ]
            ],
            "type": "surface"
           }
          ],
          "table": [
           {
            "cells": {
             "fill": {
              "color": "#EBF0F8"
             },
             "line": {
              "color": "white"
             }
            },
            "header": {
             "fill": {
              "color": "#C8D4E3"
             },
             "line": {
              "color": "white"
             }
            },
            "type": "table"
           }
          ]
         },
         "layout": {
          "annotationdefaults": {
           "arrowcolor": "#2a3f5f",
           "arrowhead": 0,
           "arrowwidth": 1
          },
          "autotypenumbers": "strict",
          "coloraxis": {
           "colorbar": {
            "outlinewidth": 0,
            "ticks": ""
           }
          },
          "colorscale": {
           "diverging": [
            [
             0,
             "#8e0152"
            ],
            [
             0.1,
             "#c51b7d"
            ],
            [
             0.2,
             "#de77ae"
            ],
            [
             0.3,
             "#f1b6da"
            ],
            [
             0.4,
             "#fde0ef"
            ],
            [
             0.5,
             "#f7f7f7"
            ],
            [
             0.6,
             "#e6f5d0"
            ],
            [
             0.7,
             "#b8e186"
            ],
            [
             0.8,
             "#7fbc41"
            ],
            [
             0.9,
             "#4d9221"
            ],
            [
             1,
             "#276419"
            ]
           ],
           "sequential": [
            [
             0,
             "#0d0887"
            ],
            [
             0.1111111111111111,
             "#46039f"
            ],
            [
             0.2222222222222222,
             "#7201a8"
            ],
            [
             0.3333333333333333,
             "#9c179e"
            ],
            [
             0.4444444444444444,
             "#bd3786"
            ],
            [
             0.5555555555555556,
             "#d8576b"
            ],
            [
             0.6666666666666666,
             "#ed7953"
            ],
            [
             0.7777777777777778,
             "#fb9f3a"
            ],
            [
             0.8888888888888888,
             "#fdca26"
            ],
            [
             1,
             "#f0f921"
            ]
           ],
           "sequentialminus": [
            [
             0,
             "#0d0887"
            ],
            [
             0.1111111111111111,
             "#46039f"
            ],
            [
             0.2222222222222222,
             "#7201a8"
            ],
            [
             0.3333333333333333,
             "#9c179e"
            ],
            [
             0.4444444444444444,
             "#bd3786"
            ],
            [
             0.5555555555555556,
             "#d8576b"
            ],
            [
             0.6666666666666666,
             "#ed7953"
            ],
            [
             0.7777777777777778,
             "#fb9f3a"
            ],
            [
             0.8888888888888888,
             "#fdca26"
            ],
            [
             1,
             "#f0f921"
            ]
           ]
          },
          "colorway": [
           "#636efa",
           "#EF553B",
           "#00cc96",
           "#ab63fa",
           "#FFA15A",
           "#19d3f3",
           "#FF6692",
           "#B6E880",
           "#FF97FF",
           "#FECB52"
          ],
          "font": {
           "color": "#2a3f5f"
          },
          "geo": {
           "bgcolor": "white",
           "lakecolor": "white",
           "landcolor": "white",
           "showlakes": true,
           "showland": true,
           "subunitcolor": "#C8D4E3"
          },
          "hoverlabel": {
           "align": "left"
          },
          "hovermode": "closest",
          "mapbox": {
           "style": "light"
          },
          "paper_bgcolor": "white",
          "plot_bgcolor": "white",
          "polar": {
           "angularaxis": {
            "gridcolor": "#EBF0F8",
            "linecolor": "#EBF0F8",
            "ticks": ""
           },
           "bgcolor": "white",
           "radialaxis": {
            "gridcolor": "#EBF0F8",
            "linecolor": "#EBF0F8",
            "ticks": ""
           }
          },
          "scene": {
           "xaxis": {
            "backgroundcolor": "white",
            "gridcolor": "#DFE8F3",
            "gridwidth": 2,
            "linecolor": "#EBF0F8",
            "showbackground": true,
            "ticks": "",
            "zerolinecolor": "#EBF0F8"
           },
           "yaxis": {
            "backgroundcolor": "white",
            "gridcolor": "#DFE8F3",
            "gridwidth": 2,
            "linecolor": "#EBF0F8",
            "showbackground": true,
            "ticks": "",
            "zerolinecolor": "#EBF0F8"
           },
           "zaxis": {
            "backgroundcolor": "white",
            "gridcolor": "#DFE8F3",
            "gridwidth": 2,
            "linecolor": "#EBF0F8",
            "showbackground": true,
            "ticks": "",
            "zerolinecolor": "#EBF0F8"
           }
          },
          "shapedefaults": {
           "line": {
            "color": "#2a3f5f"
           }
          },
          "ternary": {
           "aaxis": {
            "gridcolor": "#DFE8F3",
            "linecolor": "#A2B1C6",
            "ticks": ""
           },
           "baxis": {
            "gridcolor": "#DFE8F3",
            "linecolor": "#A2B1C6",
            "ticks": ""
           },
           "bgcolor": "white",
           "caxis": {
            "gridcolor": "#DFE8F3",
            "linecolor": "#A2B1C6",
            "ticks": ""
           }
          },
          "title": {
           "x": 0.05
          },
          "xaxis": {
           "automargin": true,
           "gridcolor": "#EBF0F8",
           "linecolor": "#EBF0F8",
           "ticks": "",
           "title": {
            "standoff": 15
           },
           "zerolinecolor": "#EBF0F8",
           "zerolinewidth": 2
          },
          "yaxis": {
           "automargin": true,
           "gridcolor": "#EBF0F8",
           "linecolor": "#EBF0F8",
           "ticks": "",
           "title": {
            "standoff": 15
           },
           "zerolinecolor": "#EBF0F8",
           "zerolinewidth": 2
          }
         }
        },
        "title": {
         "text": "Cantidad de registros de presencia por mes",
         "x": 0.5
        },
        "xaxis": {
         "anchor": "y",
         "domain": [
          0,
          1
         ],
         "tickangle": -45,
         "title": {
          "text": "Mes"
         }
        },
        "yaxis": {
         "anchor": "x",
         "domain": [
          0,
          1
         ],
         "title": {
          "text": "Registros de presencia"
         }
        }
       }
      }
     },
     "metadata": {},
     "output_type": "display_data"
    }
   ],
   "source": [
    "import pandas as pd\n",
    "import geopandas as gpd\n",
    "import plotly.express as px\n",
    "\n",
    "# Lista de nombres de meses en español\n",
    "meses_espanol = [\n",
    "    'Desconocido',  # Índice 0\n",
    "    'Enero', 'Febrero', 'Marzo', 'Abril', 'Mayo', 'Junio',\n",
    "    'Julio', 'Agosto', 'Septiembre', 'Octubre', 'Noviembre', 'Diciembre'\n",
    "]\n",
    "\n",
    "# Lectura del archivo GeoJSON en un GeoDataFrame\n",
    "gdf = gpd.read_file('registros-presencia.geojson')\n",
    "\n",
    "# Conversión de 'eventDate' a hilera de texto y luego a formato datetime\n",
    "gdf['eventDate'] = gdf['eventDate'].astype(str)\n",
    "gdf['eventDate'] = pd.to_datetime(gdf['eventDate'], errors='coerce')\n",
    "\n",
    "# Extracción del número del mes\n",
    "gdf['mes_num'] = gdf['eventDate'].dt.month\n",
    "# Mapear los números de mes a nombres en español\n",
    "gdf['mes'] = gdf['mes_num'].apply(\n",
    "    lambda x: meses_espanol[int(x)] if pd.notnull(x) and x >= 1 and x <= 12 else 'Desconocido'\n",
    ")\n",
    "\n",
    "# Conteo y ordenamiento de la cantidad de registros de presencia por mes\n",
    "registros_por_mes = gdf.groupby(['mes_num', 'mes']).size().reset_index(name='cantidad')\n",
    "registros_por_mes = registros_por_mes.sort_values('mes_num')\n",
    "\n",
    "# Creación del gráfico de barras interactivo con plotly\n",
    "fig = px.bar(\n",
    "    registros_por_mes,\n",
    "    x='mes',\n",
    "    y='cantidad',\n",
    "    title='Cantidad de registros de presencia por mes',\n",
    "    labels={'mes': 'Mes', 'cantidad': 'Cantidad de registros de presencia'},\n",
    "    text='cantidad'\n",
    ")\n",
    "\n",
    "# Ajustes al gráfico\n",
    "fig.update_layout(\n",
    "    xaxis_tickangle=-45,\n",
    "    xaxis_title='Mes',\n",
    "    yaxis_title='Registros de presencia',\n",
    "    title_x=0.5,\n",
    "    template='plotly_white'\n",
    ")\n",
    "\n",
    "# Despliegue del gráfico\n",
    "fig.show()"
   ]
  },
  {
   "cell_type": "markdown",
   "metadata": {},
   "source": [
    "##### Mapa de distribución de registros de presencia"
   ]
  },
  {
   "cell_type": "code",
   "execution_count": 29,
   "metadata": {},
   "outputs": [
    {
     "data": {
      "application/vnd.jupyter.widget-view+json": {
       "model_id": "acb2ba8338114f5a95ec1f0a8d458294",
       "version_major": 2,
       "version_minor": 0
      },
      "text/plain": [
       "Map(center=[9.972725, -84.19451], controls=(ZoomControl(options=['position', 'zoom_in_text', 'zoom_in_title', …"
      ]
     },
     "execution_count": 29,
     "metadata": {},
     "output_type": "execute_result"
    }
   ],
   "source": [
    "import leafmap\n",
    "\n",
    "# Creación de un objeto Map de leafmap centrado en Costa Rica\n",
    "m = leafmap.Map(center=(9.972725, -84.19451), zoom=7)\n",
    "\n",
    "# Adición de datos GeoJSON al mapa\n",
    "m.add_point_layer(\n",
    "    'registros-presencia.geojson', \n",
    "    popup=[\"species\", \"eventDate\", \"locality\"], \n",
    "    layer_name=\"Registros de presencia\"\n",
    ")\n",
    "\n",
    "# Despliegue del mapa\n",
    "m\n"
   ]
  }
 ],
 "metadata": {
  "kernelspec": {
   "display_name": "Python 3 (ipykernel)",
   "language": "python",
   "name": "python3"
  },
  "language_info": {
   "codemirror_mode": {
    "name": "ipython",
    "version": 3
   },
   "file_extension": ".py",
   "mimetype": "text/x-python",
   "name": "python",
   "nbconvert_exporter": "python",
   "pygments_lexer": "ipython3",
   "version": "3.12.5"
  }
 },
 "nbformat": 4,
 "nbformat_minor": 2
}
